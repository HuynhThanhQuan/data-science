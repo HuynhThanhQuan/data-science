{
 "cells": [
  {
   "cell_type": "code",
   "execution_count": 2,
   "metadata": {},
   "outputs": [],
   "source": [
    "# BASE CASE: \n",
    "# empty one of 2 lists, score 0\n",
    "# GENERAL CASE:\n",
    "# Substract common elements in 2 lists\n",
    "# Find NAND elements between 2 lists, \n",
    "# score = 1 - NAND/max_dimension\n",
    "def score2lists(list1, list2):\n",
    "    if len(list1)!=0 and len(list2) != 0:\n",
    "        if len(list1) > len(list2):\n",
    "            max_dim = len(list1)\n",
    "            nand = list1.copy()\n",
    "            for entry in list2:\n",
    "                if entry in nand:\n",
    "                    nand.remove(entry)\n",
    "        else:\n",
    "            max_dim = len(list2)\n",
    "            nand = list2.copy()\n",
    "            for entry in list1:\n",
    "                if entry in nand:\n",
    "                    nand.remove(entry)\n",
    "        score = 1 - len(nand)/max_dim\n",
    "        return score\n",
    "    return 0"
   ]
  }
 ],
 "metadata": {
  "kernelspec": {
   "display_name": "Python 3",
   "language": "python",
   "name": "python3"
  },
  "language_info": {
   "codemirror_mode": {
    "name": "ipython",
    "version": 3
   },
   "file_extension": ".py",
   "mimetype": "text/x-python",
   "name": "python",
   "nbconvert_exporter": "python",
   "pygments_lexer": "ipython3",
   "version": "3.6.5"
  }
 },
 "nbformat": 4,
 "nbformat_minor": 2
}
