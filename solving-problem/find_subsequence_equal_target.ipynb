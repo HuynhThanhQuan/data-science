{
 "cells": [
  {
   "cell_type": "markdown",
   "metadata": {},
   "source": [
    "Find all sublists that its sum is equal to a predefined number A"
   ]
  },
  {
   "cell_type": "code",
   "execution_count": 2,
   "metadata": {},
   "outputs": [
    {
     "data": {
      "text/plain": [
       "[0, 1, 1, 2, 2, 2, 2, 3, 3, 3, 3, 3, 3, 4, 5, 9, 15, 51]"
      ]
     },
     "execution_count": 2,
     "metadata": {},
     "output_type": "execute_result"
    }
   ],
   "source": [
    "X = [1,2,3,4,51,15,2,3,2,3,5,9,0,3,3,2,1,3]\n",
    "\n",
    "A = 23\n",
    "\n",
    "s_X = sorted(X)\n",
    "\n",
    "s_X"
   ]
  },
  {
   "cell_type": "code",
   "execution_count": 4,
   "metadata": {},
   "outputs": [],
   "source": [
    "min_X = s_X[0]\n",
    "max_X = s_X[-1]\n",
    "# Condition upper bound and lower bound\n",
    "# min_X < A/2 and max_X > A/2\n",
    "if min_X < A/2 and max_X > A/2:\n",
    "    sublist_range = [i for i in s_X if i < (A - min_X)]\n",
    "else:\n",
    "    print('No more calculation, cannot find such that sublist')"
   ]
  },
  {
   "cell_type": "code",
   "execution_count": 5,
   "metadata": {},
   "outputs": [
    {
     "data": {
      "text/plain": [
       "[0, 1, 1, 2, 2, 2, 2, 3, 3, 3, 3, 3, 3, 4, 5, 9, 15]"
      ]
     },
     "execution_count": 5,
     "metadata": {},
     "output_type": "execute_result"
    }
   ],
   "source": [
    "sublist_range"
   ]
  },
  {
   "cell_type": "code",
   "execution_count": 6,
   "metadata": {},
   "outputs": [],
   "source": [
    "def find(arr, target):\n",
    "    sequence_A = []\n",
    "    count = 0\n",
    "    def recurse(r_arr, _total, memory):\n",
    "        nonlocal count, sequence_A\n",
    "        if _total < target:\n",
    "            for i in range(len(r_arr)):\n",
    "                r_total = _total\n",
    "                r_total += r_arr[i]\n",
    "                memory.append(r_arr[i])\n",
    "                recurse(r_arr[i+1:], r_total, memory)\n",
    "        elif _total == target:\n",
    "            count += 1\n",
    "            sequence_A.append(memory[:])\n",
    "        try:\n",
    "            memory.pop()\n",
    "        except:\n",
    "            pass\n",
    "    recurse(arr, 0, [])\n",
    "    return count, sequence_A"
   ]
  },
  {
   "cell_type": "code",
   "execution_count": 7,
   "metadata": {},
   "outputs": [],
   "source": [
    "find(sublist_range, 23);"
   ]
  },
  {
   "cell_type": "code",
   "execution_count": 8,
   "metadata": {},
   "outputs": [
    {
     "data": {
      "text/plain": [
       "(3, [[1, 4], [1, 4], [1, 4]])"
      ]
     },
     "execution_count": 8,
     "metadata": {},
     "output_type": "execute_result"
    }
   ],
   "source": [
    "find([1,1,1,4], 5)"
   ]
  },
  {
   "cell_type": "code",
   "execution_count": 16,
   "metadata": {},
   "outputs": [],
   "source": [
    "def find_2_target(array, target1, target2):\n",
    "    def find_subsequence_A(r_arr, _total, memory):\n",
    "        nonlocal sequence_A\n",
    "        if _total < target1:\n",
    "            for i in range(len(r_arr)):\n",
    "                r_total = _total\n",
    "                r_total += r_arr[i]\n",
    "                memory.append(r_arr[i])\n",
    "                find_subsequence_A(r_arr[i+1:], r_total, memory)\n",
    "        elif _total == target1:\n",
    "            sequence_A.append(memory[:])\n",
    "        try:\n",
    "            memory.pop()\n",
    "        except:\n",
    "            pass\n",
    "        \n",
    "    def find_subsequence_B():\n",
    "        def _help(r_arr, _total, memory):\n",
    "            nonlocal sequence_B, dim_A\n",
    "            if _total < target2:\n",
    "                for i in range(len(r_arr)):\n",
    "                    r_total = _total\n",
    "                    r_total += r_arr[i]\n",
    "                    memory.append(r_arr[i])\n",
    "                    _help(r_arr[i+1:], r_total, memory)\n",
    "            elif _total == target2 and len(memory) == dim_A:\n",
    "                sequence_B.append(memory[:])\n",
    "            try:\n",
    "                memory.pop()\n",
    "            except:\n",
    "                pass\n",
    "        \n",
    "        for s_a in sequence_A:\n",
    "            dim_A = len(s_a)\n",
    "            leftover_arr = array[:]\n",
    "            for e in s_a:\n",
    "                leftover_arr.remove(e)\n",
    "            _help(leftover_arr, 0, [])\n",
    "    \n",
    "    sequence_A, sequence_B = [], []\n",
    "    find_subsequence_A(array, 0, [])\n",
    "    find_subsequence_B()\n",
    "    return len(sequence_B)"
   ]
  },
  {
   "cell_type": "code",
   "execution_count": 17,
   "metadata": {},
   "outputs": [
    {
     "data": {
      "text/plain": [
       "2"
      ]
     },
     "execution_count": 17,
     "metadata": {},
     "output_type": "execute_result"
    }
   ],
   "source": [
    "find_2_target([1,2,4,4], 6, 5)"
   ]
  },
  {
   "cell_type": "code",
   "execution_count": 11,
   "metadata": {},
   "outputs": [],
   "source": [
    "def twoSubsequences(x, r, s):\n",
    "    def find_2_target(array, target1, target2):\n",
    "        def find_subsequence_A(r_arr, _total, memory):\n",
    "            nonlocal sequence_A\n",
    "            if _total < target1:\n",
    "                for i in range(len(r_arr)):\n",
    "                    r_total = _total\n",
    "                    r_total += r_arr[i]\n",
    "                    memory.append(r_arr[i])\n",
    "                    find_subsequence_A(r_arr[i+1:], r_total, memory)\n",
    "            elif _total == target1:\n",
    "                sequence_A.append(memory[:])\n",
    "            try:\n",
    "                memory.pop()\n",
    "            except:\n",
    "                pass\n",
    "            \n",
    "        def find_subsequence_B():\n",
    "            def _help(r_arr, _total, memory):\n",
    "                nonlocal sequence_B, dim_A\n",
    "                if _total < target2:\n",
    "                    for i in range(len(r_arr)):\n",
    "                        r_total = _total\n",
    "                        r_total += r_arr[i]\n",
    "                        memory.append(r_arr[i])\n",
    "                        _help(r_arr[i+1:], r_total, memory)\n",
    "                elif _total == target2 and len(memory) == dim_A:\n",
    "                    sequence_B.append(memory[:])\n",
    "                try:\n",
    "                    memory.pop()\n",
    "                except:\n",
    "                    pass\n",
    "            \n",
    "            for s_a in sequence_A:\n",
    "                dim_A = len(s_a)\n",
    "                leftover_arr = array[:]\n",
    "                for e in s_a:\n",
    "                    leftover_arr.remove(e)\n",
    "                _help(leftover_arr, 0, [])\n",
    "        \n",
    "        sequence_A, sequence_B = [], []\n",
    "        find_subsequence_A(array, 0, [])\n",
    "        find_subsequence_B()\n",
    "        return len(sequence_B)\n",
    "\n",
    "\n",
    "    A = int((r+s) / 2)\n",
    "    B = int((r-s) / 2)\n",
    "    s_X = sorted(x)\n",
    "    min_X = s_X[0]\n",
    "    max_X = s_X[-1]\n",
    "    # Condition upper bound and lower bound\n",
    "    # min_X < A/2 and max_X > A/2\n",
    "    print(A, B, min_X, max_X)\n",
    "    if min_X < A/2 and max_X > A/2:\n",
    "        sublist_range = [i for i in s_X if i <= (A + B)]\n",
    "        return find_2_target(sublist_range, A, B)\n",
    "    else:\n",
    "        return 0"
   ]
  },
  {
   "cell_type": "code",
   "execution_count": 12,
   "metadata": {},
   "outputs": [
    {
     "name": "stdout",
     "output_type": "stream",
     "text": [
      "4 1 1 4\n"
     ]
    },
    {
     "data": {
      "text/plain": [
       "3"
      ]
     },
     "execution_count": 12,
     "metadata": {},
     "output_type": "execute_result"
    }
   ],
   "source": [
    "twoSubsequences([1,1,1,4], 5, 3)"
   ]
  },
  {
   "cell_type": "markdown",
   "metadata": {},
   "source": [
    "------"
   ]
  },
  {
   "cell_type": "code",
   "execution_count": 26,
   "metadata": {},
   "outputs": [
    {
     "name": "stdout",
     "output_type": "stream",
     "text": [
      "4\n"
     ]
    }
   ],
   "source": [
    "def twoSubsequences(x, r, s):\n",
    "    def find_2_target(array, target1, target2):\n",
    "        def find_subsequence_A(r_arr, _total, memory):\n",
    "            nonlocal sequence_A\n",
    "            if _total < target1:\n",
    "                for i in range(len(r_arr)):\n",
    "                    r_total = _total\n",
    "                    r_total += r_arr[i]\n",
    "                    memory.append(r_arr[i])\n",
    "                    find_subsequence_A(r_arr[i+1:], r_total, memory)\n",
    "            elif _total == target1:\n",
    "                sequence_A.append(memory[:])\n",
    "            try:\n",
    "                memory.pop()\n",
    "            except:\n",
    "                pass\n",
    "            \n",
    "        def find_subsequence_B():\n",
    "            def _help(r_arr, _total, memory):\n",
    "                nonlocal sequence_B, dim_A\n",
    "                if _total < target2:\n",
    "                    for i in range(len(r_arr)):\n",
    "                        r_total = _total\n",
    "                        r_total += r_arr[i]\n",
    "                        memory.append(r_arr[i])\n",
    "                        _help(r_arr[i+1:], r_total, memory)\n",
    "                elif _total == target2 and len(memory) == dim_A:\n",
    "                    sequence_B.append(memory[:])\n",
    "                try:\n",
    "                    memory.pop()\n",
    "                except:\n",
    "                    pass\n",
    "            \n",
    "            for s_a in sequence_A:\n",
    "                dim_A = len(s_a)\n",
    "                leftover_arr = array[:]\n",
    "                for e in s_a:\n",
    "                    leftover_arr.remove(e)\n",
    "                _help(leftover_arr, 0, [])\n",
    "        \n",
    "        sequence_A, sequence_B = [], []\n",
    "        find_subsequence_A(array, 0, [])\n",
    "        find_subsequence_B()\n",
    "        return len(sequence_B)\n",
    "\n",
    "\n",
    "    A = int((r+s) / 2)\n",
    "    B = int((r-s) / 2)\n",
    "    s_X = sorted(x)\n",
    "    min_X = s_X[0]\n",
    "    max_X = s_X[-1]\n",
    "    if min_X < A/2 and max_X > A/2:\n",
    "        sublist_range = s_X\n",
    "        return find_2_target(sublist_range, A, B)\n",
    "    else:\n",
    "        return 0\n",
    "\n",
    "def getTestCase(number):\n",
    "    test_case = {}\n",
    "    test_case[3] = (\"100 2000 1000\", 292, \"677 179 362 1628 1863 1495 1601 451 1801 1443 1810 111 638 258 1568 946 263 524 115 491 1787 925 1125 310 1290 1016 1262 1293 1998 236 1218 1315 1443 1237 1385 547 825 1030 1727 1556 984 1878 1981 272 1731 1753 56 165 1887 1969 169 1579 1222 276 1341 1623 1335 559 1022 1343 1617 203 1233 511 224 111 1857 1500 838 1814 300 1671 1614 835 1228 1445 909 1330 537 1148 1593 1505 173 1680 1631 47 1353 1615 1920 1523 1558 1785 44 1328 878 1972 1986 1159 891 1343\")\n",
    "    test_case[8] = (\"100 2000 1000\", 4, \"1228 420 751 1096 1554 1752 1317 1262 980 996 1582 1555 556 1307 492 731 520 1427 594 465 1696 1763 727 129 1593 174 1926 404 873 672 857 1713 492 390 1880 97 1799 627 1149 1796 1899 687 1562 643 1164 226 1629 486 1683 451 1698 1063 1360 1754 921 1510 1860 172 1626 110 1998 1864 1702 455 964 1741 1376 317 661 1295 1260 1410 1053 1114 855 1696 312 1606 1448 1698 874 492 580 275 1935 1687 360 1942 302 1950 1523 759 739 1617 945 530 1085 1042 1104 1892\")\n",
    "    return test_case[number]\n",
    "\n",
    "\n",
    "if __name__ == '__main__':\n",
    "    input1, output, input2 = getTestCase(8)\n",
    "    mrs = input1.split()\n",
    "    m = int(mrs[0])\n",
    "    r = int(mrs[1])\n",
    "    s = int(mrs[2])\n",
    "    x = list(map(int, input2.rstrip().split()))\n",
    "    result = twoSubsequences(x, r, s)\n",
    "    print(result)"
   ]
  }
 ],
 "metadata": {
  "kernelspec": {
   "display_name": "Python 3",
   "language": "python",
   "name": "python3"
  },
  "language_info": {
   "codemirror_mode": {
    "name": "ipython",
    "version": 3
   },
   "file_extension": ".py",
   "mimetype": "text/x-python",
   "name": "python",
   "nbconvert_exporter": "python",
   "pygments_lexer": "ipython3",
   "version": "3.7.1"
  }
 },
 "nbformat": 4,
 "nbformat_minor": 2
}
