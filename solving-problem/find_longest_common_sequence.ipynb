{
 "cells": [
  {
   "cell_type": "code",
   "execution_count": 1,
   "metadata": {},
   "outputs": [],
   "source": [
    "def find_longest_common_sequence(t1, t2):\n",
    "    sequence = []\n",
    "    for i in range(len(t1)):\n",
    "        for j in range(len(t2)):\n",
    "            j_t = j\n",
    "            i_t = i\n",
    "            while i_t < len(t1) and j_t < len(t2) and t1[i_t] == t2[j_t]:\n",
    "                i_t += 1\n",
    "                j_t += 1\n",
    "            if i_t != i:\n",
    "                sequence.append(t1[i:i_t])\n",
    "    sequence = sorted(sequence, key=lambda x:len(x), reverse=True)\n",
    "    return sequence[0]"
   ]
  },
  {
   "cell_type": "code",
   "execution_count": null,
   "metadata": {},
   "outputs": [],
   "source": []
  }
 ],
 "metadata": {
  "kernelspec": {
   "display_name": "Python 3",
   "language": "python",
   "name": "python3"
  },
  "language_info": {
   "codemirror_mode": {
    "name": "ipython",
    "version": 3
   },
   "file_extension": ".py",
   "mimetype": "text/x-python",
   "name": "python",
   "nbconvert_exporter": "python",
   "pygments_lexer": "ipython3",
   "version": "3.7.1"
  }
 },
 "nbformat": 4,
 "nbformat_minor": 2
}
