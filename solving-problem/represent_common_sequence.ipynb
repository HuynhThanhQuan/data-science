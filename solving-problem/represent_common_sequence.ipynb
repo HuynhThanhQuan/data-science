{
 "cells": [
  {
   "cell_type": "code",
   "execution_count": 1,
   "metadata": {},
   "outputs": [],
   "source": [
    "def extract_longest_common_sequences(t1, t2):\n",
    "    alter_text = ''\n",
    "    i = 0\n",
    "    j = 0\n",
    "    while i < len(t1) and j < len(t2):\n",
    "        i_t = i\n",
    "        j_t = j\n",
    "        if t1[i] == t2[j]:\n",
    "            while i_t < len(t1) and j_t < len(t2) and t1[i_t] == t2[j_t]:\n",
    "                alter_text += t1[i_t]\n",
    "                i_t += 1\n",
    "                j_t += 1\n",
    "            # Update lastest positions\n",
    "            i = i_t\n",
    "            j = j_t\n",
    "        else:\n",
    "            positions = []\n",
    "            lengths = []\n",
    "            while i_t < len(t1):\n",
    "                # Scan longest character sequence\n",
    "                while j_t < len(t2) - 1:\n",
    "                    if t1[i_t] == t2[j_t]:\n",
    "                        i_t1 = i_t\n",
    "                        j_t1 = j_t\n",
    "                        while i_t1 < len(t1) and j_t1 < len(t2) and t1[i_t1] == t2[j_t1]:\n",
    "                            i_t1 += 1\n",
    "                            j_t1 += 1\n",
    "                        # Reserve position and length\n",
    "                        positions.append((i_t, j_t))\n",
    "                        lengths.append(j_t1 - j_t)\n",
    "                    j_t += 1\n",
    "                # Scan the next position of t1\n",
    "                i_t += 1\n",
    "                # Re position at the beginning of j\n",
    "                j_t = j\n",
    "            # Update lastest positions\n",
    "            if len(lengths) > 0:\n",
    "                i, j = positions[lengths.index(max(lengths))]\n",
    "                alter_text += '*'\n",
    "            else:\n",
    "                i, j = i_t, j_t\n",
    "                alter_text += '*'\n",
    "    return alter_text"
   ]
  },
  {
   "cell_type": "code",
   "execution_count": 3,
   "metadata": {},
   "outputs": [
    {
     "data": {
      "text/plain": [
       "'*as*as'"
      ]
     },
     "execution_count": 3,
     "metadata": {},
     "output_type": "execute_result"
    }
   ],
   "source": [
    "extract_longest_common_sequences('abcasdsadas', '23dsf1dsfafasfas')"
   ]
  },
  {
   "cell_type": "code",
   "execution_count": null,
   "metadata": {},
   "outputs": [],
   "source": []
  }
 ],
 "metadata": {
  "kernelspec": {
   "display_name": "Python 3",
   "language": "python",
   "name": "python3"
  },
  "language_info": {
   "codemirror_mode": {
    "name": "ipython",
    "version": 3
   },
   "file_extension": ".py",
   "mimetype": "text/x-python",
   "name": "python",
   "nbconvert_exporter": "python",
   "pygments_lexer": "ipython3",
   "version": "3.7.1"
  }
 },
 "nbformat": 4,
 "nbformat_minor": 2
}
