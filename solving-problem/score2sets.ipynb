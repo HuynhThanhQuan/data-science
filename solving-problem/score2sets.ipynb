{
 "cells": [
  {
   "cell_type": "code",
   "execution_count": 1,
   "metadata": {},
   "outputs": [],
   "source": [
    "# BASE CASE:\n",
    "# 2 empty lists, score = 1\n",
    "# GENERAL CASE:\n",
    "# score = AND/OR\n",
    "def score2sets(set1, set2):\n",
    "    _AND = set(set1) & set(set2)\n",
    "    _OR = set(set1) | set(set2)\n",
    "    if len(_OR) >= 1:\n",
    "        return len(_AND) / len(_OR)\n",
    "    return 1"
   ]
  },
  {
   "cell_type": "code",
   "execution_count": null,
   "metadata": {},
   "outputs": [],
   "source": []
  }
 ],
 "metadata": {
  "kernelspec": {
   "display_name": "Python 3",
   "language": "python",
   "name": "python3"
  },
  "language_info": {
   "codemirror_mode": {
    "name": "ipython",
    "version": 3
   },
   "file_extension": ".py",
   "mimetype": "text/x-python",
   "name": "python",
   "nbconvert_exporter": "python",
   "pygments_lexer": "ipython3",
   "version": "3.6.5"
  }
 },
 "nbformat": 4,
 "nbformat_minor": 2
}
