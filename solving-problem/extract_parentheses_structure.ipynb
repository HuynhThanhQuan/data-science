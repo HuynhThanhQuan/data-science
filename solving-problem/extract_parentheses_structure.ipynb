{
 "cells": [
  {
   "cell_type": "code",
   "execution_count": null,
   "metadata": {},
   "outputs": [],
   "source": [
    "def parse_parenthesis(expr):\n",
    "    def _helper(iter, pre_type):\n",
    "        items = []\n",
    "        for item in iter:\n",
    "            if item == '(':\n",
    "                result = _helper(iter, '(')\n",
    "                items.append(result)\n",
    "            elif item == '[':\n",
    "                result = _helper(iter, '[')\n",
    "                items.append(result)\n",
    "            elif item == '{':\n",
    "                result = _helper(iter, '{')\n",
    "                items.append(result)\n",
    "            elif pre_type == '(' and item == ')':\n",
    "                return items\n",
    "            elif pre_type == '[' and item == ']':\n",
    "                return items\n",
    "            elif pre_type == '{' and item == '}':\n",
    "                return items\n",
    "            else:\n",
    "                items.append(item)\n",
    "        return items\n",
    "    return _helper(iter(expr), None)\n",
    "\n",
    "def concate(items):\n",
    "    content = ''\n",
    "    replacement = []\n",
    "    for item in items:\n",
    "        if type(item) is str:\n",
    "            content += item\n",
    "        if type(item) is list:\n",
    "            replacement.append(content.strip())\n",
    "            replacement.append(concate(item))\n",
    "            content = ''\n",
    "    replacement.append(content.strip())\n",
    "    return replacement\n",
    "\n",
    "def remove_len(items):\n",
    "    temp = []\n",
    "    for item in items:\n",
    "        if type(item) is str:\n",
    "            if item is not \"\":\n",
    "                temp.append(item)\n",
    "        if type(item) is list:\n",
    "            l = remove_len(item)\n",
    "            if len(l) >= 1:\n",
    "                temp.append(l)\n",
    "    return temp\n",
    "\n",
    "def parse_tree_structure(items):\n",
    "    level_numbranches_mapping = {}\n",
    "    recursions = []\n",
    "    \n",
    "    def scan_exhaustive(level, items):\n",
    "        num_branches = 0\n",
    "        for item in items:\n",
    "            if type(item) == list:\n",
    "                num_branches += 1\n",
    "                scan_exhaustive(level + 1, item)\n",
    "        recursions.append((level, num_branches))\n",
    "        return level, num_branches\n",
    "    scan_exhaustive(0, items)\n",
    "    for recursion in recursions:\n",
    "        level_numbranches_mapping[recursion[0]] = level_numbranches_mapping.get(recursion[0], 0) + recursion[1]\n",
    "    level_numbranches_mapping = sorted(level_numbranches_mapping.items(), key=lambda x: x[0])\n",
    "    return level_numbranches_mapping"
   ]
  },
  {
   "cell_type": "code",
   "execution_count": 12,
   "metadata": {},
   "outputs": [],
   "source": [
    "def flatten(text):\n",
    "    _list = []\n",
    "    def helper(items):\n",
    "        for item in items:\n",
    "            if type(item) is str:\n",
    "                _list.append(item)\n",
    "            if type(item) is list:\n",
    "                helper(item)\n",
    "    helper(text)\n",
    "    return _list"
   ]
  },
  {
   "cell_type": "code",
   "execution_count": 2,
   "metadata": {},
   "outputs": [],
   "source": [
    "class HierarchicalStructure():\n",
    "    def __init__(self, text):\n",
    "        self.text = text\n",
    "    def analyze_text_hierarchical_structure(self):\n",
    "        self.analyzed_structure = remove_len(concate(parse_parenthesis(self.text)))\n",
    "        return self.analyzed_structure\n",
    "    def analyze_tree_structure(self):\n",
    "        self.tree_structure = parse_tree_structure(self.analyze_text_hierarchical_structure())\n",
    "        return self.tree_structure, self.analyzed_structure"
   ]
  },
  {
   "cell_type": "code",
   "execution_count": 3,
   "metadata": {},
   "outputs": [],
   "source": [
    "def apply_analyze_structure(text):\n",
    "    opt = HierarchicalStructure(text)\n",
    "    tree_structure, text_structure = opt.analyze_tree_structure()\n",
    "    return (tree_structure, text_structure)"
   ]
  },
  {
   "cell_type": "code",
   "execution_count": 4,
   "metadata": {},
   "outputs": [],
   "source": [
    "def compare_2tree_structure(tree1, tree2):\n",
    "    if len(tree1) == len(tree2):\n",
    "        for idx, (level, num_branches) in enumerate(tree1):\n",
    "            if tree2[idx][0] != level or tree2[idx][1] != num_branches:\n",
    "                return 0\n",
    "        return 1\n",
    "    return 0"
   ]
  },
  {
   "cell_type": "code",
   "execution_count": 5,
   "metadata": {},
   "outputs": [],
   "source": [
    "def analyze_parenthese_structure(raw_error_logs):\n",
    "    import pandas as pd\n",
    "    series = pd.Series(raw_error_logs)\n",
    "    structures = series.apply(apply_analyze_structure).tolist()\n",
    "    docid_structure_mapping = dict(zip(range(len(series)), structures))\n",
    "    docid_errorlog_mapping = dict(zip(range(len(series)), series))\n",
    "    parenthese_structure_similarity = np.zeros((len(series), len(series)))\n",
    "    for i in range(len(series)):\n",
    "        for j in range(i, len(series)):\n",
    "            tree1 = docid_structure_mapping[i][0]\n",
    "            tree2 = docid_structure_mapping[j][0]\n",
    "            score = compare_2tree_structure(tree1, tree2)\n",
    "            parenthese_structure_similarity[i][j] = score\n",
    "            parenthese_structure_similarity[j][i] = score\n",
    "    return parenthese_structure_similarity"
   ]
  }
 ],
 "metadata": {
  "kernelspec": {
   "display_name": "Python 3",
   "language": "python",
   "name": "python3"
  },
  "language_info": {
   "codemirror_mode": {
    "name": "ipython",
    "version": 3
   },
   "file_extension": ".py",
   "mimetype": "text/x-python",
   "name": "python",
   "nbconvert_exporter": "python",
   "pygments_lexer": "ipython3",
   "version": "3.6.5"
  }
 },
 "nbformat": 4,
 "nbformat_minor": 2
}
