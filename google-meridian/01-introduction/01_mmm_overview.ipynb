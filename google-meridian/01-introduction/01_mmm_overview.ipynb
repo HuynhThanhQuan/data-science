{
 "cells": [
  {
   "cell_type": "markdown",
   "metadata": {},
   "source": [
    "# Media Mix Modeling Overview\n",
    "\n",
    "## What is Media Mix Modeling?\n",
    "\n",
    "Media Mix Modeling (MMM) is a statistical analysis technique used to measure the effectiveness of marketing campaigns across different channels and optimize marketing spend allocation.\n",
    "\n",
    "### Key Concepts:\n",
    "- **Attribution**: Understanding which marketing channels drive conversions\n",
    "- **Incrementality**: Measuring the true incremental impact of marketing activities\n",
    "- **Optimization**: Finding the optimal budget allocation across channels\n",
    "- **Forecasting**: Predicting future performance under different scenarios"
   ]
  },
  {
   "cell_type": "markdown",
   "metadata": {},
   "source": [
    "## Google Meridian Introduction\n",
    "\n",
    "Google Meridian is an open-source MMM solution that provides:\n",
    "- Bayesian statistical framework\n",
    "- Flexible model architecture\n",
    "- Advanced adstock and saturation modeling\n",
    "- Built-in optimization capabilities"
   ]
  },
  {
   "cell_type": "code",
   "execution_count": null,
   "metadata": {},
   "outputs": [],
   "source": [
    "# Import necessary libraries\n",
    "import numpy as np\n",
    "import pandas as pd\n",
    "import matplotlib.pyplot as plt\n",
    "import seaborn as sns\n",
    "\n",
    "# Set up plotting style\n",
    "plt.style.use('seaborn-v0_8')\n",
    "sns.set_palette(\"husl\")\n",
    "\n",
    "print(\"Environment setup complete!\")"
   ]
  },
  {
   "cell_type": "markdown",
   "metadata": {},
   "source": [
    "## Exercise 1: Understanding Marketing Data\n",
    "\n",
    "Create a simple synthetic marketing dataset to understand the structure typically used in MMM."
   ]
  },
  {
   "cell_type": "code",
   "execution_count": null,
   "metadata": {},
   "outputs": [],
   "source": [
    "# Create synthetic marketing data\n",
    "np.random.seed(42)\n",
    "dates = pd.date_range(start='2022-01-01', end='2023-12-31', freq='W')\n",
    "n_weeks = len(dates)\n",
    "\n",
    "# Marketing channels data\n",
    "data = {\n",
    "    'date': dates,\n",
    "    'tv_spend': np.random.gamma(2, 5000, n_weeks),\n",
    "    'digital_spend': np.random.gamma(3, 3000, n_weeks),\n",
    "    'radio_spend': np.random.gamma(1.5, 2000, n_weeks),\n",
    "    'print_spend': np.random.gamma(1, 1000, n_weeks),\n",
    "    'conversions': np.random.poisson(1000, n_weeks)\n",
    "}\n",
    "\n",
    "df = pd.DataFrame(data)\n",
    "print(\"Sample marketing data:\")\n",
    "print(df.head())\n",
    "print(f\"\\nDataset shape: {df.shape}\")"
   ]
  },
  {
   "cell_type": "markdown",
   "metadata": {},
   "source": [
    "## Exercise 2: Basic Data Exploration\n",
    "\n",
    "Explore the relationships between marketing spend and conversions."
   ]
  },
  {
   "cell_type": "code",
   "execution_count": null,
   "metadata": {},
   "outputs": [],
   "source": [
    "# Visualize spending patterns over time\n",
    "fig, axes = plt.subplots(2, 2, figsize=(15, 10))\n",
    "fig.suptitle('Marketing Spend Over Time', fontsize=16)\n",
    "\n",
    "channels = ['tv_spend', 'digital_spend', 'radio_spend', 'print_spend']\n",
    "for i, channel in enumerate(channels):\n",
    "    ax = axes[i//2, i%2]\n",
    "    ax.plot(df['date'], df[channel])\n",
    "    ax.set_title(f'{channel.replace(\"_\", \" \").title()}')\n",
    "    ax.set_xlabel('Date')\n",
    "    ax.set_ylabel('Spend ($)')\n",
    "    ax.tick_params(axis='x', rotation=45)\n",
    "\n",
    "plt.tight_layout()\n",
    "plt.show()"
   ]
  },
  {
   "cell_type": "code",
   "execution_count": null,
   "metadata": {},
   "outputs": [],
   "source": [
    "# Correlation analysis\n",
    "correlation_cols = ['tv_spend', 'digital_spend', 'radio_spend', 'print_spend', 'conversions']\n",
    "correlation_matrix = df[correlation_cols].corr()\n",
    "\n",
    "plt.figure(figsize=(10, 8))\n",
    "sns.heatmap(correlation_matrix, annot=True, cmap='coolwarm', center=0)\n",
    "plt.title('Correlation Matrix: Marketing Channels vs Conversions')\n",
    "plt.show()"
   ]
  },
  {
   "cell_type": "markdown",
   "metadata": {},
   "source": [
    "## Next Steps\n",
    "\n",
    "In the next module, we'll dive into:\n",
    "- Data preprocessing for MMM\n",
    "- Feature engineering techniques\n",
    "- Handling seasonality and external factors\n",
    "\n",
    "Continue to `02-data-preparation/` when ready!"
   ]
  }
 ],
 "metadata": {
  "kernelspec": {
   "display_name": "Python 3",
   "language": "python",
   "name": "python3"
  },
  "language_info": {
   "codemirror_mode": {
    "name": "ipython",
    "version": 3
   },
   "file_extension": ".py",
   "mimetype": "text/x-python",
   "name": "python",
   "nbconvert_exporter": "python",
   "pygments_lexer": "ipython3",
   "version": "3.8.5"
  }
 },
 "nbformat": 4,
 "nbformat_minor": 4
}