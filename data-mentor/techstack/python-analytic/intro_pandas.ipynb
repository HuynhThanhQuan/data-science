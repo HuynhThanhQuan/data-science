{
 "cells": [
  {
   "cell_type": "code",
   "execution_count": 2,
   "id": "e5b6ca24-f369-4dae-ace7-f7da109b54d7",
   "metadata": {
    "tags": []
   },
   "outputs": [],
   "source": [
    "import pandas as pd"
   ]
  },
  {
   "cell_type": "markdown",
   "id": "d580a200-ed05-421d-87ab-b3bdd297eb86",
   "metadata": {},
   "source": [
    "# 1. Basic Concepts"
   ]
  },
  {
   "cell_type": "markdown",
   "id": "570add20-75b0-4295-8e13-e83ed5a73c58",
   "metadata": {},
   "source": [
    "Pandas bao gồm:\n",
    "\n",
    "- Series và DataFrame (tương tự như vector và matrix)"
   ]
  },
  {
   "cell_type": "code",
   "execution_count": 15,
   "id": "ac45e2fd-72d3-46ff-a846-845911313d2f",
   "metadata": {
    "tags": []
   },
   "outputs": [],
   "source": [
    "# pd.DataFrame()"
   ]
  },
  {
   "cell_type": "code",
   "execution_count": 3,
   "id": "f27860d0-aea6-44d7-a668-6ed57b07f243",
   "metadata": {
    "tags": []
   },
   "outputs": [
    {
     "data": {
      "text/html": [
       "<div>\n",
       "<style scoped>\n",
       "    .dataframe tbody tr th:only-of-type {\n",
       "        vertical-align: middle;\n",
       "    }\n",
       "\n",
       "    .dataframe tbody tr th {\n",
       "        vertical-align: top;\n",
       "    }\n",
       "\n",
       "    .dataframe thead th {\n",
       "        text-align: right;\n",
       "    }\n",
       "</style>\n",
       "<table border=\"1\" class=\"dataframe\">\n",
       "  <thead>\n",
       "    <tr style=\"text-align: right;\">\n",
       "      <th></th>\n",
       "      <th>transaction_id</th>\n",
       "      <th>transaction_datetime</th>\n",
       "      <th>customer_id</th>\n",
       "      <th>product_id</th>\n",
       "      <th>product_lvl1</th>\n",
       "      <th>product_lvl2</th>\n",
       "      <th>product_lvl3</th>\n",
       "      <th>product_lvl4</th>\n",
       "      <th>brand</th>\n",
       "      <th>price</th>\n",
       "      <th>...</th>\n",
       "      <th>rating</th>\n",
       "      <th>num_sold</th>\n",
       "      <th>quantity</th>\n",
       "      <th>unit_price</th>\n",
       "      <th>total_amount</th>\n",
       "      <th>payment_id</th>\n",
       "      <th>promotion_id</th>\n",
       "      <th>transaction_status</th>\n",
       "      <th>transaction_type</th>\n",
       "      <th>store_id</th>\n",
       "    </tr>\n",
       "  </thead>\n",
       "  <tbody>\n",
       "    <tr>\n",
       "      <th>0</th>\n",
       "      <td>2271.0</td>\n",
       "      <td>2020-02-13 20:48:32</td>\n",
       "      <td>1342</td>\n",
       "      <td>76</td>\n",
       "      <td>Máy giặt và Máy sấy</td>\n",
       "      <td>Máy sấy</td>\n",
       "      <td>Máy sấy Electrolux</td>\n",
       "      <td>Máy sấy Electrolux EDP-2074PDW</td>\n",
       "      <td>Electrolux</td>\n",
       "      <td>6990000</td>\n",
       "      <td>...</td>\n",
       "      <td>4.7</td>\n",
       "      <td>1463</td>\n",
       "      <td>8</td>\n",
       "      <td>6990000</td>\n",
       "      <td>55920000</td>\n",
       "      <td>1463.0</td>\n",
       "      <td>2488.0</td>\n",
       "      <td>Đang xử lý</td>\n",
       "      <td>Thanh toán trực tuyến</td>\n",
       "      <td>8276</td>\n",
       "    </tr>\n",
       "    <tr>\n",
       "      <th>1</th>\n",
       "      <td>1522.0</td>\n",
       "      <td>2022-03-05 00:11:00</td>\n",
       "      <td>936</td>\n",
       "      <td>114</td>\n",
       "      <td>Siêu thị đồ ăn</td>\n",
       "      <td>Thực phẩm đóng hộp</td>\n",
       "      <td>Sữa</td>\n",
       "      <td>Sữa đặc hộp</td>\n",
       "      <td>Nestle</td>\n",
       "      <td>25000</td>\n",
       "      <td>...</td>\n",
       "      <td>2.3</td>\n",
       "      <td>218</td>\n",
       "      <td>2</td>\n",
       "      <td>25000</td>\n",
       "      <td>50000</td>\n",
       "      <td>1011.0</td>\n",
       "      <td>1660.0</td>\n",
       "      <td>Đã giao hàng</td>\n",
       "      <td>Mua hàng</td>\n",
       "      <td>8091</td>\n",
       "    </tr>\n",
       "    <tr>\n",
       "      <th>2</th>\n",
       "      <td>3440.0</td>\n",
       "      <td>2022-05-21 01:29:02</td>\n",
       "      <td>1976</td>\n",
       "      <td>14</td>\n",
       "      <td>Siêu thị đồ ăn</td>\n",
       "      <td>Thực phẩm đóng gói</td>\n",
       "      <td>Chips</td>\n",
       "      <td>Chips khoai tây</td>\n",
       "      <td>Crispy Crunch</td>\n",
       "      <td>18000</td>\n",
       "      <td>...</td>\n",
       "      <td>4.9</td>\n",
       "      <td>1230</td>\n",
       "      <td>0</td>\n",
       "      <td>18000</td>\n",
       "      <td>0</td>\n",
       "      <td>2135.0</td>\n",
       "      <td>3754.0</td>\n",
       "      <td>Thành công</td>\n",
       "      <td>Thanh toán trực tuyến</td>\n",
       "      <td>8696</td>\n",
       "    </tr>\n",
       "    <tr>\n",
       "      <th>3</th>\n",
       "      <td>12004.0</td>\n",
       "      <td>2021-10-30 13:53:11</td>\n",
       "      <td>6831</td>\n",
       "      <td>57</td>\n",
       "      <td>Sách</td>\n",
       "      <td>Sách tiểu thuyết</td>\n",
       "      <td>Tiểu thuyết khoa học viễn tưởng</td>\n",
       "      <td>Thế Giới Mới</td>\n",
       "      <td>Hội Nhà Văn</td>\n",
       "      <td>109000</td>\n",
       "      <td>...</td>\n",
       "      <td>NaN</td>\n",
       "      <td>721</td>\n",
       "      <td>1</td>\n",
       "      <td>109000</td>\n",
       "      <td>109000</td>\n",
       "      <td>7429.0</td>\n",
       "      <td>NaN</td>\n",
       "      <td>Đang xử lý</td>\n",
       "      <td>Thẻ tín dụng</td>\n",
       "      <td>8789</td>\n",
       "    </tr>\n",
       "    <tr>\n",
       "      <th>4</th>\n",
       "      <td>13568.0</td>\n",
       "      <td>2022-08-25 21:01:18</td>\n",
       "      <td>7780</td>\n",
       "      <td>117</td>\n",
       "      <td>Đèn trang trí và Chiếu sáng</td>\n",
       "      <td>Đèn bàn</td>\n",
       "      <td>Đèn bàn đọc sách</td>\n",
       "      <td>Đèn bàn đọc sách LED</td>\n",
       "      <td>Philips</td>\n",
       "      <td>599000</td>\n",
       "      <td>...</td>\n",
       "      <td>4.7</td>\n",
       "      <td>1197</td>\n",
       "      <td>2</td>\n",
       "      <td>599000</td>\n",
       "      <td>1198000</td>\n",
       "      <td>8468.0</td>\n",
       "      <td>14803.0</td>\n",
       "      <td>Đã hủy</td>\n",
       "      <td>Mua hàng</td>\n",
       "      <td>8318</td>\n",
       "    </tr>\n",
       "    <tr>\n",
       "      <th>...</th>\n",
       "      <td>...</td>\n",
       "      <td>...</td>\n",
       "      <td>...</td>\n",
       "      <td>...</td>\n",
       "      <td>...</td>\n",
       "      <td>...</td>\n",
       "      <td>...</td>\n",
       "      <td>...</td>\n",
       "      <td>...</td>\n",
       "      <td>...</td>\n",
       "      <td>...</td>\n",
       "      <td>...</td>\n",
       "      <td>...</td>\n",
       "      <td>...</td>\n",
       "      <td>...</td>\n",
       "      <td>...</td>\n",
       "      <td>...</td>\n",
       "      <td>...</td>\n",
       "      <td>...</td>\n",
       "      <td>...</td>\n",
       "      <td>...</td>\n",
       "    </tr>\n",
       "    <tr>\n",
       "      <th>995</th>\n",
       "      <td>1219.0</td>\n",
       "      <td>2019-01-31 13:44:59</td>\n",
       "      <td>743</td>\n",
       "      <td>92</td>\n",
       "      <td>Thương mại điện tử</td>\n",
       "      <td>Máy tính bảng</td>\n",
       "      <td>iPad</td>\n",
       "      <td>iPad Pro</td>\n",
       "      <td>Apple</td>\n",
       "      <td>20000000</td>\n",
       "      <td>...</td>\n",
       "      <td>4.9</td>\n",
       "      <td>1532</td>\n",
       "      <td>3</td>\n",
       "      <td>20000000</td>\n",
       "      <td>60000000</td>\n",
       "      <td>807.0</td>\n",
       "      <td>NaN</td>\n",
       "      <td>Đã tiếp nhận</td>\n",
       "      <td>Thẻ tín dụng</td>\n",
       "      <td>8924</td>\n",
       "    </tr>\n",
       "    <tr>\n",
       "      <th>996</th>\n",
       "      <td>13906.0</td>\n",
       "      <td>2020-05-06 09:01:52</td>\n",
       "      <td>7977</td>\n",
       "      <td>88</td>\n",
       "      <td>Thương mại điện tử</td>\n",
       "      <td>Máy tính xách tay</td>\n",
       "      <td>Laptop Dell</td>\n",
       "      <td>Laptop Dell XPS 13</td>\n",
       "      <td>Dell</td>\n",
       "      <td>32000000</td>\n",
       "      <td>...</td>\n",
       "      <td>5.0</td>\n",
       "      <td>205</td>\n",
       "      <td>16</td>\n",
       "      <td>32000000</td>\n",
       "      <td>512000000</td>\n",
       "      <td>8680.0</td>\n",
       "      <td>15171.0</td>\n",
       "      <td>Đang xử lý</td>\n",
       "      <td>Mua hàng</td>\n",
       "      <td>8675</td>\n",
       "    </tr>\n",
       "    <tr>\n",
       "      <th>997</th>\n",
       "      <td>11972.0</td>\n",
       "      <td>2020-01-26 05:15:07</td>\n",
       "      <td>6814</td>\n",
       "      <td>87</td>\n",
       "      <td>Siêu thị</td>\n",
       "      <td>Đồ uống</td>\n",
       "      <td>Bia</td>\n",
       "      <td>Bia Tiger</td>\n",
       "      <td>Tiger Beer</td>\n",
       "      <td>25000</td>\n",
       "      <td>...</td>\n",
       "      <td>NaN</td>\n",
       "      <td>1517</td>\n",
       "      <td>1</td>\n",
       "      <td>25000</td>\n",
       "      <td>25000</td>\n",
       "      <td>7410.0</td>\n",
       "      <td>NaN</td>\n",
       "      <td>Đã xác nhận</td>\n",
       "      <td>Thanh toán</td>\n",
       "      <td>8430</td>\n",
       "    </tr>\n",
       "    <tr>\n",
       "      <th>998</th>\n",
       "      <td>4981.0</td>\n",
       "      <td>2020-08-03 20:47:08</td>\n",
       "      <td>2880</td>\n",
       "      <td>55</td>\n",
       "      <td>Thời trang Nam/Nữ</td>\n",
       "      <td>Áo khoác</td>\n",
       "      <td>Áo khoác dù</td>\n",
       "      <td>Áo khoác dù thể thao</td>\n",
       "      <td>Nike</td>\n",
       "      <td>1099000</td>\n",
       "      <td>...</td>\n",
       "      <td>2.1</td>\n",
       "      <td>1634</td>\n",
       "      <td>0</td>\n",
       "      <td>1099000</td>\n",
       "      <td>0</td>\n",
       "      <td>3136.0</td>\n",
       "      <td>NaN</td>\n",
       "      <td>Thành công</td>\n",
       "      <td>Mua hàng</td>\n",
       "      <td>8618</td>\n",
       "    </tr>\n",
       "    <tr>\n",
       "      <th>999</th>\n",
       "      <td>11701.0</td>\n",
       "      <td>2014-01-15 13:09:11</td>\n",
       "      <td>6659</td>\n",
       "      <td>142</td>\n",
       "      <td>Siêu thị đồ ăn</td>\n",
       "      <td>Đồ uống</td>\n",
       "      <td>Nước ngọt</td>\n",
       "      <td>Nước ngọt Coca-Cola</td>\n",
       "      <td>Coca-Cola</td>\n",
       "      <td>12000</td>\n",
       "      <td>...</td>\n",
       "      <td>5.0</td>\n",
       "      <td>23</td>\n",
       "      <td>6</td>\n",
       "      <td>12000</td>\n",
       "      <td>72000</td>\n",
       "      <td>7247.0</td>\n",
       "      <td>NaN</td>\n",
       "      <td>Thành công</td>\n",
       "      <td>Mua hàng</td>\n",
       "      <td>8811</td>\n",
       "    </tr>\n",
       "  </tbody>\n",
       "</table>\n",
       "<p>1000 rows × 21 columns</p>\n",
       "</div>"
      ],
      "text/plain": [
       "     transaction_id transaction_datetime  customer_id  product_id   \n",
       "0            2271.0  2020-02-13 20:48:32         1342          76  \\\n",
       "1            1522.0  2022-03-05 00:11:00          936         114   \n",
       "2            3440.0  2022-05-21 01:29:02         1976          14   \n",
       "3           12004.0  2021-10-30 13:53:11         6831          57   \n",
       "4           13568.0  2022-08-25 21:01:18         7780         117   \n",
       "..              ...                  ...          ...         ...   \n",
       "995          1219.0  2019-01-31 13:44:59          743          92   \n",
       "996         13906.0  2020-05-06 09:01:52         7977          88   \n",
       "997         11972.0  2020-01-26 05:15:07         6814          87   \n",
       "998          4981.0  2020-08-03 20:47:08         2880          55   \n",
       "999         11701.0  2014-01-15 13:09:11         6659         142   \n",
       "\n",
       "                    product_lvl1        product_lvl2   \n",
       "0            Máy giặt và Máy sấy             Máy sấy  \\\n",
       "1                 Siêu thị đồ ăn  Thực phẩm đóng hộp   \n",
       "2                 Siêu thị đồ ăn  Thực phẩm đóng gói   \n",
       "3                           Sách    Sách tiểu thuyết   \n",
       "4    Đèn trang trí và Chiếu sáng             Đèn bàn   \n",
       "..                           ...                 ...   \n",
       "995           Thương mại điện tử       Máy tính bảng   \n",
       "996           Thương mại điện tử   Máy tính xách tay   \n",
       "997                     Siêu thị             Đồ uống   \n",
       "998            Thời trang Nam/Nữ            Áo khoác   \n",
       "999               Siêu thị đồ ăn             Đồ uống   \n",
       "\n",
       "                        product_lvl3                    product_lvl4   \n",
       "0                 Máy sấy Electrolux  Máy sấy Electrolux EDP-2074PDW  \\\n",
       "1                                Sữa                     Sữa đặc hộp   \n",
       "2                              Chips                 Chips khoai tây   \n",
       "3    Tiểu thuyết khoa học viễn tưởng                    Thế Giới Mới   \n",
       "4                   Đèn bàn đọc sách            Đèn bàn đọc sách LED   \n",
       "..                               ...                             ...   \n",
       "995                             iPad                        iPad Pro   \n",
       "996                      Laptop Dell              Laptop Dell XPS 13   \n",
       "997                              Bia                       Bia Tiger   \n",
       "998                      Áo khoác dù            Áo khoác dù thể thao   \n",
       "999                        Nước ngọt             Nước ngọt Coca-Cola   \n",
       "\n",
       "             brand     price  ... rating  num_sold  quantity  unit_price   \n",
       "0       Electrolux   6990000  ...    4.7      1463         8     6990000  \\\n",
       "1           Nestle     25000  ...    2.3       218         2       25000   \n",
       "2    Crispy Crunch     18000  ...    4.9      1230         0       18000   \n",
       "3      Hội Nhà Văn    109000  ...    NaN       721         1      109000   \n",
       "4          Philips    599000  ...    4.7      1197         2      599000   \n",
       "..             ...       ...  ...    ...       ...       ...         ...   \n",
       "995          Apple  20000000  ...    4.9      1532         3    20000000   \n",
       "996           Dell  32000000  ...    5.0       205        16    32000000   \n",
       "997     Tiger Beer     25000  ...    NaN      1517         1       25000   \n",
       "998           Nike   1099000  ...    2.1      1634         0     1099000   \n",
       "999      Coca-Cola     12000  ...    5.0        23         6       12000   \n",
       "\n",
       "     total_amount  payment_id  promotion_id  transaction_status   \n",
       "0        55920000      1463.0        2488.0          Đang xử lý  \\\n",
       "1           50000      1011.0        1660.0        Đã giao hàng   \n",
       "2               0      2135.0        3754.0          Thành công   \n",
       "3          109000      7429.0           NaN          Đang xử lý   \n",
       "4         1198000      8468.0       14803.0              Đã hủy   \n",
       "..            ...         ...           ...                 ...   \n",
       "995      60000000       807.0           NaN        Đã tiếp nhận   \n",
       "996     512000000      8680.0       15171.0          Đang xử lý   \n",
       "997         25000      7410.0           NaN         Đã xác nhận   \n",
       "998             0      3136.0           NaN          Thành công   \n",
       "999         72000      7247.0           NaN          Thành công   \n",
       "\n",
       "          transaction_type store_id  \n",
       "0    Thanh toán trực tuyến     8276  \n",
       "1                 Mua hàng     8091  \n",
       "2    Thanh toán trực tuyến     8696  \n",
       "3             Thẻ tín dụng     8789  \n",
       "4                 Mua hàng     8318  \n",
       "..                     ...      ...  \n",
       "995           Thẻ tín dụng     8924  \n",
       "996               Mua hàng     8675  \n",
       "997             Thanh toán     8430  \n",
       "998               Mua hàng     8618  \n",
       "999               Mua hàng     8811  \n",
       "\n",
       "[1000 rows x 21 columns]"
      ]
     },
     "execution_count": 3,
     "metadata": {},
     "output_type": "execute_result"
    }
   ],
   "source": [
    "# Vi du DataFrame\n",
    "dataframe = pd.read_csv('./transaction_history.csv', index_col=0)\n",
    "dataframe"
   ]
  },
  {
   "cell_type": "code",
   "execution_count": 13,
   "id": "3c6f154b-5923-4568-91ba-6b341fc6a500",
   "metadata": {
    "tags": []
   },
   "outputs": [
    {
     "data": {
      "text/plain": [
       "0       2271.0\n",
       "1       1522.0\n",
       "2       3440.0\n",
       "3      12004.0\n",
       "4      13568.0\n",
       "        ...   \n",
       "995     1219.0\n",
       "996    13906.0\n",
       "997    11972.0\n",
       "998     4981.0\n",
       "999    11701.0\n",
       "Name: transaction_id, Length: 1000, dtype: float64"
      ]
     },
     "execution_count": 13,
     "metadata": {},
     "output_type": "execute_result"
    }
   ],
   "source": [
    "# Vi du Series\n",
    "series = dataframe['transaction_id']\n",
    "series"
   ]
  },
  {
   "cell_type": "code",
   "execution_count": 14,
   "id": "5aeeac88-f0d5-4856-b46a-0a1f09bee465",
   "metadata": {
    "tags": []
   },
   "outputs": [
    {
     "data": {
      "text/plain": [
       "(pandas.core.series.Series, pandas.core.frame.DataFrame)"
      ]
     },
     "execution_count": 14,
     "metadata": {},
     "output_type": "execute_result"
    }
   ],
   "source": [
    "type(series), type(dataframe)"
   ]
  },
  {
   "cell_type": "markdown",
   "id": "c9679cc2-1ea9-4a00-90b2-6c3bf59097a8",
   "metadata": {},
   "source": [
    "## Row & Columns"
   ]
  },
  {
   "cell_type": "code",
   "execution_count": 6,
   "id": "7447af43-2a4c-4e39-b77f-f18005ed9c48",
   "metadata": {
    "tags": []
   },
   "outputs": [
    {
     "data": {
      "text/plain": [
       "0      2020-02-13 20:48:32\n",
       "1      2022-03-05 00:11:00\n",
       "2      2022-05-21 01:29:02\n",
       "3      2021-10-30 13:53:11\n",
       "4      2022-08-25 21:01:18\n",
       "              ...         \n",
       "995    2019-01-31 13:44:59\n",
       "996    2020-05-06 09:01:52\n",
       "997    2020-01-26 05:15:07\n",
       "998    2020-08-03 20:47:08\n",
       "999    2014-01-15 13:09:11\n",
       "Name: transaction_datetime, Length: 1000, dtype: object"
      ]
     },
     "execution_count": 6,
     "metadata": {},
     "output_type": "execute_result"
    }
   ],
   "source": [
    "# cach de lay columns dua vao ten column\n",
    "dataframe['transaction_datetime']"
   ]
  },
  {
   "cell_type": "code",
   "execution_count": 20,
   "id": "307d5db7-aca0-49f9-84e0-16b3e645a096",
   "metadata": {
    "tags": []
   },
   "outputs": [
    {
     "data": {
      "text/html": [
       "<div>\n",
       "<style scoped>\n",
       "    .dataframe tbody tr th:only-of-type {\n",
       "        vertical-align: middle;\n",
       "    }\n",
       "\n",
       "    .dataframe tbody tr th {\n",
       "        vertical-align: top;\n",
       "    }\n",
       "\n",
       "    .dataframe thead th {\n",
       "        text-align: right;\n",
       "    }\n",
       "</style>\n",
       "<table border=\"1\" class=\"dataframe\">\n",
       "  <thead>\n",
       "    <tr style=\"text-align: right;\">\n",
       "      <th></th>\n",
       "      <th>transaction_datetime</th>\n",
       "      <th>customer_id</th>\n",
       "    </tr>\n",
       "  </thead>\n",
       "  <tbody>\n",
       "    <tr>\n",
       "      <th>0</th>\n",
       "      <td>2020-02-13 20:48:32</td>\n",
       "      <td>1342</td>\n",
       "    </tr>\n",
       "    <tr>\n",
       "      <th>1</th>\n",
       "      <td>2022-03-05 00:11:00</td>\n",
       "      <td>936</td>\n",
       "    </tr>\n",
       "    <tr>\n",
       "      <th>2</th>\n",
       "      <td>2022-05-21 01:29:02</td>\n",
       "      <td>1976</td>\n",
       "    </tr>\n",
       "    <tr>\n",
       "      <th>3</th>\n",
       "      <td>2021-10-30 13:53:11</td>\n",
       "      <td>6831</td>\n",
       "    </tr>\n",
       "    <tr>\n",
       "      <th>4</th>\n",
       "      <td>2022-08-25 21:01:18</td>\n",
       "      <td>7780</td>\n",
       "    </tr>\n",
       "    <tr>\n",
       "      <th>...</th>\n",
       "      <td>...</td>\n",
       "      <td>...</td>\n",
       "    </tr>\n",
       "    <tr>\n",
       "      <th>995</th>\n",
       "      <td>2019-01-31 13:44:59</td>\n",
       "      <td>743</td>\n",
       "    </tr>\n",
       "    <tr>\n",
       "      <th>996</th>\n",
       "      <td>2020-05-06 09:01:52</td>\n",
       "      <td>7977</td>\n",
       "    </tr>\n",
       "    <tr>\n",
       "      <th>997</th>\n",
       "      <td>2020-01-26 05:15:07</td>\n",
       "      <td>6814</td>\n",
       "    </tr>\n",
       "    <tr>\n",
       "      <th>998</th>\n",
       "      <td>2020-08-03 20:47:08</td>\n",
       "      <td>2880</td>\n",
       "    </tr>\n",
       "    <tr>\n",
       "      <th>999</th>\n",
       "      <td>2014-01-15 13:09:11</td>\n",
       "      <td>6659</td>\n",
       "    </tr>\n",
       "  </tbody>\n",
       "</table>\n",
       "<p>1000 rows × 2 columns</p>\n",
       "</div>"
      ],
      "text/plain": [
       "    transaction_datetime  customer_id\n",
       "0    2020-02-13 20:48:32         1342\n",
       "1    2022-03-05 00:11:00          936\n",
       "2    2022-05-21 01:29:02         1976\n",
       "3    2021-10-30 13:53:11         6831\n",
       "4    2022-08-25 21:01:18         7780\n",
       "..                   ...          ...\n",
       "995  2019-01-31 13:44:59          743\n",
       "996  2020-05-06 09:01:52         7977\n",
       "997  2020-01-26 05:15:07         6814\n",
       "998  2020-08-03 20:47:08         2880\n",
       "999  2014-01-15 13:09:11         6659\n",
       "\n",
       "[1000 rows x 2 columns]"
      ]
     },
     "execution_count": 20,
     "metadata": {},
     "output_type": "execute_result"
    }
   ],
   "source": [
    "# vi du lay nhieu column, -> tra ve DataFrame\n",
    "dataframe[['transaction_datetime', 'customer_id']]"
   ]
  },
  {
   "cell_type": "code",
   "execution_count": 18,
   "id": "fac21cb7-2da0-4921-a374-fffa836ad759",
   "metadata": {
    "tags": []
   },
   "outputs": [
    {
     "data": {
      "text/plain": [
       "transaction_id                                               1522.0\n",
       "transaction_datetime                            2022-03-05 00:11:00\n",
       "customer_id                                                     936\n",
       "product_id                                                      114\n",
       "product_lvl1                                         Siêu thị đồ ăn\n",
       "product_lvl2                                     Thực phẩm đóng hộp\n",
       "product_lvl3                                                    Sữa\n",
       "product_lvl4                                            Sữa đặc hộp\n",
       "brand                                                        Nestle\n",
       "price                                                         25000\n",
       "description             Sữa đặc hộp Nestle - Thơm ngon và bổ dưỡng.\n",
       "rating                                                          2.3\n",
       "num_sold                                                        218\n",
       "quantity                                                          2\n",
       "unit_price                                                    25000\n",
       "total_amount                                                  50000\n",
       "payment_id                                                   1011.0\n",
       "promotion_id                                                 1660.0\n",
       "transaction_status                                     Đã giao hàng\n",
       "transaction_type                                           Mua hàng\n",
       "store_id                                                       8091\n",
       "Name: 1, dtype: object"
      ]
     },
     "execution_count": 18,
     "metadata": {},
     "output_type": "execute_result"
    }
   ],
   "source": [
    "# cach de lay row dua vao index -> Series\n",
    "dataframe.iloc[1]"
   ]
  },
  {
   "cell_type": "code",
   "execution_count": 19,
   "id": "6f013ee0-bf88-49dc-b96a-3b2f0ebb1a32",
   "metadata": {
    "tags": []
   },
   "outputs": [
    {
     "data": {
      "text/html": [
       "<div>\n",
       "<style scoped>\n",
       "    .dataframe tbody tr th:only-of-type {\n",
       "        vertical-align: middle;\n",
       "    }\n",
       "\n",
       "    .dataframe tbody tr th {\n",
       "        vertical-align: top;\n",
       "    }\n",
       "\n",
       "    .dataframe thead th {\n",
       "        text-align: right;\n",
       "    }\n",
       "</style>\n",
       "<table border=\"1\" class=\"dataframe\">\n",
       "  <thead>\n",
       "    <tr style=\"text-align: right;\">\n",
       "      <th></th>\n",
       "      <th>transaction_id</th>\n",
       "      <th>transaction_datetime</th>\n",
       "      <th>customer_id</th>\n",
       "      <th>product_id</th>\n",
       "      <th>product_lvl1</th>\n",
       "      <th>product_lvl2</th>\n",
       "      <th>product_lvl3</th>\n",
       "      <th>product_lvl4</th>\n",
       "      <th>brand</th>\n",
       "      <th>price</th>\n",
       "      <th>...</th>\n",
       "      <th>rating</th>\n",
       "      <th>num_sold</th>\n",
       "      <th>quantity</th>\n",
       "      <th>unit_price</th>\n",
       "      <th>total_amount</th>\n",
       "      <th>payment_id</th>\n",
       "      <th>promotion_id</th>\n",
       "      <th>transaction_status</th>\n",
       "      <th>transaction_type</th>\n",
       "      <th>store_id</th>\n",
       "    </tr>\n",
       "  </thead>\n",
       "  <tbody>\n",
       "    <tr>\n",
       "      <th>1</th>\n",
       "      <td>1522.0</td>\n",
       "      <td>2022-03-05 00:11:00</td>\n",
       "      <td>936</td>\n",
       "      <td>114</td>\n",
       "      <td>Siêu thị đồ ăn</td>\n",
       "      <td>Thực phẩm đóng hộp</td>\n",
       "      <td>Sữa</td>\n",
       "      <td>Sữa đặc hộp</td>\n",
       "      <td>Nestle</td>\n",
       "      <td>25000</td>\n",
       "      <td>...</td>\n",
       "      <td>2.3</td>\n",
       "      <td>218</td>\n",
       "      <td>2</td>\n",
       "      <td>25000</td>\n",
       "      <td>50000</td>\n",
       "      <td>1011.0</td>\n",
       "      <td>1660.0</td>\n",
       "      <td>Đã giao hàng</td>\n",
       "      <td>Mua hàng</td>\n",
       "      <td>8091</td>\n",
       "    </tr>\n",
       "    <tr>\n",
       "      <th>3</th>\n",
       "      <td>12004.0</td>\n",
       "      <td>2021-10-30 13:53:11</td>\n",
       "      <td>6831</td>\n",
       "      <td>57</td>\n",
       "      <td>Sách</td>\n",
       "      <td>Sách tiểu thuyết</td>\n",
       "      <td>Tiểu thuyết khoa học viễn tưởng</td>\n",
       "      <td>Thế Giới Mới</td>\n",
       "      <td>Hội Nhà Văn</td>\n",
       "      <td>109000</td>\n",
       "      <td>...</td>\n",
       "      <td>NaN</td>\n",
       "      <td>721</td>\n",
       "      <td>1</td>\n",
       "      <td>109000</td>\n",
       "      <td>109000</td>\n",
       "      <td>7429.0</td>\n",
       "      <td>NaN</td>\n",
       "      <td>Đang xử lý</td>\n",
       "      <td>Thẻ tín dụng</td>\n",
       "      <td>8789</td>\n",
       "    </tr>\n",
       "  </tbody>\n",
       "</table>\n",
       "<p>2 rows × 21 columns</p>\n",
       "</div>"
      ],
      "text/plain": [
       "   transaction_id transaction_datetime  customer_id  product_id   \n",
       "1          1522.0  2022-03-05 00:11:00          936         114  \\\n",
       "3         12004.0  2021-10-30 13:53:11         6831          57   \n",
       "\n",
       "     product_lvl1        product_lvl2                     product_lvl3   \n",
       "1  Siêu thị đồ ăn  Thực phẩm đóng hộp                              Sữa  \\\n",
       "3            Sách    Sách tiểu thuyết  Tiểu thuyết khoa học viễn tưởng   \n",
       "\n",
       "   product_lvl4        brand   price  ... rating  num_sold  quantity   \n",
       "1   Sữa đặc hộp       Nestle   25000  ...    2.3       218         2  \\\n",
       "3  Thế Giới Mới  Hội Nhà Văn  109000  ...    NaN       721         1   \n",
       "\n",
       "   unit_price  total_amount  payment_id  promotion_id  transaction_status   \n",
       "1       25000         50000      1011.0        1660.0        Đã giao hàng  \\\n",
       "3      109000        109000      7429.0           NaN          Đang xử lý   \n",
       "\n",
       "  transaction_type store_id  \n",
       "1         Mua hàng     8091  \n",
       "3     Thẻ tín dụng     8789  \n",
       "\n",
       "[2 rows x 21 columns]"
      ]
     },
     "execution_count": 19,
     "metadata": {},
     "output_type": "execute_result"
    }
   ],
   "source": [
    "# vi du ve lay nhieu row khac nhau -> DataFrame\n",
    "dataframe.iloc[[1,3]]"
   ]
  },
  {
   "cell_type": "markdown",
   "id": "343ece88-489f-4da1-9593-e340018ece68",
   "metadata": {},
   "source": [
    "## Cách lấy giá trị"
   ]
  },
  {
   "cell_type": "markdown",
   "id": "57ee6eeb-7f76-4752-90f1-7bbce735f1f2",
   "metadata": {},
   "source": [
    "**.loc**"
   ]
  },
  {
   "cell_type": "code",
   "execution_count": 22,
   "id": "dfe9560e-a69a-401f-88cd-d6119aed55d5",
   "metadata": {
    "tags": []
   },
   "outputs": [
    {
     "data": {
      "text/html": [
       "<div>\n",
       "<style scoped>\n",
       "    .dataframe tbody tr th:only-of-type {\n",
       "        vertical-align: middle;\n",
       "    }\n",
       "\n",
       "    .dataframe tbody tr th {\n",
       "        vertical-align: top;\n",
       "    }\n",
       "\n",
       "    .dataframe thead th {\n",
       "        text-align: right;\n",
       "    }\n",
       "</style>\n",
       "<table border=\"1\" class=\"dataframe\">\n",
       "  <thead>\n",
       "    <tr style=\"text-align: right;\">\n",
       "      <th></th>\n",
       "      <th>transaction_id</th>\n",
       "      <th>customer_id</th>\n",
       "    </tr>\n",
       "  </thead>\n",
       "  <tbody>\n",
       "    <tr>\n",
       "      <th>1</th>\n",
       "      <td>1522.0</td>\n",
       "      <td>936</td>\n",
       "    </tr>\n",
       "    <tr>\n",
       "      <th>3</th>\n",
       "      <td>12004.0</td>\n",
       "      <td>6831</td>\n",
       "    </tr>\n",
       "  </tbody>\n",
       "</table>\n",
       "</div>"
      ],
      "text/plain": [
       "   transaction_id  customer_id\n",
       "1          1522.0          936\n",
       "3         12004.0         6831"
      ]
     },
     "execution_count": 22,
     "metadata": {},
     "output_type": "execute_result"
    }
   ],
   "source": [
    "# vi du cach lay cell tai row va col\n",
    "dataframe.loc[[1,3],['transaction_id', 'customer_id']]"
   ]
  },
  {
   "cell_type": "markdown",
   "id": "bf053dc9-8513-4f95-8d4f-59045dfedaa2",
   "metadata": {},
   "source": [
    "**.iloc**"
   ]
  },
  {
   "cell_type": "code",
   "execution_count": 35,
   "id": "c96ea72e-1742-40ef-9f88-0309a32387a1",
   "metadata": {
    "tags": []
   },
   "outputs": [],
   "source": [
    "# return DataFrame\n",
    "dataframe.iloc[[1],[2]] = 3"
   ]
  },
  {
   "cell_type": "code",
   "execution_count": 39,
   "id": "a34f3def-28e4-4fca-836a-b6cca409c7d7",
   "metadata": {
    "tags": []
   },
   "outputs": [
    {
     "data": {
      "text/html": [
       "<div>\n",
       "<style scoped>\n",
       "    .dataframe tbody tr th:only-of-type {\n",
       "        vertical-align: middle;\n",
       "    }\n",
       "\n",
       "    .dataframe tbody tr th {\n",
       "        vertical-align: top;\n",
       "    }\n",
       "\n",
       "    .dataframe thead th {\n",
       "        text-align: right;\n",
       "    }\n",
       "</style>\n",
       "<table border=\"1\" class=\"dataframe\">\n",
       "  <thead>\n",
       "    <tr style=\"text-align: right;\">\n",
       "      <th></th>\n",
       "      <th>customer_id</th>\n",
       "    </tr>\n",
       "  </thead>\n",
       "  <tbody>\n",
       "    <tr>\n",
       "      <th>1</th>\n",
       "      <td>5</td>\n",
       "    </tr>\n",
       "  </tbody>\n",
       "</table>\n",
       "</div>"
      ],
      "text/plain": [
       "   customer_id\n",
       "1            5"
      ]
     },
     "execution_count": 39,
     "metadata": {},
     "output_type": "execute_result"
    }
   ],
   "source": [
    "dataframe.iloc[[1],[2]]"
   ]
  },
  {
   "cell_type": "code",
   "execution_count": 34,
   "id": "566122de-ba7a-4f86-aa0d-8eb3044aacb8",
   "metadata": {
    "tags": []
   },
   "outputs": [
    {
     "data": {
      "text/plain": [
       "array([[936]])"
      ]
     },
     "execution_count": 34,
     "metadata": {},
     "output_type": "execute_result"
    }
   ],
   "source": [
    "# cach convert thanh numpy hoac list\n",
    "dataframe.iloc[[1],[2]].values"
   ]
  },
  {
   "cell_type": "code",
   "execution_count": 37,
   "id": "138b0e02-e6e7-41dd-a6c1-95c1c6ce5af0",
   "metadata": {
    "tags": []
   },
   "outputs": [],
   "source": [
    "# return value\n",
    "dataframe.iloc[1,2] = 5"
   ]
  },
  {
   "cell_type": "code",
   "execution_count": 38,
   "id": "01352f01-cf49-498a-b262-dd0807f1945e",
   "metadata": {
    "tags": []
   },
   "outputs": [
    {
     "data": {
      "text/plain": [
       "5"
      ]
     },
     "execution_count": 38,
     "metadata": {},
     "output_type": "execute_result"
    }
   ],
   "source": [
    "dataframe.iloc[1,2]"
   ]
  },
  {
   "cell_type": "markdown",
   "id": "ff9b1a56-76db-4686-a0f3-6c8032f4b0ef",
   "metadata": {},
   "source": [
    "## Cách đếm tổng số giá trị"
   ]
  },
  {
   "cell_type": "code",
   "execution_count": 42,
   "id": "ef15a85d-26de-45f4-b0f1-b85af5e72821",
   "metadata": {
    "tags": []
   },
   "outputs": [
    {
     "data": {
      "text/plain": [
       "0      Thanh toán trực tuyến\n",
       "1                   Mua hàng\n",
       "2      Thanh toán trực tuyến\n",
       "3               Thẻ tín dụng\n",
       "4                   Mua hàng\n",
       "               ...          \n",
       "995             Thẻ tín dụng\n",
       "996                 Mua hàng\n",
       "997               Thanh toán\n",
       "998                 Mua hàng\n",
       "999                 Mua hàng\n",
       "Name: transaction_type, Length: 1000, dtype: object"
      ]
     },
     "execution_count": 42,
     "metadata": {},
     "output_type": "execute_result"
    }
   ],
   "source": [
    "dataframe['transaction_type']"
   ]
  },
  {
   "cell_type": "code",
   "execution_count": 41,
   "id": "21c25e14-2db9-480b-8e7a-d63d6412d936",
   "metadata": {
    "tags": []
   },
   "outputs": [
    {
     "data": {
      "text/plain": [
       "transaction_type\n",
       "Mua hàng                 280\n",
       "Thanh toán               196\n",
       "Hoàn tiền                167\n",
       "Thẻ ghi nợ               139\n",
       "Thẻ tín dụng             136\n",
       "Thanh toán trực tuyến     82\n",
       "Name: count, dtype: int64"
      ]
     },
     "execution_count": 41,
     "metadata": {},
     "output_type": "execute_result"
    }
   ],
   "source": [
    "dataframe['transaction_type'].value_counts()"
   ]
  },
  {
   "cell_type": "code",
   "execution_count": 40,
   "id": "ffe549c5-170a-4b46-adaf-630d3dce0dd4",
   "metadata": {
    "tags": []
   },
   "outputs": [
    {
     "data": {
      "text/plain": [
       "transaction_type\n",
       "Mua hàng                 0.280\n",
       "Thanh toán               0.196\n",
       "Hoàn tiền                0.167\n",
       "Thẻ ghi nợ               0.139\n",
       "Thẻ tín dụng             0.136\n",
       "Thanh toán trực tuyến    0.082\n",
       "Name: proportion, dtype: float64"
      ]
     },
     "execution_count": 40,
     "metadata": {},
     "output_type": "execute_result"
    }
   ],
   "source": [
    "dataframe['transaction_type'].value_counts(normalize=True)"
   ]
  },
  {
   "cell_type": "code",
   "execution_count": 44,
   "id": "c2e5570d-cbfa-470a-bd33-7bfd017cf3f9",
   "metadata": {
    "tags": []
   },
   "outputs": [
    {
     "data": {
      "text/plain": [
       "array(['Thanh toán trực tuyến', 'Mua hàng', 'Thẻ tín dụng', 'Thẻ ghi nợ',\n",
       "       'Hoàn tiền', 'Thanh toán'], dtype=object)"
      ]
     },
     "execution_count": 44,
     "metadata": {},
     "output_type": "execute_result"
    }
   ],
   "source": [
    "dataframe['transaction_type'].unique()"
   ]
  },
  {
   "cell_type": "code",
   "execution_count": 45,
   "id": "54199002-7a4c-4282-9985-d6296bfb5333",
   "metadata": {
    "tags": []
   },
   "outputs": [
    {
     "data": {
      "text/plain": [
       "array(['Đang xử lý', 'Đã giao hàng', 'Thành công', 'Đã hủy',\n",
       "       'Đã xác nhận', 'Đã tiếp nhận', 'Đã hoàn trả', 'Đã từ chối'],\n",
       "      dtype=object)"
      ]
     },
     "execution_count": 45,
     "metadata": {},
     "output_type": "execute_result"
    }
   ],
   "source": [
    "dataframe['transaction_status'].unique()"
   ]
  },
  {
   "cell_type": "code",
   "execution_count": 50,
   "id": "d2d8e370-eabd-4167-a4bf-d525f8250514",
   "metadata": {
    "tags": []
   },
   "outputs": [
    {
     "data": {
      "text/plain": [
       "transaction_type       transaction_status\n",
       "Mua hàng               Đã giao hàng          78\n",
       "Thanh toán             Đã giao hàng          49\n",
       "Thẻ ghi nợ             Đã giao hàng          46\n",
       "Mua hàng               Đã tiếp nhận          45\n",
       "                       Thành công            43\n",
       "                       Đang xử lý            36\n",
       "Thanh toán             Thành công            36\n",
       "Hoàn tiền              Đã giao hàng          35\n",
       "Thẻ tín dụng           Đã giao hàng          33\n",
       "Mua hàng               Đã hủy                32\n",
       "Thẻ tín dụng           Thành công            31\n",
       "Thanh toán             Đang xử lý            30\n",
       "Hoàn tiền              Thành công            29\n",
       "Thanh toán             Đã tiếp nhận          28\n",
       "Hoàn tiền              Đang xử lý            27\n",
       "Thanh toán             Đã hủy                25\n",
       "Mua hàng               Đã xác nhận           24\n",
       "Thẻ tín dụng           Đang xử lý            23\n",
       "Mua hàng               Đã hoàn trả           22\n",
       "Hoàn tiền              Đã tiếp nhận          22\n",
       "Thanh toán trực tuyến  Đã giao hàng          22\n",
       "Hoàn tiền              Đã hoàn trả           20\n",
       "Thẻ ghi nợ             Đang xử lý            20\n",
       "                       Thành công            19\n",
       "Thẻ tín dụng           Đã tiếp nhận          19\n",
       "Thẻ ghi nợ             Đã xác nhận           19\n",
       "Hoàn tiền              Đã xác nhận           17\n",
       "                       Đã hủy                16\n",
       "Thẻ ghi nợ             Đã tiếp nhận          16\n",
       "Thanh toán             Đã xác nhận           15\n",
       "Thanh toán trực tuyến  Đang xử lý            14\n",
       "                       Thành công            14\n",
       "                       Đã tiếp nhận          12\n",
       "Thanh toán             Đã hoàn trả           12\n",
       "Thẻ tín dụng           Đã hủy                12\n",
       "                       Đã xác nhận           12\n",
       "Thẻ ghi nợ             Đã hoàn trả           10\n",
       "Thanh toán trực tuyến  Đã hoàn trả            9\n",
       "Thẻ ghi nợ             Đã hủy                 8\n",
       "Thanh toán trực tuyến  Đã xác nhận            7\n",
       "Thẻ tín dụng           Đã hoàn trả            6\n",
       "Thanh toán trực tuyến  Đã hủy                 4\n",
       "Thẻ ghi nợ             Đã từ chối             1\n",
       "Thanh toán             Đã từ chối             1\n",
       "Hoàn tiền              Đã từ chối             1\n",
       "Name: count, dtype: int64"
      ]
     },
     "execution_count": 50,
     "metadata": {},
     "output_type": "execute_result"
    }
   ],
   "source": [
    "dataframe[['transaction_type', 'transaction_status']].value_counts()"
   ]
  },
  {
   "cell_type": "markdown",
   "id": "f320980f-df2b-46b7-bd70-4f30509b17bd",
   "metadata": {},
   "source": [
    "## Xem thông tin tổng quát của DataFrame"
   ]
  },
  {
   "cell_type": "code",
   "execution_count": 75,
   "id": "b6fffb2d-45cd-4ce2-8b03-7502114aabd8",
   "metadata": {
    "tags": []
   },
   "outputs": [
    {
     "data": {
      "text/html": [
       "<div>\n",
       "<style scoped>\n",
       "    .dataframe tbody tr th:only-of-type {\n",
       "        vertical-align: middle;\n",
       "    }\n",
       "\n",
       "    .dataframe tbody tr th {\n",
       "        vertical-align: top;\n",
       "    }\n",
       "\n",
       "    .dataframe thead th {\n",
       "        text-align: right;\n",
       "    }\n",
       "</style>\n",
       "<table border=\"1\" class=\"dataframe\">\n",
       "  <thead>\n",
       "    <tr style=\"text-align: right;\">\n",
       "      <th></th>\n",
       "      <th>transaction_id</th>\n",
       "      <th>transaction_datetime</th>\n",
       "      <th>customer_id</th>\n",
       "      <th>product_id</th>\n",
       "      <th>product_lvl1</th>\n",
       "      <th>product_lvl2</th>\n",
       "      <th>product_lvl3</th>\n",
       "      <th>product_lvl4</th>\n",
       "      <th>brand</th>\n",
       "      <th>price</th>\n",
       "      <th>...</th>\n",
       "      <th>rating</th>\n",
       "      <th>num_sold</th>\n",
       "      <th>quantity</th>\n",
       "      <th>unit_price</th>\n",
       "      <th>total_amount</th>\n",
       "      <th>payment_id</th>\n",
       "      <th>promotion_id</th>\n",
       "      <th>transaction_status</th>\n",
       "      <th>transaction_type</th>\n",
       "      <th>store_id</th>\n",
       "    </tr>\n",
       "  </thead>\n",
       "  <tbody>\n",
       "    <tr>\n",
       "      <th>0</th>\n",
       "      <td>2271.0</td>\n",
       "      <td>2020-02-13 20:48:32</td>\n",
       "      <td>1342</td>\n",
       "      <td>76</td>\n",
       "      <td>Máy giặt và Máy sấy</td>\n",
       "      <td>Máy sấy</td>\n",
       "      <td>Máy sấy Electrolux</td>\n",
       "      <td>Máy sấy Electrolux EDP-2074PDW</td>\n",
       "      <td>Electrolux</td>\n",
       "      <td>6990000</td>\n",
       "      <td>...</td>\n",
       "      <td>4.7</td>\n",
       "      <td>1463</td>\n",
       "      <td>8</td>\n",
       "      <td>6990000</td>\n",
       "      <td>55920000</td>\n",
       "      <td>1463.0</td>\n",
       "      <td>2488.0</td>\n",
       "      <td>Đang xử lý</td>\n",
       "      <td>Thanh toán trực tuyến</td>\n",
       "      <td>8276</td>\n",
       "    </tr>\n",
       "    <tr>\n",
       "      <th>1</th>\n",
       "      <td>1522.0</td>\n",
       "      <td>2022-03-05 00:11:00</td>\n",
       "      <td>936</td>\n",
       "      <td>114</td>\n",
       "      <td>Siêu thị đồ ăn</td>\n",
       "      <td>Thực phẩm đóng hộp</td>\n",
       "      <td>Sữa</td>\n",
       "      <td>Sữa đặc hộp</td>\n",
       "      <td>Nestle</td>\n",
       "      <td>25000</td>\n",
       "      <td>...</td>\n",
       "      <td>2.3</td>\n",
       "      <td>218</td>\n",
       "      <td>2</td>\n",
       "      <td>25000</td>\n",
       "      <td>50000</td>\n",
       "      <td>1011.0</td>\n",
       "      <td>1660.0</td>\n",
       "      <td>Đã giao hàng</td>\n",
       "      <td>Mua hàng</td>\n",
       "      <td>8091</td>\n",
       "    </tr>\n",
       "    <tr>\n",
       "      <th>2</th>\n",
       "      <td>3440.0</td>\n",
       "      <td>2022-05-21 01:29:02</td>\n",
       "      <td>1976</td>\n",
       "      <td>14</td>\n",
       "      <td>Siêu thị đồ ăn</td>\n",
       "      <td>Thực phẩm đóng gói</td>\n",
       "      <td>Chips</td>\n",
       "      <td>Chips khoai tây</td>\n",
       "      <td>Crispy Crunch</td>\n",
       "      <td>18000</td>\n",
       "      <td>...</td>\n",
       "      <td>4.9</td>\n",
       "      <td>1230</td>\n",
       "      <td>0</td>\n",
       "      <td>18000</td>\n",
       "      <td>0</td>\n",
       "      <td>2135.0</td>\n",
       "      <td>3754.0</td>\n",
       "      <td>Thành công</td>\n",
       "      <td>Thanh toán trực tuyến</td>\n",
       "      <td>8696</td>\n",
       "    </tr>\n",
       "    <tr>\n",
       "      <th>3</th>\n",
       "      <td>12004.0</td>\n",
       "      <td>2021-10-30 13:53:11</td>\n",
       "      <td>6831</td>\n",
       "      <td>57</td>\n",
       "      <td>Sách</td>\n",
       "      <td>Sách tiểu thuyết</td>\n",
       "      <td>Tiểu thuyết khoa học viễn tưởng</td>\n",
       "      <td>Thế Giới Mới</td>\n",
       "      <td>Hội Nhà Văn</td>\n",
       "      <td>109000</td>\n",
       "      <td>...</td>\n",
       "      <td>NaN</td>\n",
       "      <td>721</td>\n",
       "      <td>1</td>\n",
       "      <td>109000</td>\n",
       "      <td>109000</td>\n",
       "      <td>7429.0</td>\n",
       "      <td>NaN</td>\n",
       "      <td>Đang xử lý</td>\n",
       "      <td>Thẻ tín dụng</td>\n",
       "      <td>8789</td>\n",
       "    </tr>\n",
       "    <tr>\n",
       "      <th>4</th>\n",
       "      <td>13568.0</td>\n",
       "      <td>2022-08-25 21:01:18</td>\n",
       "      <td>7780</td>\n",
       "      <td>117</td>\n",
       "      <td>Đèn trang trí và Chiếu sáng</td>\n",
       "      <td>Đèn bàn</td>\n",
       "      <td>Đèn bàn đọc sách</td>\n",
       "      <td>Đèn bàn đọc sách LED</td>\n",
       "      <td>Philips</td>\n",
       "      <td>599000</td>\n",
       "      <td>...</td>\n",
       "      <td>4.7</td>\n",
       "      <td>1197</td>\n",
       "      <td>2</td>\n",
       "      <td>599000</td>\n",
       "      <td>1198000</td>\n",
       "      <td>8468.0</td>\n",
       "      <td>14803.0</td>\n",
       "      <td>Đã hủy</td>\n",
       "      <td>Mua hàng</td>\n",
       "      <td>8318</td>\n",
       "    </tr>\n",
       "    <tr>\n",
       "      <th>...</th>\n",
       "      <td>...</td>\n",
       "      <td>...</td>\n",
       "      <td>...</td>\n",
       "      <td>...</td>\n",
       "      <td>...</td>\n",
       "      <td>...</td>\n",
       "      <td>...</td>\n",
       "      <td>...</td>\n",
       "      <td>...</td>\n",
       "      <td>...</td>\n",
       "      <td>...</td>\n",
       "      <td>...</td>\n",
       "      <td>...</td>\n",
       "      <td>...</td>\n",
       "      <td>...</td>\n",
       "      <td>...</td>\n",
       "      <td>...</td>\n",
       "      <td>...</td>\n",
       "      <td>...</td>\n",
       "      <td>...</td>\n",
       "      <td>...</td>\n",
       "    </tr>\n",
       "    <tr>\n",
       "      <th>995</th>\n",
       "      <td>1219.0</td>\n",
       "      <td>2019-01-31 13:44:59</td>\n",
       "      <td>743</td>\n",
       "      <td>92</td>\n",
       "      <td>Thương mại điện tử</td>\n",
       "      <td>Máy tính bảng</td>\n",
       "      <td>iPad</td>\n",
       "      <td>iPad Pro</td>\n",
       "      <td>Apple</td>\n",
       "      <td>20000000</td>\n",
       "      <td>...</td>\n",
       "      <td>4.9</td>\n",
       "      <td>1532</td>\n",
       "      <td>3</td>\n",
       "      <td>20000000</td>\n",
       "      <td>60000000</td>\n",
       "      <td>807.0</td>\n",
       "      <td>NaN</td>\n",
       "      <td>Đã tiếp nhận</td>\n",
       "      <td>Thẻ tín dụng</td>\n",
       "      <td>8924</td>\n",
       "    </tr>\n",
       "    <tr>\n",
       "      <th>996</th>\n",
       "      <td>13906.0</td>\n",
       "      <td>2020-05-06 09:01:52</td>\n",
       "      <td>7977</td>\n",
       "      <td>88</td>\n",
       "      <td>Thương mại điện tử</td>\n",
       "      <td>Máy tính xách tay</td>\n",
       "      <td>Laptop Dell</td>\n",
       "      <td>Laptop Dell XPS 13</td>\n",
       "      <td>Dell</td>\n",
       "      <td>32000000</td>\n",
       "      <td>...</td>\n",
       "      <td>5.0</td>\n",
       "      <td>205</td>\n",
       "      <td>16</td>\n",
       "      <td>32000000</td>\n",
       "      <td>512000000</td>\n",
       "      <td>8680.0</td>\n",
       "      <td>15171.0</td>\n",
       "      <td>Đang xử lý</td>\n",
       "      <td>Mua hàng</td>\n",
       "      <td>8675</td>\n",
       "    </tr>\n",
       "    <tr>\n",
       "      <th>997</th>\n",
       "      <td>11972.0</td>\n",
       "      <td>2020-01-26 05:15:07</td>\n",
       "      <td>6814</td>\n",
       "      <td>87</td>\n",
       "      <td>Siêu thị</td>\n",
       "      <td>Đồ uống</td>\n",
       "      <td>Bia</td>\n",
       "      <td>Bia Tiger</td>\n",
       "      <td>Tiger Beer</td>\n",
       "      <td>25000</td>\n",
       "      <td>...</td>\n",
       "      <td>NaN</td>\n",
       "      <td>1517</td>\n",
       "      <td>1</td>\n",
       "      <td>25000</td>\n",
       "      <td>25000</td>\n",
       "      <td>7410.0</td>\n",
       "      <td>NaN</td>\n",
       "      <td>Đã xác nhận</td>\n",
       "      <td>Thanh toán</td>\n",
       "      <td>8430</td>\n",
       "    </tr>\n",
       "    <tr>\n",
       "      <th>998</th>\n",
       "      <td>4981.0</td>\n",
       "      <td>2020-08-03 20:47:08</td>\n",
       "      <td>2880</td>\n",
       "      <td>55</td>\n",
       "      <td>Thời trang Nam/Nữ</td>\n",
       "      <td>Áo khoác</td>\n",
       "      <td>Áo khoác dù</td>\n",
       "      <td>Áo khoác dù thể thao</td>\n",
       "      <td>Nike</td>\n",
       "      <td>1099000</td>\n",
       "      <td>...</td>\n",
       "      <td>2.1</td>\n",
       "      <td>1634</td>\n",
       "      <td>0</td>\n",
       "      <td>1099000</td>\n",
       "      <td>0</td>\n",
       "      <td>3136.0</td>\n",
       "      <td>NaN</td>\n",
       "      <td>Thành công</td>\n",
       "      <td>Mua hàng</td>\n",
       "      <td>8618</td>\n",
       "    </tr>\n",
       "    <tr>\n",
       "      <th>999</th>\n",
       "      <td>11701.0</td>\n",
       "      <td>2014-01-15 13:09:11</td>\n",
       "      <td>6659</td>\n",
       "      <td>142</td>\n",
       "      <td>Siêu thị đồ ăn</td>\n",
       "      <td>Đồ uống</td>\n",
       "      <td>Nước ngọt</td>\n",
       "      <td>Nước ngọt Coca-Cola</td>\n",
       "      <td>Coca-Cola</td>\n",
       "      <td>12000</td>\n",
       "      <td>...</td>\n",
       "      <td>5.0</td>\n",
       "      <td>23</td>\n",
       "      <td>6</td>\n",
       "      <td>12000</td>\n",
       "      <td>72000</td>\n",
       "      <td>7247.0</td>\n",
       "      <td>NaN</td>\n",
       "      <td>Thành công</td>\n",
       "      <td>Mua hàng</td>\n",
       "      <td>8811</td>\n",
       "    </tr>\n",
       "  </tbody>\n",
       "</table>\n",
       "<p>1000 rows × 21 columns</p>\n",
       "</div>"
      ],
      "text/plain": [
       "     transaction_id transaction_datetime  customer_id  product_id   \n",
       "0            2271.0  2020-02-13 20:48:32         1342          76  \\\n",
       "1            1522.0  2022-03-05 00:11:00          936         114   \n",
       "2            3440.0  2022-05-21 01:29:02         1976          14   \n",
       "3           12004.0  2021-10-30 13:53:11         6831          57   \n",
       "4           13568.0  2022-08-25 21:01:18         7780         117   \n",
       "..              ...                  ...          ...         ...   \n",
       "995          1219.0  2019-01-31 13:44:59          743          92   \n",
       "996         13906.0  2020-05-06 09:01:52         7977          88   \n",
       "997         11972.0  2020-01-26 05:15:07         6814          87   \n",
       "998          4981.0  2020-08-03 20:47:08         2880          55   \n",
       "999         11701.0  2014-01-15 13:09:11         6659         142   \n",
       "\n",
       "                    product_lvl1        product_lvl2   \n",
       "0            Máy giặt và Máy sấy             Máy sấy  \\\n",
       "1                 Siêu thị đồ ăn  Thực phẩm đóng hộp   \n",
       "2                 Siêu thị đồ ăn  Thực phẩm đóng gói   \n",
       "3                           Sách    Sách tiểu thuyết   \n",
       "4    Đèn trang trí và Chiếu sáng             Đèn bàn   \n",
       "..                           ...                 ...   \n",
       "995           Thương mại điện tử       Máy tính bảng   \n",
       "996           Thương mại điện tử   Máy tính xách tay   \n",
       "997                     Siêu thị             Đồ uống   \n",
       "998            Thời trang Nam/Nữ            Áo khoác   \n",
       "999               Siêu thị đồ ăn             Đồ uống   \n",
       "\n",
       "                        product_lvl3                    product_lvl4   \n",
       "0                 Máy sấy Electrolux  Máy sấy Electrolux EDP-2074PDW  \\\n",
       "1                                Sữa                     Sữa đặc hộp   \n",
       "2                              Chips                 Chips khoai tây   \n",
       "3    Tiểu thuyết khoa học viễn tưởng                    Thế Giới Mới   \n",
       "4                   Đèn bàn đọc sách            Đèn bàn đọc sách LED   \n",
       "..                               ...                             ...   \n",
       "995                             iPad                        iPad Pro   \n",
       "996                      Laptop Dell              Laptop Dell XPS 13   \n",
       "997                              Bia                       Bia Tiger   \n",
       "998                      Áo khoác dù            Áo khoác dù thể thao   \n",
       "999                        Nước ngọt             Nước ngọt Coca-Cola   \n",
       "\n",
       "             brand     price  ... rating  num_sold  quantity  unit_price   \n",
       "0       Electrolux   6990000  ...    4.7      1463         8     6990000  \\\n",
       "1           Nestle     25000  ...    2.3       218         2       25000   \n",
       "2    Crispy Crunch     18000  ...    4.9      1230         0       18000   \n",
       "3      Hội Nhà Văn    109000  ...    NaN       721         1      109000   \n",
       "4          Philips    599000  ...    4.7      1197         2      599000   \n",
       "..             ...       ...  ...    ...       ...       ...         ...   \n",
       "995          Apple  20000000  ...    4.9      1532         3    20000000   \n",
       "996           Dell  32000000  ...    5.0       205        16    32000000   \n",
       "997     Tiger Beer     25000  ...    NaN      1517         1       25000   \n",
       "998           Nike   1099000  ...    2.1      1634         0     1099000   \n",
       "999      Coca-Cola     12000  ...    5.0        23         6       12000   \n",
       "\n",
       "     total_amount  payment_id  promotion_id  transaction_status   \n",
       "0        55920000      1463.0        2488.0          Đang xử lý  \\\n",
       "1           50000      1011.0        1660.0        Đã giao hàng   \n",
       "2               0      2135.0        3754.0          Thành công   \n",
       "3          109000      7429.0           NaN          Đang xử lý   \n",
       "4         1198000      8468.0       14803.0              Đã hủy   \n",
       "..            ...         ...           ...                 ...   \n",
       "995      60000000       807.0           NaN        Đã tiếp nhận   \n",
       "996     512000000      8680.0       15171.0          Đang xử lý   \n",
       "997         25000      7410.0           NaN         Đã xác nhận   \n",
       "998             0      3136.0           NaN          Thành công   \n",
       "999         72000      7247.0           NaN          Thành công   \n",
       "\n",
       "          transaction_type store_id  \n",
       "0    Thanh toán trực tuyến     8276  \n",
       "1                 Mua hàng     8091  \n",
       "2    Thanh toán trực tuyến     8696  \n",
       "3             Thẻ tín dụng     8789  \n",
       "4                 Mua hàng     8318  \n",
       "..                     ...      ...  \n",
       "995           Thẻ tín dụng     8924  \n",
       "996               Mua hàng     8675  \n",
       "997             Thanh toán     8430  \n",
       "998               Mua hàng     8618  \n",
       "999               Mua hàng     8811  \n",
       "\n",
       "[1000 rows x 21 columns]"
      ]
     },
     "execution_count": 75,
     "metadata": {},
     "output_type": "execute_result"
    }
   ],
   "source": [
    "dataframe"
   ]
  },
  {
   "cell_type": "code",
   "execution_count": 76,
   "id": "0932e032-955b-4edc-892a-bb7670248087",
   "metadata": {
    "tags": []
   },
   "outputs": [
    {
     "name": "stdout",
     "output_type": "stream",
     "text": [
      "<class 'pandas.core.frame.DataFrame'>\n",
      "Index: 1000 entries, 0 to 999\n",
      "Data columns (total 21 columns):\n",
      " #   Column                Non-Null Count  Dtype  \n",
      "---  ------                --------------  -----  \n",
      " 0   transaction_id        983 non-null    float64\n",
      " 1   transaction_datetime  963 non-null    object \n",
      " 2   customer_id           1000 non-null   int64  \n",
      " 3   product_id            1000 non-null   int64  \n",
      " 4   product_lvl1          1000 non-null   object \n",
      " 5   product_lvl2          1000 non-null   object \n",
      " 6   product_lvl3          1000 non-null   object \n",
      " 7   product_lvl4          1000 non-null   object \n",
      " 8   brand                 1000 non-null   object \n",
      " 9   price                 1000 non-null   int64  \n",
      " 10  description           1000 non-null   object \n",
      " 11  rating                908 non-null    float64\n",
      " 12  num_sold              1000 non-null   int64  \n",
      " 13  quantity              1000 non-null   int64  \n",
      " 14  unit_price            1000 non-null   int64  \n",
      " 15  total_amount          1000 non-null   int64  \n",
      " 16  payment_id            971 non-null    float64\n",
      " 17  promotion_id          489 non-null    float64\n",
      " 18  transaction_status    1000 non-null   object \n",
      " 19  transaction_type      1000 non-null   object \n",
      " 20  store_id              1000 non-null   int64  \n",
      "dtypes: float64(4), int64(8), object(9)\n",
      "memory usage: 204.2+ KB\n"
     ]
    }
   ],
   "source": [
    "dataframe.info()"
   ]
  },
  {
   "cell_type": "code",
   "execution_count": 53,
   "id": "74203a42-2290-4b60-8c53-7dffeb0d9a99",
   "metadata": {
    "tags": []
   },
   "outputs": [],
   "source": [
    "# thong tin transaction_datetime nen la dang datetime64\n",
    "dataframe['transaction_datetime'] = pd.to_datetime(dataframe['transaction_datetime'])"
   ]
  },
  {
   "cell_type": "code",
   "execution_count": 54,
   "id": "64d4d44d-01d1-49b3-9101-99d000206346",
   "metadata": {
    "tags": []
   },
   "outputs": [
    {
     "name": "stdout",
     "output_type": "stream",
     "text": [
      "<class 'pandas.core.frame.DataFrame'>\n",
      "Index: 1000 entries, 0 to 999\n",
      "Data columns (total 21 columns):\n",
      " #   Column                Non-Null Count  Dtype         \n",
      "---  ------                --------------  -----         \n",
      " 0   transaction_id        983 non-null    float64       \n",
      " 1   transaction_datetime  963 non-null    datetime64[ns]\n",
      " 2   customer_id           1000 non-null   int64         \n",
      " 3   product_id            1000 non-null   int64         \n",
      " 4   product_lvl1          1000 non-null   object        \n",
      " 5   product_lvl2          1000 non-null   object        \n",
      " 6   product_lvl3          1000 non-null   object        \n",
      " 7   product_lvl4          1000 non-null   object        \n",
      " 8   brand                 1000 non-null   object        \n",
      " 9   price                 1000 non-null   int64         \n",
      " 10  description           1000 non-null   object        \n",
      " 11  rating                908 non-null    float64       \n",
      " 12  num_sold              1000 non-null   int64         \n",
      " 13  quantity              1000 non-null   int64         \n",
      " 14  unit_price            1000 non-null   int64         \n",
      " 15  total_amount          1000 non-null   int64         \n",
      " 16  payment_id            971 non-null    float64       \n",
      " 17  promotion_id          489 non-null    float64       \n",
      " 18  transaction_status    1000 non-null   object        \n",
      " 19  transaction_type      1000 non-null   object        \n",
      " 20  store_id              1000 non-null   int64         \n",
      "dtypes: datetime64[ns](1), float64(4), int64(8), object(8)\n",
      "memory usage: 204.2+ KB\n"
     ]
    }
   ],
   "source": [
    "dataframe.info()"
   ]
  },
  {
   "cell_type": "code",
   "execution_count": 55,
   "id": "30c438a4-3df5-46e0-8dd6-3d08251165f1",
   "metadata": {
    "tags": []
   },
   "outputs": [
    {
     "data": {
      "text/html": [
       "<div>\n",
       "<style scoped>\n",
       "    .dataframe tbody tr th:only-of-type {\n",
       "        vertical-align: middle;\n",
       "    }\n",
       "\n",
       "    .dataframe tbody tr th {\n",
       "        vertical-align: top;\n",
       "    }\n",
       "\n",
       "    .dataframe thead th {\n",
       "        text-align: right;\n",
       "    }\n",
       "</style>\n",
       "<table border=\"1\" class=\"dataframe\">\n",
       "  <thead>\n",
       "    <tr style=\"text-align: right;\">\n",
       "      <th></th>\n",
       "      <th>product_lvl1</th>\n",
       "      <th>product_lvl2</th>\n",
       "      <th>product_lvl3</th>\n",
       "      <th>product_lvl4</th>\n",
       "      <th>brand</th>\n",
       "      <th>description</th>\n",
       "      <th>transaction_status</th>\n",
       "      <th>transaction_type</th>\n",
       "    </tr>\n",
       "  </thead>\n",
       "  <tbody>\n",
       "    <tr>\n",
       "      <th>0</th>\n",
       "      <td>Máy giặt và Máy sấy</td>\n",
       "      <td>Máy sấy</td>\n",
       "      <td>Máy sấy Electrolux</td>\n",
       "      <td>Máy sấy Electrolux EDP-2074PDW</td>\n",
       "      <td>Electrolux</td>\n",
       "      <td>Máy sấy Electrolux EDP-2074PDW - Sấy khô nhanh...</td>\n",
       "      <td>Đang xử lý</td>\n",
       "      <td>Thanh toán trực tuyến</td>\n",
       "    </tr>\n",
       "    <tr>\n",
       "      <th>1</th>\n",
       "      <td>Siêu thị đồ ăn</td>\n",
       "      <td>Thực phẩm đóng hộp</td>\n",
       "      <td>Sữa</td>\n",
       "      <td>Sữa đặc hộp</td>\n",
       "      <td>Nestle</td>\n",
       "      <td>Sữa đặc hộp Nestle - Thơm ngon và bổ dưỡng.</td>\n",
       "      <td>Đã giao hàng</td>\n",
       "      <td>Mua hàng</td>\n",
       "    </tr>\n",
       "    <tr>\n",
       "      <th>2</th>\n",
       "      <td>Siêu thị đồ ăn</td>\n",
       "      <td>Thực phẩm đóng gói</td>\n",
       "      <td>Chips</td>\n",
       "      <td>Chips khoai tây</td>\n",
       "      <td>Crispy Crunch</td>\n",
       "      <td>Chips khoai tây Crispy Crunch - Ăn vặt thú vị ...</td>\n",
       "      <td>Thành công</td>\n",
       "      <td>Thanh toán trực tuyến</td>\n",
       "    </tr>\n",
       "    <tr>\n",
       "      <th>3</th>\n",
       "      <td>Sách</td>\n",
       "      <td>Sách tiểu thuyết</td>\n",
       "      <td>Tiểu thuyết khoa học viễn tưởng</td>\n",
       "      <td>Thế Giới Mới</td>\n",
       "      <td>Hội Nhà Văn</td>\n",
       "      <td>Tiểu thuyết khoa học viễn tưởng 'Thế Giới Mới'...</td>\n",
       "      <td>Đang xử lý</td>\n",
       "      <td>Thẻ tín dụng</td>\n",
       "    </tr>\n",
       "    <tr>\n",
       "      <th>4</th>\n",
       "      <td>Đèn trang trí và Chiếu sáng</td>\n",
       "      <td>Đèn bàn</td>\n",
       "      <td>Đèn bàn đọc sách</td>\n",
       "      <td>Đèn bàn đọc sách LED</td>\n",
       "      <td>Philips</td>\n",
       "      <td>Đèn bàn đọc sách LED Philips - Ánh sáng dịu nh...</td>\n",
       "      <td>Đã hủy</td>\n",
       "      <td>Mua hàng</td>\n",
       "    </tr>\n",
       "    <tr>\n",
       "      <th>...</th>\n",
       "      <td>...</td>\n",
       "      <td>...</td>\n",
       "      <td>...</td>\n",
       "      <td>...</td>\n",
       "      <td>...</td>\n",
       "      <td>...</td>\n",
       "      <td>...</td>\n",
       "      <td>...</td>\n",
       "    </tr>\n",
       "    <tr>\n",
       "      <th>995</th>\n",
       "      <td>Thương mại điện tử</td>\n",
       "      <td>Máy tính bảng</td>\n",
       "      <td>iPad</td>\n",
       "      <td>iPad Pro</td>\n",
       "      <td>Apple</td>\n",
       "      <td>iPad Pro - Màn hình Retina chất lượng cao và h...</td>\n",
       "      <td>Đã tiếp nhận</td>\n",
       "      <td>Thẻ tín dụng</td>\n",
       "    </tr>\n",
       "    <tr>\n",
       "      <th>996</th>\n",
       "      <td>Thương mại điện tử</td>\n",
       "      <td>Máy tính xách tay</td>\n",
       "      <td>Laptop Dell</td>\n",
       "      <td>Laptop Dell XPS 13</td>\n",
       "      <td>Dell</td>\n",
       "      <td>Laptop Dell XPS 13 - Mỏng nhẹ và hiệu năng cao.</td>\n",
       "      <td>Đang xử lý</td>\n",
       "      <td>Mua hàng</td>\n",
       "    </tr>\n",
       "    <tr>\n",
       "      <th>997</th>\n",
       "      <td>Siêu thị</td>\n",
       "      <td>Đồ uống</td>\n",
       "      <td>Bia</td>\n",
       "      <td>Bia Tiger</td>\n",
       "      <td>Tiger Beer</td>\n",
       "      <td>Bia Tiger Tiger Beer - Vị đậm đà và thơm ngon.</td>\n",
       "      <td>Đã xác nhận</td>\n",
       "      <td>Thanh toán</td>\n",
       "    </tr>\n",
       "    <tr>\n",
       "      <th>998</th>\n",
       "      <td>Thời trang Nam/Nữ</td>\n",
       "      <td>Áo khoác</td>\n",
       "      <td>Áo khoác dù</td>\n",
       "      <td>Áo khoác dù thể thao</td>\n",
       "      <td>Nike</td>\n",
       "      <td>Áo khoác dù thể thao Nike - Thích hợp cho các ...</td>\n",
       "      <td>Thành công</td>\n",
       "      <td>Mua hàng</td>\n",
       "    </tr>\n",
       "    <tr>\n",
       "      <th>999</th>\n",
       "      <td>Siêu thị đồ ăn</td>\n",
       "      <td>Đồ uống</td>\n",
       "      <td>Nước ngọt</td>\n",
       "      <td>Nước ngọt Coca-Cola</td>\n",
       "      <td>Coca-Cola</td>\n",
       "      <td>Nước ngọt Coca-Cola - Hương vị cổ điển và sảng...</td>\n",
       "      <td>Thành công</td>\n",
       "      <td>Mua hàng</td>\n",
       "    </tr>\n",
       "  </tbody>\n",
       "</table>\n",
       "<p>1000 rows × 8 columns</p>\n",
       "</div>"
      ],
      "text/plain": [
       "                    product_lvl1        product_lvl2   \n",
       "0            Máy giặt và Máy sấy             Máy sấy  \\\n",
       "1                 Siêu thị đồ ăn  Thực phẩm đóng hộp   \n",
       "2                 Siêu thị đồ ăn  Thực phẩm đóng gói   \n",
       "3                           Sách    Sách tiểu thuyết   \n",
       "4    Đèn trang trí và Chiếu sáng             Đèn bàn   \n",
       "..                           ...                 ...   \n",
       "995           Thương mại điện tử       Máy tính bảng   \n",
       "996           Thương mại điện tử   Máy tính xách tay   \n",
       "997                     Siêu thị             Đồ uống   \n",
       "998            Thời trang Nam/Nữ            Áo khoác   \n",
       "999               Siêu thị đồ ăn             Đồ uống   \n",
       "\n",
       "                        product_lvl3                    product_lvl4   \n",
       "0                 Máy sấy Electrolux  Máy sấy Electrolux EDP-2074PDW  \\\n",
       "1                                Sữa                     Sữa đặc hộp   \n",
       "2                              Chips                 Chips khoai tây   \n",
       "3    Tiểu thuyết khoa học viễn tưởng                    Thế Giới Mới   \n",
       "4                   Đèn bàn đọc sách            Đèn bàn đọc sách LED   \n",
       "..                               ...                             ...   \n",
       "995                             iPad                        iPad Pro   \n",
       "996                      Laptop Dell              Laptop Dell XPS 13   \n",
       "997                              Bia                       Bia Tiger   \n",
       "998                      Áo khoác dù            Áo khoác dù thể thao   \n",
       "999                        Nước ngọt             Nước ngọt Coca-Cola   \n",
       "\n",
       "             brand                                        description   \n",
       "0       Electrolux  Máy sấy Electrolux EDP-2074PDW - Sấy khô nhanh...  \\\n",
       "1           Nestle        Sữa đặc hộp Nestle - Thơm ngon và bổ dưỡng.   \n",
       "2    Crispy Crunch  Chips khoai tây Crispy Crunch - Ăn vặt thú vị ...   \n",
       "3      Hội Nhà Văn  Tiểu thuyết khoa học viễn tưởng 'Thế Giới Mới'...   \n",
       "4          Philips  Đèn bàn đọc sách LED Philips - Ánh sáng dịu nh...   \n",
       "..             ...                                                ...   \n",
       "995          Apple  iPad Pro - Màn hình Retina chất lượng cao và h...   \n",
       "996           Dell    Laptop Dell XPS 13 - Mỏng nhẹ và hiệu năng cao.   \n",
       "997     Tiger Beer     Bia Tiger Tiger Beer - Vị đậm đà và thơm ngon.   \n",
       "998           Nike  Áo khoác dù thể thao Nike - Thích hợp cho các ...   \n",
       "999      Coca-Cola  Nước ngọt Coca-Cola - Hương vị cổ điển và sảng...   \n",
       "\n",
       "    transaction_status       transaction_type  \n",
       "0           Đang xử lý  Thanh toán trực tuyến  \n",
       "1         Đã giao hàng               Mua hàng  \n",
       "2           Thành công  Thanh toán trực tuyến  \n",
       "3           Đang xử lý           Thẻ tín dụng  \n",
       "4               Đã hủy               Mua hàng  \n",
       "..                 ...                    ...  \n",
       "995       Đã tiếp nhận           Thẻ tín dụng  \n",
       "996         Đang xử lý               Mua hàng  \n",
       "997        Đã xác nhận             Thanh toán  \n",
       "998         Thành công               Mua hàng  \n",
       "999         Thành công               Mua hàng  \n",
       "\n",
       "[1000 rows x 8 columns]"
      ]
     },
     "execution_count": 55,
     "metadata": {},
     "output_type": "execute_result"
    }
   ],
   "source": [
    "# cach lay cac column dang object\n",
    "dataframe.select_dtypes(include=object)"
   ]
  },
  {
   "cell_type": "code",
   "execution_count": 56,
   "id": "9dc2df66-4360-4974-9197-0f208367bae5",
   "metadata": {
    "tags": []
   },
   "outputs": [
    {
     "data": {
      "text/html": [
       "<div>\n",
       "<style scoped>\n",
       "    .dataframe tbody tr th:only-of-type {\n",
       "        vertical-align: middle;\n",
       "    }\n",
       "\n",
       "    .dataframe tbody tr th {\n",
       "        vertical-align: top;\n",
       "    }\n",
       "\n",
       "    .dataframe thead th {\n",
       "        text-align: right;\n",
       "    }\n",
       "</style>\n",
       "<table border=\"1\" class=\"dataframe\">\n",
       "  <thead>\n",
       "    <tr style=\"text-align: right;\">\n",
       "      <th></th>\n",
       "      <th>transaction_id</th>\n",
       "      <th>transaction_datetime</th>\n",
       "      <th>customer_id</th>\n",
       "      <th>product_id</th>\n",
       "      <th>price</th>\n",
       "      <th>rating</th>\n",
       "      <th>num_sold</th>\n",
       "      <th>quantity</th>\n",
       "      <th>unit_price</th>\n",
       "      <th>total_amount</th>\n",
       "      <th>payment_id</th>\n",
       "      <th>promotion_id</th>\n",
       "      <th>store_id</th>\n",
       "    </tr>\n",
       "  </thead>\n",
       "  <tbody>\n",
       "    <tr>\n",
       "      <th>0</th>\n",
       "      <td>2271.0</td>\n",
       "      <td>2020-02-13 20:48:32</td>\n",
       "      <td>1342</td>\n",
       "      <td>76</td>\n",
       "      <td>6990000</td>\n",
       "      <td>4.7</td>\n",
       "      <td>1463</td>\n",
       "      <td>8</td>\n",
       "      <td>6990000</td>\n",
       "      <td>55920000</td>\n",
       "      <td>1463.0</td>\n",
       "      <td>2488.0</td>\n",
       "      <td>8276</td>\n",
       "    </tr>\n",
       "    <tr>\n",
       "      <th>1</th>\n",
       "      <td>1522.0</td>\n",
       "      <td>2022-03-05 00:11:00</td>\n",
       "      <td>5</td>\n",
       "      <td>114</td>\n",
       "      <td>25000</td>\n",
       "      <td>2.3</td>\n",
       "      <td>218</td>\n",
       "      <td>2</td>\n",
       "      <td>25000</td>\n",
       "      <td>50000</td>\n",
       "      <td>1011.0</td>\n",
       "      <td>1660.0</td>\n",
       "      <td>8091</td>\n",
       "    </tr>\n",
       "    <tr>\n",
       "      <th>2</th>\n",
       "      <td>3440.0</td>\n",
       "      <td>2022-05-21 01:29:02</td>\n",
       "      <td>1976</td>\n",
       "      <td>14</td>\n",
       "      <td>18000</td>\n",
       "      <td>4.9</td>\n",
       "      <td>1230</td>\n",
       "      <td>0</td>\n",
       "      <td>18000</td>\n",
       "      <td>0</td>\n",
       "      <td>2135.0</td>\n",
       "      <td>3754.0</td>\n",
       "      <td>8696</td>\n",
       "    </tr>\n",
       "    <tr>\n",
       "      <th>3</th>\n",
       "      <td>12004.0</td>\n",
       "      <td>2021-10-30 13:53:11</td>\n",
       "      <td>6831</td>\n",
       "      <td>57</td>\n",
       "      <td>109000</td>\n",
       "      <td>NaN</td>\n",
       "      <td>721</td>\n",
       "      <td>1</td>\n",
       "      <td>109000</td>\n",
       "      <td>109000</td>\n",
       "      <td>7429.0</td>\n",
       "      <td>NaN</td>\n",
       "      <td>8789</td>\n",
       "    </tr>\n",
       "    <tr>\n",
       "      <th>4</th>\n",
       "      <td>13568.0</td>\n",
       "      <td>2022-08-25 21:01:18</td>\n",
       "      <td>7780</td>\n",
       "      <td>117</td>\n",
       "      <td>599000</td>\n",
       "      <td>4.7</td>\n",
       "      <td>1197</td>\n",
       "      <td>2</td>\n",
       "      <td>599000</td>\n",
       "      <td>1198000</td>\n",
       "      <td>8468.0</td>\n",
       "      <td>14803.0</td>\n",
       "      <td>8318</td>\n",
       "    </tr>\n",
       "    <tr>\n",
       "      <th>...</th>\n",
       "      <td>...</td>\n",
       "      <td>...</td>\n",
       "      <td>...</td>\n",
       "      <td>...</td>\n",
       "      <td>...</td>\n",
       "      <td>...</td>\n",
       "      <td>...</td>\n",
       "      <td>...</td>\n",
       "      <td>...</td>\n",
       "      <td>...</td>\n",
       "      <td>...</td>\n",
       "      <td>...</td>\n",
       "      <td>...</td>\n",
       "    </tr>\n",
       "    <tr>\n",
       "      <th>995</th>\n",
       "      <td>1219.0</td>\n",
       "      <td>2019-01-31 13:44:59</td>\n",
       "      <td>743</td>\n",
       "      <td>92</td>\n",
       "      <td>20000000</td>\n",
       "      <td>4.9</td>\n",
       "      <td>1532</td>\n",
       "      <td>3</td>\n",
       "      <td>20000000</td>\n",
       "      <td>60000000</td>\n",
       "      <td>807.0</td>\n",
       "      <td>NaN</td>\n",
       "      <td>8924</td>\n",
       "    </tr>\n",
       "    <tr>\n",
       "      <th>996</th>\n",
       "      <td>13906.0</td>\n",
       "      <td>2020-05-06 09:01:52</td>\n",
       "      <td>7977</td>\n",
       "      <td>88</td>\n",
       "      <td>32000000</td>\n",
       "      <td>5.0</td>\n",
       "      <td>205</td>\n",
       "      <td>16</td>\n",
       "      <td>32000000</td>\n",
       "      <td>512000000</td>\n",
       "      <td>8680.0</td>\n",
       "      <td>15171.0</td>\n",
       "      <td>8675</td>\n",
       "    </tr>\n",
       "    <tr>\n",
       "      <th>997</th>\n",
       "      <td>11972.0</td>\n",
       "      <td>2020-01-26 05:15:07</td>\n",
       "      <td>6814</td>\n",
       "      <td>87</td>\n",
       "      <td>25000</td>\n",
       "      <td>NaN</td>\n",
       "      <td>1517</td>\n",
       "      <td>1</td>\n",
       "      <td>25000</td>\n",
       "      <td>25000</td>\n",
       "      <td>7410.0</td>\n",
       "      <td>NaN</td>\n",
       "      <td>8430</td>\n",
       "    </tr>\n",
       "    <tr>\n",
       "      <th>998</th>\n",
       "      <td>4981.0</td>\n",
       "      <td>2020-08-03 20:47:08</td>\n",
       "      <td>2880</td>\n",
       "      <td>55</td>\n",
       "      <td>1099000</td>\n",
       "      <td>2.1</td>\n",
       "      <td>1634</td>\n",
       "      <td>0</td>\n",
       "      <td>1099000</td>\n",
       "      <td>0</td>\n",
       "      <td>3136.0</td>\n",
       "      <td>NaN</td>\n",
       "      <td>8618</td>\n",
       "    </tr>\n",
       "    <tr>\n",
       "      <th>999</th>\n",
       "      <td>11701.0</td>\n",
       "      <td>2014-01-15 13:09:11</td>\n",
       "      <td>6659</td>\n",
       "      <td>142</td>\n",
       "      <td>12000</td>\n",
       "      <td>5.0</td>\n",
       "      <td>23</td>\n",
       "      <td>6</td>\n",
       "      <td>12000</td>\n",
       "      <td>72000</td>\n",
       "      <td>7247.0</td>\n",
       "      <td>NaN</td>\n",
       "      <td>8811</td>\n",
       "    </tr>\n",
       "  </tbody>\n",
       "</table>\n",
       "<p>1000 rows × 13 columns</p>\n",
       "</div>"
      ],
      "text/plain": [
       "     transaction_id transaction_datetime  customer_id  product_id     price   \n",
       "0            2271.0  2020-02-13 20:48:32         1342          76   6990000  \\\n",
       "1            1522.0  2022-03-05 00:11:00            5         114     25000   \n",
       "2            3440.0  2022-05-21 01:29:02         1976          14     18000   \n",
       "3           12004.0  2021-10-30 13:53:11         6831          57    109000   \n",
       "4           13568.0  2022-08-25 21:01:18         7780         117    599000   \n",
       "..              ...                  ...          ...         ...       ...   \n",
       "995          1219.0  2019-01-31 13:44:59          743          92  20000000   \n",
       "996         13906.0  2020-05-06 09:01:52         7977          88  32000000   \n",
       "997         11972.0  2020-01-26 05:15:07         6814          87     25000   \n",
       "998          4981.0  2020-08-03 20:47:08         2880          55   1099000   \n",
       "999         11701.0  2014-01-15 13:09:11         6659         142     12000   \n",
       "\n",
       "     rating  num_sold  quantity  unit_price  total_amount  payment_id   \n",
       "0       4.7      1463         8     6990000      55920000      1463.0  \\\n",
       "1       2.3       218         2       25000         50000      1011.0   \n",
       "2       4.9      1230         0       18000             0      2135.0   \n",
       "3       NaN       721         1      109000        109000      7429.0   \n",
       "4       4.7      1197         2      599000       1198000      8468.0   \n",
       "..      ...       ...       ...         ...           ...         ...   \n",
       "995     4.9      1532         3    20000000      60000000       807.0   \n",
       "996     5.0       205        16    32000000     512000000      8680.0   \n",
       "997     NaN      1517         1       25000         25000      7410.0   \n",
       "998     2.1      1634         0     1099000             0      3136.0   \n",
       "999     5.0        23         6       12000         72000      7247.0   \n",
       "\n",
       "     promotion_id  store_id  \n",
       "0          2488.0      8276  \n",
       "1          1660.0      8091  \n",
       "2          3754.0      8696  \n",
       "3             NaN      8789  \n",
       "4         14803.0      8318  \n",
       "..            ...       ...  \n",
       "995           NaN      8924  \n",
       "996       15171.0      8675  \n",
       "997           NaN      8430  \n",
       "998           NaN      8618  \n",
       "999           NaN      8811  \n",
       "\n",
       "[1000 rows x 13 columns]"
      ]
     },
     "execution_count": 56,
     "metadata": {},
     "output_type": "execute_result"
    }
   ],
   "source": [
    "# cach lay cac column dang int va float\n",
    "dataframe.select_dtypes(exclude=[object])"
   ]
  },
  {
   "cell_type": "code",
   "execution_count": 57,
   "id": "c9cc8ef1-58e5-4739-a6cb-f78d91f0ee68",
   "metadata": {
    "tags": []
   },
   "outputs": [
    {
     "data": {
      "text/html": [
       "<div>\n",
       "<style scoped>\n",
       "    .dataframe tbody tr th:only-of-type {\n",
       "        vertical-align: middle;\n",
       "    }\n",
       "\n",
       "    .dataframe tbody tr th {\n",
       "        vertical-align: top;\n",
       "    }\n",
       "\n",
       "    .dataframe thead th {\n",
       "        text-align: right;\n",
       "    }\n",
       "</style>\n",
       "<table border=\"1\" class=\"dataframe\">\n",
       "  <thead>\n",
       "    <tr style=\"text-align: right;\">\n",
       "      <th></th>\n",
       "      <th>transaction_datetime</th>\n",
       "    </tr>\n",
       "  </thead>\n",
       "  <tbody>\n",
       "    <tr>\n",
       "      <th>0</th>\n",
       "      <td>2020-02-13 20:48:32</td>\n",
       "    </tr>\n",
       "    <tr>\n",
       "      <th>1</th>\n",
       "      <td>2022-03-05 00:11:00</td>\n",
       "    </tr>\n",
       "    <tr>\n",
       "      <th>2</th>\n",
       "      <td>2022-05-21 01:29:02</td>\n",
       "    </tr>\n",
       "    <tr>\n",
       "      <th>3</th>\n",
       "      <td>2021-10-30 13:53:11</td>\n",
       "    </tr>\n",
       "    <tr>\n",
       "      <th>4</th>\n",
       "      <td>2022-08-25 21:01:18</td>\n",
       "    </tr>\n",
       "    <tr>\n",
       "      <th>...</th>\n",
       "      <td>...</td>\n",
       "    </tr>\n",
       "    <tr>\n",
       "      <th>995</th>\n",
       "      <td>2019-01-31 13:44:59</td>\n",
       "    </tr>\n",
       "    <tr>\n",
       "      <th>996</th>\n",
       "      <td>2020-05-06 09:01:52</td>\n",
       "    </tr>\n",
       "    <tr>\n",
       "      <th>997</th>\n",
       "      <td>2020-01-26 05:15:07</td>\n",
       "    </tr>\n",
       "    <tr>\n",
       "      <th>998</th>\n",
       "      <td>2020-08-03 20:47:08</td>\n",
       "    </tr>\n",
       "    <tr>\n",
       "      <th>999</th>\n",
       "      <td>2014-01-15 13:09:11</td>\n",
       "    </tr>\n",
       "  </tbody>\n",
       "</table>\n",
       "<p>1000 rows × 1 columns</p>\n",
       "</div>"
      ],
      "text/plain": [
       "    transaction_datetime\n",
       "0    2020-02-13 20:48:32\n",
       "1    2022-03-05 00:11:00\n",
       "2    2022-05-21 01:29:02\n",
       "3    2021-10-30 13:53:11\n",
       "4    2022-08-25 21:01:18\n",
       "..                   ...\n",
       "995  2019-01-31 13:44:59\n",
       "996  2020-05-06 09:01:52\n",
       "997  2020-01-26 05:15:07\n",
       "998  2020-08-03 20:47:08\n",
       "999  2014-01-15 13:09:11\n",
       "\n",
       "[1000 rows x 1 columns]"
      ]
     },
     "execution_count": 57,
     "metadata": {},
     "output_type": "execute_result"
    }
   ],
   "source": [
    "# cach lay cac column dang datetime\n",
    "dataframe.select_dtypes(include=['datetime64'])"
   ]
  },
  {
   "cell_type": "markdown",
   "id": "9cd2c093-bdeb-4597-92bb-35b505a823f0",
   "metadata": {},
   "source": [
    "# 2. Data Manipulation"
   ]
  },
  {
   "cell_type": "markdown",
   "id": "e3ffcae6-83dc-4407-99ff-f1a03fc7761e",
   "metadata": {},
   "source": [
    "## .apply"
   ]
  },
  {
   "cell_type": "code",
   "execution_count": 41,
   "id": "51a78b41-7231-4008-befa-b72480d7eca7",
   "metadata": {
    "tags": []
   },
   "outputs": [
    {
     "data": {
      "text/html": [
       "<div>\n",
       "<style scoped>\n",
       "    .dataframe tbody tr th:only-of-type {\n",
       "        vertical-align: middle;\n",
       "    }\n",
       "\n",
       "    .dataframe tbody tr th {\n",
       "        vertical-align: top;\n",
       "    }\n",
       "\n",
       "    .dataframe thead th {\n",
       "        text-align: right;\n",
       "    }\n",
       "</style>\n",
       "<table border=\"1\" class=\"dataframe\">\n",
       "  <thead>\n",
       "    <tr style=\"text-align: right;\">\n",
       "      <th></th>\n",
       "      <th>product_lvl1</th>\n",
       "      <th>price</th>\n",
       "    </tr>\n",
       "  </thead>\n",
       "  <tbody>\n",
       "    <tr>\n",
       "      <th>0</th>\n",
       "      <td>Máy giặt và Máy sấy</td>\n",
       "      <td>6990000</td>\n",
       "    </tr>\n",
       "    <tr>\n",
       "      <th>1</th>\n",
       "      <td>Siêu thị đồ ăn</td>\n",
       "      <td>25000</td>\n",
       "    </tr>\n",
       "    <tr>\n",
       "      <th>2</th>\n",
       "      <td>Siêu thị đồ ăn</td>\n",
       "      <td>18000</td>\n",
       "    </tr>\n",
       "    <tr>\n",
       "      <th>3</th>\n",
       "      <td>Sách</td>\n",
       "      <td>109000</td>\n",
       "    </tr>\n",
       "    <tr>\n",
       "      <th>4</th>\n",
       "      <td>Đèn trang trí và Chiếu sáng</td>\n",
       "      <td>599000</td>\n",
       "    </tr>\n",
       "    <tr>\n",
       "      <th>...</th>\n",
       "      <td>...</td>\n",
       "      <td>...</td>\n",
       "    </tr>\n",
       "    <tr>\n",
       "      <th>995</th>\n",
       "      <td>Thương mại điện tử</td>\n",
       "      <td>20000000</td>\n",
       "    </tr>\n",
       "    <tr>\n",
       "      <th>996</th>\n",
       "      <td>Thương mại điện tử</td>\n",
       "      <td>32000000</td>\n",
       "    </tr>\n",
       "    <tr>\n",
       "      <th>997</th>\n",
       "      <td>Siêu thị</td>\n",
       "      <td>25000</td>\n",
       "    </tr>\n",
       "    <tr>\n",
       "      <th>998</th>\n",
       "      <td>Thời trang Nam/Nữ</td>\n",
       "      <td>1099000</td>\n",
       "    </tr>\n",
       "    <tr>\n",
       "      <th>999</th>\n",
       "      <td>Siêu thị đồ ăn</td>\n",
       "      <td>12000</td>\n",
       "    </tr>\n",
       "  </tbody>\n",
       "</table>\n",
       "<p>1000 rows × 2 columns</p>\n",
       "</div>"
      ],
      "text/plain": [
       "                    product_lvl1     price\n",
       "0            Máy giặt và Máy sấy   6990000\n",
       "1                 Siêu thị đồ ăn     25000\n",
       "2                 Siêu thị đồ ăn     18000\n",
       "3                           Sách    109000\n",
       "4    Đèn trang trí và Chiếu sáng    599000\n",
       "..                           ...       ...\n",
       "995           Thương mại điện tử  20000000\n",
       "996           Thương mại điện tử  32000000\n",
       "997                     Siêu thị     25000\n",
       "998            Thời trang Nam/Nữ   1099000\n",
       "999               Siêu thị đồ ăn     12000\n",
       "\n",
       "[1000 rows x 2 columns]"
      ]
     },
     "execution_count": 41,
     "metadata": {},
     "output_type": "execute_result"
    }
   ],
   "source": [
    "dataframe[['product_lvl1', 'price']]"
   ]
  },
  {
   "cell_type": "code",
   "execution_count": 59,
   "id": "f60f900f-129d-4b46-81d1-aecb9989f1e9",
   "metadata": {
    "tags": []
   },
   "outputs": [
    {
     "data": {
      "text/plain": [
       "0       6991000\n",
       "1         26000\n",
       "2         19000\n",
       "3        110000\n",
       "4        600000\n",
       "         ...   \n",
       "995    20001000\n",
       "996    32001000\n",
       "997       26000\n",
       "998     1100000\n",
       "999       13000\n",
       "Name: price, Length: 1000, dtype: int64"
      ]
     },
     "execution_count": 59,
     "metadata": {},
     "output_type": "execute_result"
    }
   ],
   "source": [
    "# vi du ve thay doi 1 loat gia tri cua cot\n",
    "dataframe['price'].apply(lambda x: x+1000)"
   ]
  },
  {
   "cell_type": "code",
   "execution_count": 60,
   "id": "7015bf22-faa7-4691-ba96-e4e10bea8868",
   "metadata": {
    "tags": []
   },
   "outputs": [
    {
     "data": {
      "text/plain": [
       "0              Máy giặt và Máy sấy_new_product_name\n",
       "1                   Siêu thị đồ ăn_new_product_name\n",
       "2                   Siêu thị đồ ăn_new_product_name\n",
       "3                             Sách_new_product_name\n",
       "4      Đèn trang trí và Chiếu sáng_new_product_name\n",
       "                           ...                     \n",
       "995             Thương mại điện tử_new_product_name\n",
       "996             Thương mại điện tử_new_product_name\n",
       "997                       Siêu thị_new_product_name\n",
       "998              Thời trang Nam/Nữ_new_product_name\n",
       "999                 Siêu thị đồ ăn_new_product_name\n",
       "Name: product_lvl1, Length: 1000, dtype: object"
      ]
     },
     "execution_count": 60,
     "metadata": {},
     "output_type": "execute_result"
    }
   ],
   "source": [
    "dataframe['product_lvl1'].apply(lambda x: x + '_new_product_name')"
   ]
  },
  {
   "cell_type": "markdown",
   "id": "751f2fa6-e8fd-4ea9-9ffe-b8a239bbfc43",
   "metadata": {},
   "source": [
    "## .groupby"
   ]
  },
  {
   "cell_type": "code",
   "execution_count": 63,
   "id": "07641ae2-644f-43c0-bfe0-0aacb2643195",
   "metadata": {
    "tags": []
   },
   "outputs": [
    {
     "data": {
      "text/html": [
       "<div>\n",
       "<style scoped>\n",
       "    .dataframe tbody tr th:only-of-type {\n",
       "        vertical-align: middle;\n",
       "    }\n",
       "\n",
       "    .dataframe tbody tr th {\n",
       "        vertical-align: top;\n",
       "    }\n",
       "\n",
       "    .dataframe thead th {\n",
       "        text-align: right;\n",
       "    }\n",
       "</style>\n",
       "<table border=\"1\" class=\"dataframe\">\n",
       "  <thead>\n",
       "    <tr style=\"text-align: right;\">\n",
       "      <th></th>\n",
       "      <th>product_lvl1</th>\n",
       "      <th>product_lvl2</th>\n",
       "      <th>price</th>\n",
       "    </tr>\n",
       "  </thead>\n",
       "  <tbody>\n",
       "    <tr>\n",
       "      <th>0</th>\n",
       "      <td>Máy giặt và Máy sấy</td>\n",
       "      <td>Máy sấy</td>\n",
       "      <td>6990000</td>\n",
       "    </tr>\n",
       "    <tr>\n",
       "      <th>1</th>\n",
       "      <td>Siêu thị đồ ăn</td>\n",
       "      <td>Thực phẩm đóng hộp</td>\n",
       "      <td>25000</td>\n",
       "    </tr>\n",
       "    <tr>\n",
       "      <th>2</th>\n",
       "      <td>Siêu thị đồ ăn</td>\n",
       "      <td>Thực phẩm đóng gói</td>\n",
       "      <td>18000</td>\n",
       "    </tr>\n",
       "    <tr>\n",
       "      <th>3</th>\n",
       "      <td>Sách</td>\n",
       "      <td>Sách tiểu thuyết</td>\n",
       "      <td>109000</td>\n",
       "    </tr>\n",
       "    <tr>\n",
       "      <th>4</th>\n",
       "      <td>Đèn trang trí và Chiếu sáng</td>\n",
       "      <td>Đèn bàn</td>\n",
       "      <td>599000</td>\n",
       "    </tr>\n",
       "    <tr>\n",
       "      <th>...</th>\n",
       "      <td>...</td>\n",
       "      <td>...</td>\n",
       "      <td>...</td>\n",
       "    </tr>\n",
       "    <tr>\n",
       "      <th>995</th>\n",
       "      <td>Thương mại điện tử</td>\n",
       "      <td>Máy tính bảng</td>\n",
       "      <td>20000000</td>\n",
       "    </tr>\n",
       "    <tr>\n",
       "      <th>996</th>\n",
       "      <td>Thương mại điện tử</td>\n",
       "      <td>Máy tính xách tay</td>\n",
       "      <td>32000000</td>\n",
       "    </tr>\n",
       "    <tr>\n",
       "      <th>997</th>\n",
       "      <td>Siêu thị</td>\n",
       "      <td>Đồ uống</td>\n",
       "      <td>25000</td>\n",
       "    </tr>\n",
       "    <tr>\n",
       "      <th>998</th>\n",
       "      <td>Thời trang Nam/Nữ</td>\n",
       "      <td>Áo khoác</td>\n",
       "      <td>1099000</td>\n",
       "    </tr>\n",
       "    <tr>\n",
       "      <th>999</th>\n",
       "      <td>Siêu thị đồ ăn</td>\n",
       "      <td>Đồ uống</td>\n",
       "      <td>12000</td>\n",
       "    </tr>\n",
       "  </tbody>\n",
       "</table>\n",
       "<p>1000 rows × 3 columns</p>\n",
       "</div>"
      ],
      "text/plain": [
       "                    product_lvl1        product_lvl2     price\n",
       "0            Máy giặt và Máy sấy             Máy sấy   6990000\n",
       "1                 Siêu thị đồ ăn  Thực phẩm đóng hộp     25000\n",
       "2                 Siêu thị đồ ăn  Thực phẩm đóng gói     18000\n",
       "3                           Sách    Sách tiểu thuyết    109000\n",
       "4    Đèn trang trí và Chiếu sáng             Đèn bàn    599000\n",
       "..                           ...                 ...       ...\n",
       "995           Thương mại điện tử       Máy tính bảng  20000000\n",
       "996           Thương mại điện tử   Máy tính xách tay  32000000\n",
       "997                     Siêu thị             Đồ uống     25000\n",
       "998            Thời trang Nam/Nữ            Áo khoác   1099000\n",
       "999               Siêu thị đồ ăn             Đồ uống     12000\n",
       "\n",
       "[1000 rows x 3 columns]"
      ]
     },
     "execution_count": 63,
     "metadata": {},
     "output_type": "execute_result"
    }
   ],
   "source": [
    "df = dataframe[['product_lvl1','product_lvl2','price']]\n",
    "df"
   ]
  },
  {
   "cell_type": "code",
   "execution_count": 64,
   "id": "cd365181-1d38-4676-ad06-d9d765d5a83c",
   "metadata": {
    "tags": []
   },
   "outputs": [
    {
     "data": {
      "text/plain": [
       "array(['Máy giặt và Máy sấy', 'Siêu thị đồ ăn', 'Sách',\n",
       "       'Đèn trang trí và Chiếu sáng', 'Làm đẹp và Chăm sóc cá nhân',\n",
       "       'Tiêu dùng nhanh', 'Rau củ', 'Thể thao và Dã ngoại',\n",
       "       'Thời trang Nam/Nữ', 'Đồ ăn', 'Siêu thị', 'Thương mại điện tử',\n",
       "       'Giày dép và Phụ kiện', 'Phụ kiện điện thoại',\n",
       "       'Điện thoại di động', 'Đồng hồ', 'Túi xách và Ví',\n",
       "       'Đồ chơi và Trò chơi', 'Laptop và Máy tính', 'Quần áo',\n",
       "       'Máy lọc không khí và Máy tạo ẩm', 'Máy ảnh và Máy quay phim',\n",
       "       'Thiết bị điện tử', 'Điện gia dụng'], dtype=object)"
      ]
     },
     "execution_count": 64,
     "metadata": {},
     "output_type": "execute_result"
    }
   ],
   "source": [
    "df['product_lvl1'].unique()"
   ]
  },
  {
   "cell_type": "code",
   "execution_count": 65,
   "id": "2c8cd3e9-1fc0-4462-b600-c1e997cc8918",
   "metadata": {
    "tags": []
   },
   "outputs": [
    {
     "data": {
      "text/plain": [
       "product_lvl1\n",
       "Giày dép và Phụ kiện                 87375000\n",
       "Laptop và Máy tính                  768730000\n",
       "Làm đẹp và Chăm sóc cá nhân           4719000\n",
       "Máy giặt và Máy sấy                  93880000\n",
       "Máy lọc không khí và Máy tạo ẩm      29525000\n",
       "Máy ảnh và Máy quay phim            697800000\n",
       "Phụ kiện điện thoại                   8260000\n",
       "Quần áo                              19450000\n",
       "Rau củ                                1184000\n",
       "Siêu thị                              6046000\n",
       "Siêu thị đồ ăn                        5340000\n",
       "Sách                                  9571000\n",
       "Thiết bị điện tử                    113213000\n",
       "Thương mại điện tử                 1747000000\n",
       "Thể thao và Dã ngoại                367235000\n",
       "Thời trang Nam/Nữ                    25226000\n",
       "Tiêu dùng nhanh                       1738000\n",
       "Túi xách và Ví                       47587000\n",
       "Điện gia dụng                       140034000\n",
       "Điện thoại di động                  527790000\n",
       "Đèn trang trí và Chiếu sáng          19077000\n",
       "Đồ chơi và Trò chơi                  17356000\n",
       "Đồ ăn                                 1624000\n",
       "Đồng hồ                              61743000\n",
       "Name: price, dtype: int64"
      ]
     },
     "execution_count": 65,
     "metadata": {},
     "output_type": "execute_result"
    }
   ],
   "source": [
    "df.groupby('product_lvl1')['price'].sum()"
   ]
  },
  {
   "cell_type": "code",
   "execution_count": 66,
   "id": "af28cc52-a9a8-432c-884f-49cbcebad181",
   "metadata": {
    "tags": []
   },
   "outputs": [
    {
     "data": {
      "text/plain": [
       "product_lvl1\n",
       "Giày dép và Phụ kiện               3.360577e+06\n",
       "Laptop và Máy tính                 2.847148e+07\n",
       "Làm đẹp và Chăm sóc cá nhân        4.290000e+05\n",
       "Máy giặt và Máy sấy                7.823333e+06\n",
       "Máy lọc không khí và Máy tạo ẩm    2.460417e+06\n",
       "Máy ảnh và Máy quay phim           3.489000e+07\n",
       "Phụ kiện điện thoại                5.900000e+05\n",
       "Quần áo                            5.893939e+05\n",
       "Rau củ                             1.667606e+04\n",
       "Siêu thị                           4.445588e+04\n",
       "Siêu thị đồ ăn                     3.316770e+04\n",
       "Sách                               9.476238e+04\n",
       "Thiết bị điện tử                   7.547533e+06\n",
       "Thương mại điện tử                 2.130488e+07\n",
       "Thể thao và Dã ngoại               1.184629e+07\n",
       "Thời trang Nam/Nữ                  8.408667e+05\n",
       "Tiêu dùng nhanh                    2.413889e+04\n",
       "Túi xách và Ví                     3.660538e+06\n",
       "Điện gia dụng                      6.365182e+06\n",
       "Điện thoại di động                 2.513286e+07\n",
       "Đèn trang trí và Chiếu sáng        8.294348e+05\n",
       "Đồ chơi và Trò chơi                1.020941e+06\n",
       "Đồ ăn                              5.600000e+04\n",
       "Đồng hồ                            2.940143e+06\n",
       "Name: price, dtype: float64"
      ]
     },
     "execution_count": 66,
     "metadata": {},
     "output_type": "execute_result"
    }
   ],
   "source": [
    "df.groupby('product_lvl1')['price'].mean()"
   ]
  },
  {
   "cell_type": "code",
   "execution_count": 67,
   "id": "9af01fbf-3e1b-4c61-a22d-c25ac1ef59af",
   "metadata": {
    "tags": []
   },
   "outputs": [
    {
     "data": {
      "text/plain": [
       "product_lvl1\n",
       "Giày dép và Phụ kiện                 990000\n",
       "Laptop và Máy tính                 16990000\n",
       "Làm đẹp và Chăm sóc cá nhân          329000\n",
       "Máy giặt và Máy sấy                 6990000\n",
       "Máy lọc không khí và Máy tạo ẩm     2290000\n",
       "Máy ảnh và Máy quay phim           17490000\n",
       "Phụ kiện điện thoại                  490000\n",
       "Quần áo                              150000\n",
       "Rau củ                                10000\n",
       "Siêu thị                              12000\n",
       "Siêu thị đồ ăn                         8000\n",
       "Sách                                  68000\n",
       "Thiết bị điện tử                    5899000\n",
       "Thương mại điện tử                  3000000\n",
       "Thể thao và Dã ngoại                1990000\n",
       "Thời trang Nam/Nữ                    590000\n",
       "Tiêu dùng nhanh                        8000\n",
       "Túi xách và Ví                      2099000\n",
       "Điện gia dụng                       2899000\n",
       "Điện thoại di động                 17990000\n",
       "Đèn trang trí và Chiếu sáng          199000\n",
       "Đồ chơi và Trò chơi                  299000\n",
       "Đồ ăn                                  8000\n",
       "Đồng hồ                             1799000\n",
       "Name: price, dtype: int64"
      ]
     },
     "execution_count": 67,
     "metadata": {},
     "output_type": "execute_result"
    }
   ],
   "source": [
    "df.groupby('product_lvl1')['price'].min()"
   ]
  },
  {
   "cell_type": "code",
   "execution_count": 70,
   "id": "6d4431bd-ee48-43cf-9390-00ed82210cec",
   "metadata": {
    "tags": []
   },
   "outputs": [
    {
     "data": {
      "text/html": [
       "<div>\n",
       "<style scoped>\n",
       "    .dataframe tbody tr th:only-of-type {\n",
       "        vertical-align: middle;\n",
       "    }\n",
       "\n",
       "    .dataframe tbody tr th {\n",
       "        vertical-align: top;\n",
       "    }\n",
       "\n",
       "    .dataframe thead th {\n",
       "        text-align: right;\n",
       "    }\n",
       "</style>\n",
       "<table border=\"1\" class=\"dataframe\">\n",
       "  <thead>\n",
       "    <tr style=\"text-align: right;\">\n",
       "      <th></th>\n",
       "      <th></th>\n",
       "      <th>min</th>\n",
       "      <th>max</th>\n",
       "      <th>sum</th>\n",
       "      <th>mean</th>\n",
       "      <th>median</th>\n",
       "    </tr>\n",
       "    <tr>\n",
       "      <th>product_lvl1</th>\n",
       "      <th>product_lvl2</th>\n",
       "      <th></th>\n",
       "      <th></th>\n",
       "      <th></th>\n",
       "      <th></th>\n",
       "      <th></th>\n",
       "    </tr>\n",
       "  </thead>\n",
       "  <tbody>\n",
       "    <tr>\n",
       "      <th rowspan=\"2\" valign=\"top\">Giày dép và Phụ kiện</th>\n",
       "      <th>Giày cao gót</th>\n",
       "      <td>5599000</td>\n",
       "      <td>7599000</td>\n",
       "      <td>63990000</td>\n",
       "      <td>6.399000e+06</td>\n",
       "      <td>5599000.0</td>\n",
       "    </tr>\n",
       "    <tr>\n",
       "      <th>Giày thể thao</th>\n",
       "      <td>990000</td>\n",
       "      <td>2499000</td>\n",
       "      <td>23385000</td>\n",
       "      <td>1.461562e+06</td>\n",
       "      <td>990000.0</td>\n",
       "    </tr>\n",
       "    <tr>\n",
       "      <th rowspan=\"2\" valign=\"top\">Laptop và Máy tính</th>\n",
       "      <th>Laptop</th>\n",
       "      <td>27990000</td>\n",
       "      <td>40990000</td>\n",
       "      <td>615820000</td>\n",
       "      <td>3.421222e+07</td>\n",
       "      <td>30990000.0</td>\n",
       "    </tr>\n",
       "    <tr>\n",
       "      <th>Máy tính bảng</th>\n",
       "      <td>16990000</td>\n",
       "      <td>16990000</td>\n",
       "      <td>152910000</td>\n",
       "      <td>1.699000e+07</td>\n",
       "      <td>16990000.0</td>\n",
       "    </tr>\n",
       "    <tr>\n",
       "      <th>Làm đẹp và Chăm sóc cá nhân</th>\n",
       "      <th>Máy tạo kiểu tóc</th>\n",
       "      <td>549000</td>\n",
       "      <td>549000</td>\n",
       "      <td>2745000</td>\n",
       "      <td>5.490000e+05</td>\n",
       "      <td>549000.0</td>\n",
       "    </tr>\n",
       "    <tr>\n",
       "      <th>...</th>\n",
       "      <th>...</th>\n",
       "      <td>...</td>\n",
       "      <td>...</td>\n",
       "      <td>...</td>\n",
       "      <td>...</td>\n",
       "      <td>...</td>\n",
       "    </tr>\n",
       "    <tr>\n",
       "      <th rowspan=\"3\" valign=\"top\">Đồ ăn</th>\n",
       "      <th>Thực phẩm đóng gói</th>\n",
       "      <td>8000</td>\n",
       "      <td>12000</td>\n",
       "      <td>84000</td>\n",
       "      <td>8.400000e+03</td>\n",
       "      <td>8000.0</td>\n",
       "    </tr>\n",
       "    <tr>\n",
       "      <th>Thực phẩm đóng hộp</th>\n",
       "      <td>65000</td>\n",
       "      <td>65000</td>\n",
       "      <td>390000</td>\n",
       "      <td>6.500000e+04</td>\n",
       "      <td>65000.0</td>\n",
       "    </tr>\n",
       "    <tr>\n",
       "      <th>Thực phẩm đông lạnh</th>\n",
       "      <td>100000</td>\n",
       "      <td>100000</td>\n",
       "      <td>800000</td>\n",
       "      <td>1.000000e+05</td>\n",
       "      <td>100000.0</td>\n",
       "    </tr>\n",
       "    <tr>\n",
       "      <th rowspan=\"2\" valign=\"top\">Đồng hồ</th>\n",
       "      <th>Đồng hồ nam</th>\n",
       "      <td>1799000</td>\n",
       "      <td>4790000</td>\n",
       "      <td>31753000</td>\n",
       "      <td>2.886636e+06</td>\n",
       "      <td>1799000.0</td>\n",
       "    </tr>\n",
       "    <tr>\n",
       "      <th>Đồng hồ nữ</th>\n",
       "      <td>2799000</td>\n",
       "      <td>3299000</td>\n",
       "      <td>29990000</td>\n",
       "      <td>2.999000e+06</td>\n",
       "      <td>2799000.0</td>\n",
       "    </tr>\n",
       "  </tbody>\n",
       "</table>\n",
       "<p>75 rows × 5 columns</p>\n",
       "</div>"
      ],
      "text/plain": [
       "                                                      min       max   \n",
       "product_lvl1                product_lvl2                              \n",
       "Giày dép và Phụ kiện        Giày cao gót          5599000   7599000  \\\n",
       "                            Giày thể thao          990000   2499000   \n",
       "Laptop và Máy tính          Laptop               27990000  40990000   \n",
       "                            Máy tính bảng        16990000  16990000   \n",
       "Làm đẹp và Chăm sóc cá nhân Máy tạo kiểu tóc       549000    549000   \n",
       "...                                                   ...       ...   \n",
       "Đồ ăn                       Thực phẩm đóng gói       8000     12000   \n",
       "                            Thực phẩm đóng hộp      65000     65000   \n",
       "                            Thực phẩm đông lạnh    100000    100000   \n",
       "Đồng hồ                     Đồng hồ nam           1799000   4790000   \n",
       "                            Đồng hồ nữ            2799000   3299000   \n",
       "\n",
       "                                                       sum          mean   \n",
       "product_lvl1                product_lvl2                                   \n",
       "Giày dép và Phụ kiện        Giày cao gót          63990000  6.399000e+06  \\\n",
       "                            Giày thể thao         23385000  1.461562e+06   \n",
       "Laptop và Máy tính          Laptop               615820000  3.421222e+07   \n",
       "                            Máy tính bảng        152910000  1.699000e+07   \n",
       "Làm đẹp và Chăm sóc cá nhân Máy tạo kiểu tóc       2745000  5.490000e+05   \n",
       "...                                                    ...           ...   \n",
       "Đồ ăn                       Thực phẩm đóng gói       84000  8.400000e+03   \n",
       "                            Thực phẩm đóng hộp      390000  6.500000e+04   \n",
       "                            Thực phẩm đông lạnh     800000  1.000000e+05   \n",
       "Đồng hồ                     Đồng hồ nam           31753000  2.886636e+06   \n",
       "                            Đồng hồ nữ            29990000  2.999000e+06   \n",
       "\n",
       "                                                     median  \n",
       "product_lvl1                product_lvl2                     \n",
       "Giày dép và Phụ kiện        Giày cao gót          5599000.0  \n",
       "                            Giày thể thao          990000.0  \n",
       "Laptop và Máy tính          Laptop               30990000.0  \n",
       "                            Máy tính bảng        16990000.0  \n",
       "Làm đẹp và Chăm sóc cá nhân Máy tạo kiểu tóc       549000.0  \n",
       "...                                                     ...  \n",
       "Đồ ăn                       Thực phẩm đóng gói       8000.0  \n",
       "                            Thực phẩm đóng hộp      65000.0  \n",
       "                            Thực phẩm đông lạnh    100000.0  \n",
       "Đồng hồ                     Đồng hồ nam           1799000.0  \n",
       "                            Đồng hồ nữ            2799000.0  \n",
       "\n",
       "[75 rows x 5 columns]"
      ]
     },
     "execution_count": 70,
     "metadata": {},
     "output_type": "execute_result"
    }
   ],
   "source": [
    "df.groupby(['product_lvl1', 'product_lvl2'])['price'].agg(['min','max','sum','mean','median'])"
   ]
  },
  {
   "cell_type": "markdown",
   "id": "fc9bbd37-5efc-4f0d-b7a5-c55a952b250e",
   "metadata": {},
   "source": [
    "## .pivot_table"
   ]
  },
  {
   "cell_type": "code",
   "execution_count": 26,
   "id": "4c72b84d-8665-4e84-83e6-d62b743bfca1",
   "metadata": {
    "tags": []
   },
   "outputs": [
    {
     "data": {
      "text/html": [
       "<div>\n",
       "<style scoped>\n",
       "    .dataframe tbody tr th:only-of-type {\n",
       "        vertical-align: middle;\n",
       "    }\n",
       "\n",
       "    .dataframe tbody tr th {\n",
       "        vertical-align: top;\n",
       "    }\n",
       "\n",
       "    .dataframe thead th {\n",
       "        text-align: right;\n",
       "    }\n",
       "</style>\n",
       "<table border=\"1\" class=\"dataframe\">\n",
       "  <thead>\n",
       "    <tr style=\"text-align: right;\">\n",
       "      <th></th>\n",
       "      <th>transaction_type</th>\n",
       "      <th>transaction_status</th>\n",
       "    </tr>\n",
       "  </thead>\n",
       "  <tbody>\n",
       "    <tr>\n",
       "      <th>0</th>\n",
       "      <td>Thanh toán trực tuyến</td>\n",
       "      <td>Đang xử lý</td>\n",
       "    </tr>\n",
       "    <tr>\n",
       "      <th>1</th>\n",
       "      <td>Mua hàng</td>\n",
       "      <td>Đã giao hàng</td>\n",
       "    </tr>\n",
       "    <tr>\n",
       "      <th>2</th>\n",
       "      <td>Thanh toán trực tuyến</td>\n",
       "      <td>Thành công</td>\n",
       "    </tr>\n",
       "    <tr>\n",
       "      <th>3</th>\n",
       "      <td>Thẻ tín dụng</td>\n",
       "      <td>Đang xử lý</td>\n",
       "    </tr>\n",
       "    <tr>\n",
       "      <th>4</th>\n",
       "      <td>Mua hàng</td>\n",
       "      <td>Đã hủy</td>\n",
       "    </tr>\n",
       "    <tr>\n",
       "      <th>5</th>\n",
       "      <td>Thẻ ghi nợ</td>\n",
       "      <td>Đã giao hàng</td>\n",
       "    </tr>\n",
       "    <tr>\n",
       "      <th>6</th>\n",
       "      <td>Mua hàng</td>\n",
       "      <td>Đã xác nhận</td>\n",
       "    </tr>\n",
       "    <tr>\n",
       "      <th>7</th>\n",
       "      <td>Mua hàng</td>\n",
       "      <td>Đã giao hàng</td>\n",
       "    </tr>\n",
       "    <tr>\n",
       "      <th>8</th>\n",
       "      <td>Mua hàng</td>\n",
       "      <td>Đã tiếp nhận</td>\n",
       "    </tr>\n",
       "    <tr>\n",
       "      <th>9</th>\n",
       "      <td>Mua hàng</td>\n",
       "      <td>Đã tiếp nhận</td>\n",
       "    </tr>\n",
       "  </tbody>\n",
       "</table>\n",
       "</div>"
      ],
      "text/plain": [
       "        transaction_type transaction_status\n",
       "0  Thanh toán trực tuyến         Đang xử lý\n",
       "1               Mua hàng       Đã giao hàng\n",
       "2  Thanh toán trực tuyến         Thành công\n",
       "3           Thẻ tín dụng         Đang xử lý\n",
       "4               Mua hàng             Đã hủy\n",
       "5             Thẻ ghi nợ       Đã giao hàng\n",
       "6               Mua hàng        Đã xác nhận\n",
       "7               Mua hàng       Đã giao hàng\n",
       "8               Mua hàng       Đã tiếp nhận\n",
       "9               Mua hàng       Đã tiếp nhận"
      ]
     },
     "execution_count": 26,
     "metadata": {},
     "output_type": "execute_result"
    }
   ],
   "source": [
    "df = dataframe[['transaction_type', 'transaction_status']][:10]\n",
    "df"
   ]
  },
  {
   "cell_type": "code",
   "execution_count": 27,
   "id": "f9ef9132-73a2-44a9-9bd7-f5bd4e575fbd",
   "metadata": {
    "tags": []
   },
   "outputs": [
    {
     "data": {
      "text/html": [
       "<div>\n",
       "<style scoped>\n",
       "    .dataframe tbody tr th:only-of-type {\n",
       "        vertical-align: middle;\n",
       "    }\n",
       "\n",
       "    .dataframe tbody tr th {\n",
       "        vertical-align: top;\n",
       "    }\n",
       "\n",
       "    .dataframe thead th {\n",
       "        text-align: right;\n",
       "    }\n",
       "</style>\n",
       "<table border=\"1\" class=\"dataframe\">\n",
       "  <thead>\n",
       "    <tr style=\"text-align: right;\">\n",
       "      <th></th>\n",
       "      <th>transaction_type</th>\n",
       "      <th>transaction_status</th>\n",
       "      <th>count</th>\n",
       "    </tr>\n",
       "  </thead>\n",
       "  <tbody>\n",
       "    <tr>\n",
       "      <th>0</th>\n",
       "      <td>Mua hàng</td>\n",
       "      <td>Đã giao hàng</td>\n",
       "      <td>2</td>\n",
       "    </tr>\n",
       "    <tr>\n",
       "      <th>1</th>\n",
       "      <td>Mua hàng</td>\n",
       "      <td>Đã tiếp nhận</td>\n",
       "      <td>2</td>\n",
       "    </tr>\n",
       "    <tr>\n",
       "      <th>2</th>\n",
       "      <td>Mua hàng</td>\n",
       "      <td>Đã hủy</td>\n",
       "      <td>1</td>\n",
       "    </tr>\n",
       "    <tr>\n",
       "      <th>3</th>\n",
       "      <td>Mua hàng</td>\n",
       "      <td>Đã xác nhận</td>\n",
       "      <td>1</td>\n",
       "    </tr>\n",
       "    <tr>\n",
       "      <th>4</th>\n",
       "      <td>Thanh toán trực tuyến</td>\n",
       "      <td>Thành công</td>\n",
       "      <td>1</td>\n",
       "    </tr>\n",
       "    <tr>\n",
       "      <th>5</th>\n",
       "      <td>Thanh toán trực tuyến</td>\n",
       "      <td>Đang xử lý</td>\n",
       "      <td>1</td>\n",
       "    </tr>\n",
       "    <tr>\n",
       "      <th>6</th>\n",
       "      <td>Thẻ ghi nợ</td>\n",
       "      <td>Đã giao hàng</td>\n",
       "      <td>1</td>\n",
       "    </tr>\n",
       "    <tr>\n",
       "      <th>7</th>\n",
       "      <td>Thẻ tín dụng</td>\n",
       "      <td>Đang xử lý</td>\n",
       "      <td>1</td>\n",
       "    </tr>\n",
       "  </tbody>\n",
       "</table>\n",
       "</div>"
      ],
      "text/plain": [
       "        transaction_type transaction_status  count\n",
       "0               Mua hàng       Đã giao hàng      2\n",
       "1               Mua hàng       Đã tiếp nhận      2\n",
       "2               Mua hàng             Đã hủy      1\n",
       "3               Mua hàng        Đã xác nhận      1\n",
       "4  Thanh toán trực tuyến         Thành công      1\n",
       "5  Thanh toán trực tuyến         Đang xử lý      1\n",
       "6             Thẻ ghi nợ       Đã giao hàng      1\n",
       "7           Thẻ tín dụng         Đang xử lý      1"
      ]
     },
     "execution_count": 27,
     "metadata": {},
     "output_type": "execute_result"
    }
   ],
   "source": [
    "df1 = df.value_counts().to_frame().reset_index()\n",
    "df1"
   ]
  },
  {
   "cell_type": "code",
   "execution_count": 28,
   "id": "538aef27-cd1d-438d-94b3-c90438676ab1",
   "metadata": {
    "tags": []
   },
   "outputs": [
    {
     "data": {
      "text/html": [
       "<div>\n",
       "<style scoped>\n",
       "    .dataframe tbody tr th:only-of-type {\n",
       "        vertical-align: middle;\n",
       "    }\n",
       "\n",
       "    .dataframe tbody tr th {\n",
       "        vertical-align: top;\n",
       "    }\n",
       "\n",
       "    .dataframe thead th {\n",
       "        text-align: right;\n",
       "    }\n",
       "</style>\n",
       "<table border=\"1\" class=\"dataframe\">\n",
       "  <thead>\n",
       "    <tr style=\"text-align: right;\">\n",
       "      <th>transaction_status</th>\n",
       "      <th>Thành công</th>\n",
       "      <th>Đang xử lý</th>\n",
       "      <th>Đã giao hàng</th>\n",
       "      <th>Đã hủy</th>\n",
       "      <th>Đã tiếp nhận</th>\n",
       "      <th>Đã xác nhận</th>\n",
       "    </tr>\n",
       "    <tr>\n",
       "      <th>transaction_type</th>\n",
       "      <th></th>\n",
       "      <th></th>\n",
       "      <th></th>\n",
       "      <th></th>\n",
       "      <th></th>\n",
       "      <th></th>\n",
       "    </tr>\n",
       "  </thead>\n",
       "  <tbody>\n",
       "    <tr>\n",
       "      <th>Mua hàng</th>\n",
       "      <td>NaN</td>\n",
       "      <td>NaN</td>\n",
       "      <td>2.0</td>\n",
       "      <td>1.0</td>\n",
       "      <td>2.0</td>\n",
       "      <td>1.0</td>\n",
       "    </tr>\n",
       "    <tr>\n",
       "      <th>Thanh toán trực tuyến</th>\n",
       "      <td>1.0</td>\n",
       "      <td>1.0</td>\n",
       "      <td>NaN</td>\n",
       "      <td>NaN</td>\n",
       "      <td>NaN</td>\n",
       "      <td>NaN</td>\n",
       "    </tr>\n",
       "    <tr>\n",
       "      <th>Thẻ ghi nợ</th>\n",
       "      <td>NaN</td>\n",
       "      <td>NaN</td>\n",
       "      <td>1.0</td>\n",
       "      <td>NaN</td>\n",
       "      <td>NaN</td>\n",
       "      <td>NaN</td>\n",
       "    </tr>\n",
       "    <tr>\n",
       "      <th>Thẻ tín dụng</th>\n",
       "      <td>NaN</td>\n",
       "      <td>1.0</td>\n",
       "      <td>NaN</td>\n",
       "      <td>NaN</td>\n",
       "      <td>NaN</td>\n",
       "      <td>NaN</td>\n",
       "    </tr>\n",
       "  </tbody>\n",
       "</table>\n",
       "</div>"
      ],
      "text/plain": [
       "transaction_status     Thành công  Đang xử lý  Đã giao hàng  Đã hủy   \n",
       "transaction_type                                                      \n",
       "Mua hàng                      NaN         NaN           2.0     1.0  \\\n",
       "Thanh toán trực tuyến         1.0         1.0           NaN     NaN   \n",
       "Thẻ ghi nợ                    NaN         NaN           1.0     NaN   \n",
       "Thẻ tín dụng                  NaN         1.0           NaN     NaN   \n",
       "\n",
       "transaction_status     Đã tiếp nhận  Đã xác nhận  \n",
       "transaction_type                                  \n",
       "Mua hàng                        2.0          1.0  \n",
       "Thanh toán trực tuyến           NaN          NaN  \n",
       "Thẻ ghi nợ                      NaN          NaN  \n",
       "Thẻ tín dụng                    NaN          NaN  "
      ]
     },
     "execution_count": 28,
     "metadata": {},
     "output_type": "execute_result"
    }
   ],
   "source": [
    "df2 = df1.pivot_table(index='transaction_type', columns='transaction_status', values='count')\n",
    "df2"
   ]
  },
  {
   "cell_type": "code",
   "execution_count": 29,
   "id": "af29605b-68eb-48cd-ab3c-0740d2b0e238",
   "metadata": {
    "tags": []
   },
   "outputs": [
    {
     "data": {
      "text/html": [
       "<div>\n",
       "<style scoped>\n",
       "    .dataframe tbody tr th:only-of-type {\n",
       "        vertical-align: middle;\n",
       "    }\n",
       "\n",
       "    .dataframe tbody tr th {\n",
       "        vertical-align: top;\n",
       "    }\n",
       "\n",
       "    .dataframe thead th {\n",
       "        text-align: right;\n",
       "    }\n",
       "</style>\n",
       "<table border=\"1\" class=\"dataframe\">\n",
       "  <thead>\n",
       "    <tr style=\"text-align: right;\">\n",
       "      <th>transaction_status</th>\n",
       "      <th>Thành công</th>\n",
       "      <th>Đang xử lý</th>\n",
       "      <th>Đã giao hàng</th>\n",
       "      <th>Đã hủy</th>\n",
       "      <th>Đã tiếp nhận</th>\n",
       "      <th>Đã xác nhận</th>\n",
       "    </tr>\n",
       "    <tr>\n",
       "      <th>transaction_type</th>\n",
       "      <th></th>\n",
       "      <th></th>\n",
       "      <th></th>\n",
       "      <th></th>\n",
       "      <th></th>\n",
       "      <th></th>\n",
       "    </tr>\n",
       "  </thead>\n",
       "  <tbody>\n",
       "    <tr>\n",
       "      <th>Mua hàng</th>\n",
       "      <td>0</td>\n",
       "      <td>0</td>\n",
       "      <td>2</td>\n",
       "      <td>1</td>\n",
       "      <td>2</td>\n",
       "      <td>1</td>\n",
       "    </tr>\n",
       "    <tr>\n",
       "      <th>Thanh toán trực tuyến</th>\n",
       "      <td>1</td>\n",
       "      <td>1</td>\n",
       "      <td>0</td>\n",
       "      <td>0</td>\n",
       "      <td>0</td>\n",
       "      <td>0</td>\n",
       "    </tr>\n",
       "    <tr>\n",
       "      <th>Thẻ ghi nợ</th>\n",
       "      <td>0</td>\n",
       "      <td>0</td>\n",
       "      <td>1</td>\n",
       "      <td>0</td>\n",
       "      <td>0</td>\n",
       "      <td>0</td>\n",
       "    </tr>\n",
       "    <tr>\n",
       "      <th>Thẻ tín dụng</th>\n",
       "      <td>0</td>\n",
       "      <td>1</td>\n",
       "      <td>0</td>\n",
       "      <td>0</td>\n",
       "      <td>0</td>\n",
       "      <td>0</td>\n",
       "    </tr>\n",
       "  </tbody>\n",
       "</table>\n",
       "</div>"
      ],
      "text/plain": [
       "transaction_status     Thành công  Đang xử lý  Đã giao hàng  Đã hủy   \n",
       "transaction_type                                                      \n",
       "Mua hàng                        0           0             2       1  \\\n",
       "Thanh toán trực tuyến           1           1             0       0   \n",
       "Thẻ ghi nợ                      0           0             1       0   \n",
       "Thẻ tín dụng                    0           1             0       0   \n",
       "\n",
       "transaction_status     Đã tiếp nhận  Đã xác nhận  \n",
       "transaction_type                                  \n",
       "Mua hàng                          2            1  \n",
       "Thanh toán trực tuyến             0            0  \n",
       "Thẻ ghi nợ                        0            0  \n",
       "Thẻ tín dụng                      0            0  "
      ]
     },
     "execution_count": 29,
     "metadata": {},
     "output_type": "execute_result"
    }
   ],
   "source": [
    "df2 = df2.fillna(0).astype(int) # long-to-wide\n",
    "df2"
   ]
  },
  {
   "cell_type": "markdown",
   "id": "6367a6f7-1b2e-44de-a689-2d0c36251cbe",
   "metadata": {},
   "source": [
    "Thường column là category data"
   ]
  },
  {
   "cell_type": "markdown",
   "id": "18c33e31-43f9-47fb-b345-b2fcaa0dfad8",
   "metadata": {},
   "source": [
    "# 3. Data Visualization"
   ]
  },
  {
   "cell_type": "code",
   "execution_count": null,
   "id": "bbce305e-25d7-4599-a2f5-ad95d7bd3ad3",
   "metadata": {},
   "outputs": [],
   "source": [
    "!pip install seaborn"
   ]
  },
  {
   "cell_type": "code",
   "execution_count": 74,
   "id": "bd2a276a-f389-4419-8f19-169725bc3e87",
   "metadata": {
    "tags": []
   },
   "outputs": [],
   "source": [
    "import seaborn as sns\n",
    "import matplotlib.pyplot as plt"
   ]
  },
  {
   "cell_type": "markdown",
   "id": "c2d8c14c-5342-4e28-b456-d9abdb8f531f",
   "metadata": {},
   "source": [
    "## Figure & axes "
   ]
  },
  {
   "cell_type": "markdown",
   "id": "9ad54f06-394d-4c98-8dd1-3ae6f64687a8",
   "metadata": {},
   "source": [
    "### Empty figure"
   ]
  },
  {
   "cell_type": "code",
   "execution_count": 75,
   "id": "dd163265-cc78-4f76-8402-bc91be66f7af",
   "metadata": {
    "tags": []
   },
   "outputs": [
    {
     "data": {
      "text/plain": [
       "<Figure size 640x480 with 0 Axes>"
      ]
     },
     "metadata": {},
     "output_type": "display_data"
    }
   ],
   "source": [
    "plt.figure()\n",
    "plt.show()"
   ]
  },
  {
   "cell_type": "markdown",
   "id": "d72187e2-7785-4d2e-881c-336ef376e927",
   "metadata": {},
   "source": [
    "### Figure with 1 axe"
   ]
  },
  {
   "cell_type": "code",
   "execution_count": 76,
   "id": "09658a8f-c407-4e09-9a43-ce4d6dc553b5",
   "metadata": {
    "tags": []
   },
   "outputs": [
    {
     "data": {
      "image/png": "[encoded data removed]",
      "text/plain": [
       "<Figure size 640x480 with 1 Axes>"
      ]
     },
     "metadata": {},
     "output_type": "display_data"
    }
   ],
   "source": [
    "plt.figure()\n",
    "plt.plot([1,2,3])\n",
    "plt.show()"
   ]
  },
  {
   "cell_type": "markdown",
   "id": "040f1acf-2705-4589-80dc-9253b5874cd6",
   "metadata": {},
   "source": [
    "### Figure with 2 axes"
   ]
  },
  {
   "cell_type": "code",
   "execution_count": 77,
   "id": "9d90aeaa-9c2a-4db9-bafc-418af3d1d571",
   "metadata": {
    "tags": []
   },
   "outputs": [
    {
     "data": {
      "image/png": "[encoded data removed]",
      "text/plain": [
       "<Figure size 1000x500 with 2 Axes>"
      ]
     },
     "metadata": {},
     "output_type": "display_data"
    }
   ],
   "source": [
    "fig, axes =plt.subplots(1,2, figsize=(10, 5))\n",
    "plt.show()"
   ]
  },
  {
   "cell_type": "markdown",
   "id": "d97d612a-efad-46ec-a548-d29b9f85ecb2",
   "metadata": {},
   "source": [
    "### Figure with 4 axes"
   ]
  },
  {
   "cell_type": "code",
   "execution_count": 78,
   "id": "ad8e37d4-be43-4ec6-b75a-38b11136de99",
   "metadata": {
    "tags": []
   },
   "outputs": [
    {
     "data": {
      "image/png": "[encoded data removed]",
      "text/plain": [
       "<Figure size 1000x700 with 4 Axes>"
      ]
     },
     "metadata": {},
     "output_type": "display_data"
    }
   ],
   "source": [
    "fig, axes =plt.subplots(2,2, figsize=(10, 7))\n",
    "plt.show()"
   ]
  },
  {
   "cell_type": "code",
   "execution_count": 79,
   "id": "fd2dda59-b0c5-480c-9015-310697bf7bf2",
   "metadata": {
    "tags": []
   },
   "outputs": [],
   "source": [
    "# axes[0][0]"
   ]
  },
  {
   "cell_type": "markdown",
   "id": "61f7de43-21ea-4ec9-a6a2-ac5da0ac78cd",
   "metadata": {},
   "source": [
    "## Pandas Visualization"
   ]
  },
  {
   "cell_type": "markdown",
   "id": "10057790-7dc9-4aa8-82a0-704e62727b69",
   "metadata": {},
   "source": [
    "Pandas sử dụng matplotlib backend để plot data"
   ]
  },
  {
   "cell_type": "markdown",
   "id": "a62e11e7-ce97-48e9-bebf-a300a0daa038",
   "metadata": {},
   "source": [
    "### Histogram Plot"
   ]
  },
  {
   "cell_type": "code",
   "execution_count": 80,
   "id": "a8c07baf-ffae-446d-8ea3-5c8c9cced327",
   "metadata": {
    "tags": []
   },
   "outputs": [
    {
     "data": {
      "text/plain": [
       "0       6990000\n",
       "1         25000\n",
       "2         18000\n",
       "3        109000\n",
       "4        599000\n",
       "         ...   \n",
       "995    20000000\n",
       "996    32000000\n",
       "997       25000\n",
       "998     1099000\n",
       "999       12000\n",
       "Name: price, Length: 1000, dtype: int64"
      ]
     },
     "execution_count": 80,
     "metadata": {},
     "output_type": "execute_result"
    }
   ],
   "source": [
    "# vi du plot price distribution\n",
    "price = dataframe['price']\n",
    "price"
   ]
  },
  {
   "cell_type": "code",
   "execution_count": 81,
   "id": "07d1592e-32ae-461a-8d78-83b5843394a2",
   "metadata": {
    "tags": []
   },
   "outputs": [],
   "source": [
    "# plt.style.use('ggplot')\n",
    "plt.style.use('default')\n",
    "# https://matplotlib.org/stable/gallery/style_sheets/style_sheets_reference.html"
   ]
  },
  {
   "cell_type": "code",
   "execution_count": 82,
   "id": "229bb24a-b62f-4ce5-8e0b-8ba9a7e070b5",
   "metadata": {
    "tags": []
   },
   "outputs": [],
   "source": [
    "# price.plot(kind='hist', bins=10)"
   ]
  },
  {
   "cell_type": "code",
   "execution_count": 83,
   "id": "f421e64a-68fd-4eb3-945f-da621a1aea62",
   "metadata": {
    "tags": []
   },
   "outputs": [
    {
     "data": {
      "image/png": "[encoded data removed]",
      "text/plain": [
       "<Figure size 1000x500 with 2 Axes>"
      ]
     },
     "metadata": {},
     "output_type": "display_data"
    }
   ],
   "source": [
    "fig, axs = plt.subplots(1,2, figsize=(10,5))\n",
    "price.plot(kind='hist', bins=10, ax=axs[0])\n",
    "sns.histplot(price, bins=10, ax=axs[1])\n",
    "plt.show()"
   ]
  },
  {
   "cell_type": "markdown",
   "id": "701cff2e-5792-4d2c-bf98-696d441555a5",
   "metadata": {},
   "source": [
    "**Bins**"
   ]
  },
  {
   "cell_type": "code",
   "execution_count": 58,
   "id": "a1942983-5fed-4219-8c41-63390f2f785f",
   "metadata": {
    "tags": []
   },
   "outputs": [
    {
     "data": {
      "text/plain": [
       "0      1463\n",
       "1       218\n",
       "2      1230\n",
       "3       721\n",
       "4      1197\n",
       "       ... \n",
       "995    1532\n",
       "996     205\n",
       "997    1517\n",
       "998    1634\n",
       "999      23\n",
       "Name: num_sold, Length: 1000, dtype: int64"
      ]
     },
     "execution_count": 58,
     "metadata": {},
     "output_type": "execute_result"
    }
   ],
   "source": [
    "dataframe['num_sold']"
   ]
  },
  {
   "cell_type": "code",
   "execution_count": 86,
   "id": "552252e2-692d-4f52-aa13-f560ea21d4c6",
   "metadata": {
    "tags": []
   },
   "outputs": [
    {
     "data": {
      "text/plain": [
       "<Axes: ylabel='Frequency'>"
      ]
     },
     "execution_count": 86,
     "metadata": {},
     "output_type": "execute_result"
    },
    {
     "data": {
      "image/png": "[encoded data removed]",
      "text/plain": [
       "<Figure size 640x480 with 1 Axes>"
      ]
     },
     "metadata": {},
     "output_type": "display_data"
    }
   ],
   "source": [
    "# default bins\n",
    "dataframe['num_sold'].plot(kind='hist')"
   ]
  },
  {
   "cell_type": "code",
   "execution_count": 89,
   "id": "76d26187-f690-4b12-98a3-6fac0c8a2379",
   "metadata": {
    "tags": []
   },
   "outputs": [
    {
     "data": {
      "text/plain": [
       "<Axes: xlabel='num_sold', ylabel='Count'>"
      ]
     },
     "execution_count": 89,
     "metadata": {},
     "output_type": "execute_result"
    },
    {
     "data": {
      "image/png": "[encoded data removed]",
      "text/plain": [
       "<Figure size 640x480 with 1 Axes>"
      ]
     },
     "metadata": {},
     "output_type": "display_data"
    }
   ],
   "source": [
    "sns.histplot(dataframe['num_sold'], bins=20)"
   ]
  },
  {
   "cell_type": "code",
   "execution_count": 94,
   "id": "d1f8c61c-304b-4b53-8163-79fcd6a775bd",
   "metadata": {
    "tags": []
   },
   "outputs": [
    {
     "data": {
      "text/plain": [
       "<Axes: xlabel='num_sold', ylabel='Density'>"
      ]
     },
     "execution_count": 94,
     "metadata": {},
     "output_type": "execute_result"
    },
    {
     "data": {
      "image/png": "[encoded data removed]",
      "text/plain": [
       "<Figure size 640x480 with 1 Axes>"
      ]
     },
     "metadata": {},
     "output_type": "display_data"
    }
   ],
   "source": [
    "# vi du 1 tinh nang vuot troi cua seaborn\n",
    "# sns.histplot(dataframe['num_sold'], bins=1000)\n",
    "sns.kdeplot(dataframe['num_sold'])"
   ]
  },
  {
   "cell_type": "markdown",
   "id": "889e0fb5-30c3-4c25-a94d-8205291f462e",
   "metadata": {},
   "source": [
    "### Pie Chart"
   ]
  },
  {
   "cell_type": "code",
   "execution_count": 64,
   "id": "18a31d12-913c-431d-a614-aa89d6db0aee",
   "metadata": {
    "tags": []
   },
   "outputs": [
    {
     "data": {
      "text/plain": [
       "transaction_status\n",
       "Đã giao hàng    263\n",
       "Thành công      172\n",
       "Đang xử lý      150\n",
       "Đã tiếp nhận    142\n",
       "Đã hủy           97\n",
       "Đã xác nhận      94\n",
       "Đã hoàn trả      79\n",
       "Đã từ chối        3\n",
       "Name: count, dtype: int64"
      ]
     },
     "execution_count": 64,
     "metadata": {},
     "output_type": "execute_result"
    }
   ],
   "source": [
    "dataframe['transaction_status'].value_counts()"
   ]
  },
  {
   "cell_type": "code",
   "execution_count": 97,
   "id": "11ef60d2-bb2a-4068-bba8-ff54a5be6cf7",
   "metadata": {
    "tags": []
   },
   "outputs": [
    {
     "data": {
      "text/plain": [
       "<Axes: ylabel='count'>"
      ]
     },
     "execution_count": 97,
     "metadata": {},
     "output_type": "execute_result"
    },
    {
     "data": {
      "image/png": "[encoded data removed]",
      "text/plain": [
       "<Figure size 640x480 with 1 Axes>"
      ]
     },
     "metadata": {},
     "output_type": "display_data"
    }
   ],
   "source": [
    "dataframe['transaction_status'].value_counts().plot(kind='pie', autopct='%.0f%%')"
   ]
  },
  {
   "cell_type": "markdown",
   "id": "a7d8cbd8-4a83-42c2-9790-8285bb371c9a",
   "metadata": {
    "tags": []
   },
   "source": [
    "Tham khao them cac plot khac \n",
    "\n",
    "https://pandas.pydata.org/pandas-docs/stable/reference/api/pandas.DataFrame.plot.area.html"
   ]
  },
  {
   "cell_type": "markdown",
   "id": "8011c875-6c4c-4877-a5ca-a5f61d00847e",
   "metadata": {},
   "source": [
    "## Seaborn Visualization"
   ]
  },
  {
   "cell_type": "markdown",
   "id": "ab0a4693-2931-47e6-b626-a47957ad1583",
   "metadata": {},
   "source": [
    "### HeatMap"
   ]
  },
  {
   "cell_type": "code",
   "execution_count": 131,
   "id": "0314aeaa-7f00-43f5-82c5-91661f0dfaea",
   "metadata": {
    "tags": []
   },
   "outputs": [
    {
     "data": {
      "text/html": [
       "<div>\n",
       "<style scoped>\n",
       "    .dataframe tbody tr th:only-of-type {\n",
       "        vertical-align: middle;\n",
       "    }\n",
       "\n",
       "    .dataframe tbody tr th {\n",
       "        vertical-align: top;\n",
       "    }\n",
       "\n",
       "    .dataframe thead th {\n",
       "        text-align: right;\n",
       "    }\n",
       "</style>\n",
       "<table border=\"1\" class=\"dataframe\">\n",
       "  <thead>\n",
       "    <tr style=\"text-align: right;\">\n",
       "      <th>transaction_status</th>\n",
       "      <th>Thành công</th>\n",
       "      <th>Đang xử lý</th>\n",
       "      <th>Đã giao hàng</th>\n",
       "      <th>Đã hủy</th>\n",
       "      <th>Đã tiếp nhận</th>\n",
       "      <th>Đã xác nhận</th>\n",
       "    </tr>\n",
       "    <tr>\n",
       "      <th>transaction_type</th>\n",
       "      <th></th>\n",
       "      <th></th>\n",
       "      <th></th>\n",
       "      <th></th>\n",
       "      <th></th>\n",
       "      <th></th>\n",
       "    </tr>\n",
       "  </thead>\n",
       "  <tbody>\n",
       "    <tr>\n",
       "      <th>Mua hàng</th>\n",
       "      <td>0</td>\n",
       "      <td>0</td>\n",
       "      <td>2</td>\n",
       "      <td>1</td>\n",
       "      <td>2</td>\n",
       "      <td>1</td>\n",
       "    </tr>\n",
       "    <tr>\n",
       "      <th>Thanh toán trực tuyến</th>\n",
       "      <td>1</td>\n",
       "      <td>1</td>\n",
       "      <td>0</td>\n",
       "      <td>0</td>\n",
       "      <td>0</td>\n",
       "      <td>0</td>\n",
       "    </tr>\n",
       "    <tr>\n",
       "      <th>Thẻ ghi nợ</th>\n",
       "      <td>0</td>\n",
       "      <td>0</td>\n",
       "      <td>1</td>\n",
       "      <td>0</td>\n",
       "      <td>0</td>\n",
       "      <td>0</td>\n",
       "    </tr>\n",
       "    <tr>\n",
       "      <th>Thẻ tín dụng</th>\n",
       "      <td>0</td>\n",
       "      <td>1</td>\n",
       "      <td>0</td>\n",
       "      <td>0</td>\n",
       "      <td>0</td>\n",
       "      <td>0</td>\n",
       "    </tr>\n",
       "  </tbody>\n",
       "</table>\n",
       "</div>"
      ],
      "text/plain": [
       "transaction_status     Thành công  Đang xử lý  Đã giao hàng  Đã hủy   \n",
       "transaction_type                                                      \n",
       "Mua hàng                        0           0             2       1  \\\n",
       "Thanh toán trực tuyến           1           1             0       0   \n",
       "Thẻ ghi nợ                      0           0             1       0   \n",
       "Thẻ tín dụng                    0           1             0       0   \n",
       "\n",
       "transaction_status     Đã tiếp nhận  Đã xác nhận  \n",
       "transaction_type                                  \n",
       "Mua hàng                          2            1  \n",
       "Thanh toán trực tuyến             0            0  \n",
       "Thẻ ghi nợ                        0            0  \n",
       "Thẻ tín dụng                      0            0  "
      ]
     },
     "execution_count": 131,
     "metadata": {},
     "output_type": "execute_result"
    }
   ],
   "source": [
    "df2"
   ]
  },
  {
   "cell_type": "code",
   "execution_count": 138,
   "id": "6232b63e-6ce0-4ae5-821b-5a248287c0e5",
   "metadata": {
    "tags": []
   },
   "outputs": [
    {
     "data": {
      "text/plain": [
       "<Axes: xlabel='transaction_status', ylabel='transaction_type'>"
      ]
     },
     "execution_count": 138,
     "metadata": {},
     "output_type": "execute_result"
    },
    {
     "data": {
      "image/png": "[encoded data removed]",
      "text/plain": [
       "<Figure size 640x480 with 2 Axes>"
      ]
     },
     "metadata": {},
     "output_type": "display_data"
    }
   ],
   "source": [
    "# https://seaborn.pydata.org/generated/seaborn.heatmap.html\n",
    "sns.heatmap(df2, annot=True, fmt='.0f', linewidth=.5)"
   ]
  },
  {
   "cell_type": "markdown",
   "id": "fff602bf-2c16-42ae-b28d-2133ac424478",
   "metadata": {},
   "source": [
    "### Displot"
   ]
  },
  {
   "cell_type": "code",
   "execution_count": 143,
   "id": "55281beb-81f7-4e7b-95f4-c1a789c51857",
   "metadata": {
    "tags": []
   },
   "outputs": [
    {
     "data": {
      "text/plain": [
       "<seaborn.axisgrid.FacetGrid at 0x17efc0d00>"
      ]
     },
     "execution_count": 143,
     "metadata": {},
     "output_type": "execute_result"
    },
    {
     "data": {
      "image/png": "[encoded data removed]",
      "text/plain": [
       "<Figure size 500x500 with 1 Axes>"
      ]
     },
     "metadata": {},
     "output_type": "display_data"
    }
   ],
   "source": [
    "sns.displot(dataframe['num_sold'], kind='kde')"
   ]
  },
  {
   "cell_type": "code",
   "execution_count": 148,
   "id": "8967048e-89b9-4c37-bc53-7f57b211f2a3",
   "metadata": {
    "tags": []
   },
   "outputs": [
    {
     "data": {
      "text/plain": [
       "<seaborn.axisgrid.FacetGrid at 0x17fc07310>"
      ]
     },
     "execution_count": 148,
     "metadata": {},
     "output_type": "execute_result"
    },
    {
     "data": {
      "image/png": "[encoded data removed]",
      "text/plain": [
       "<Figure size 705.375x500 with 1 Axes>"
      ]
     },
     "metadata": {},
     "output_type": "display_data"
    }
   ],
   "source": [
    "sns.displot(data=dataframe[:100], x=\"num_sold\", hue=\"transaction_type\", kind=\"kde\")"
   ]
  },
  {
   "cell_type": "markdown",
   "id": "36aaa092-5a0a-4078-a075-1a325eee97b2",
   "metadata": {},
   "source": [
    "### Joint Plot"
   ]
  },
  {
   "cell_type": "code",
   "execution_count": 98,
   "id": "2c5e0ea2-e682-4c58-88eb-5e7eab2c02dd",
   "metadata": {
    "tags": []
   },
   "outputs": [
    {
     "data": {
      "text/html": [
       "<div>\n",
       "<style scoped>\n",
       "    .dataframe tbody tr th:only-of-type {\n",
       "        vertical-align: middle;\n",
       "    }\n",
       "\n",
       "    .dataframe tbody tr th {\n",
       "        vertical-align: top;\n",
       "    }\n",
       "\n",
       "    .dataframe thead th {\n",
       "        text-align: right;\n",
       "    }\n",
       "</style>\n",
       "<table border=\"1\" class=\"dataframe\">\n",
       "  <thead>\n",
       "    <tr style=\"text-align: right;\">\n",
       "      <th></th>\n",
       "      <th>rating</th>\n",
       "      <th>num_sold</th>\n",
       "    </tr>\n",
       "  </thead>\n",
       "  <tbody>\n",
       "    <tr>\n",
       "      <th>0</th>\n",
       "      <td>4.7</td>\n",
       "      <td>1463</td>\n",
       "    </tr>\n",
       "    <tr>\n",
       "      <th>1</th>\n",
       "      <td>2.3</td>\n",
       "      <td>218</td>\n",
       "    </tr>\n",
       "    <tr>\n",
       "      <th>2</th>\n",
       "      <td>4.9</td>\n",
       "      <td>1230</td>\n",
       "    </tr>\n",
       "    <tr>\n",
       "      <th>3</th>\n",
       "      <td>NaN</td>\n",
       "      <td>721</td>\n",
       "    </tr>\n",
       "    <tr>\n",
       "      <th>4</th>\n",
       "      <td>4.7</td>\n",
       "      <td>1197</td>\n",
       "    </tr>\n",
       "    <tr>\n",
       "      <th>...</th>\n",
       "      <td>...</td>\n",
       "      <td>...</td>\n",
       "    </tr>\n",
       "    <tr>\n",
       "      <th>995</th>\n",
       "      <td>4.9</td>\n",
       "      <td>1532</td>\n",
       "    </tr>\n",
       "    <tr>\n",
       "      <th>996</th>\n",
       "      <td>5.0</td>\n",
       "      <td>205</td>\n",
       "    </tr>\n",
       "    <tr>\n",
       "      <th>997</th>\n",
       "      <td>NaN</td>\n",
       "      <td>1517</td>\n",
       "    </tr>\n",
       "    <tr>\n",
       "      <th>998</th>\n",
       "      <td>2.1</td>\n",
       "      <td>1634</td>\n",
       "    </tr>\n",
       "    <tr>\n",
       "      <th>999</th>\n",
       "      <td>5.0</td>\n",
       "      <td>23</td>\n",
       "    </tr>\n",
       "  </tbody>\n",
       "</table>\n",
       "<p>1000 rows × 2 columns</p>\n",
       "</div>"
      ],
      "text/plain": [
       "     rating  num_sold\n",
       "0       4.7      1463\n",
       "1       2.3       218\n",
       "2       4.9      1230\n",
       "3       NaN       721\n",
       "4       4.7      1197\n",
       "..      ...       ...\n",
       "995     4.9      1532\n",
       "996     5.0       205\n",
       "997     NaN      1517\n",
       "998     2.1      1634\n",
       "999     5.0        23\n",
       "\n",
       "[1000 rows x 2 columns]"
      ]
     },
     "execution_count": 98,
     "metadata": {},
     "output_type": "execute_result"
    }
   ],
   "source": [
    "dataframe[['rating', 'num_sold']]"
   ]
  },
  {
   "cell_type": "code",
   "execution_count": 155,
   "id": "d5c19293-2998-47ed-9a04-8da17067bc03",
   "metadata": {
    "tags": []
   },
   "outputs": [
    {
     "data": {
      "text/plain": [
       "<seaborn.axisgrid.JointGrid at 0x17e640460>"
      ]
     },
     "execution_count": 155,
     "metadata": {},
     "output_type": "execute_result"
    },
    {
     "data": {
      "image/png": "[encoded data removed]",
      "text/plain": [
       "<Figure size 600x600 with 3 Axes>"
      ]
     },
     "metadata": {},
     "output_type": "display_data"
    }
   ],
   "source": [
    "sns.jointplot(data=dataframe, x=\"num_sold\", y=\"rating\")"
   ]
  },
  {
   "cell_type": "code",
   "execution_count": null,
   "id": "26471aa8-a8c2-4966-aba1-da6d9c5a1ac4",
   "metadata": {},
   "outputs": [],
   "source": []
  }
 ],
 "metadata": {
  "kernelspec": {
   "display_name": "Python [conda env:aicv]",
   "language": "python",
   "name": "conda-env-aicv-py"
  },
  "language_info": {
   "codemirror_mode": {
    "name": "ipython",
    "version": 3
   },
   "file_extension": ".py",
   "mimetype": "text/x-python",
   "name": "python",
   "nbconvert_exporter": "python",
   "pygments_lexer": "ipython3",
   "version": "3.10.10"
  }
 },
 "nbformat": 4,
 "nbformat_minor": 5
}
