{
 "cells": [
  {
   "cell_type": "markdown",
   "id": "d3a22aa8-eb50-4922-965c-ae33f4f71f40",
   "metadata": {
    "tags": []
   },
   "source": [
    "# Welcome\n",
    "\n",
    "Chào mừng bạn đã đến với Python dành cho người mới bắt đầu. \n",
    "\n",
    "Vì sao chúng ta lại chọn Python để học Data Science/Analyst? \n",
    "\n",
    "Đơn giản vì nó rất tiện lợi, dễ đọc dễ hiểu dễ học. Và quan trọng nhất là Python hiện là top 1 ngôn ngữ được xài nhiều nhất trên thế giới\n",
    "\n",
    "Ở đây chúng ta sẽ làm quen một vài kiến thức và thao tác cơ bản của Python"
   ]
  },
  {
   "cell_type": "markdown",
   "id": "df83baa0-dbb6-43ce-9223-6ecdef203fbe",
   "metadata": {},
   "source": [
    "## 1. Basic Concepts"
   ]
  },
  {
   "cell_type": "markdown",
   "id": "987e469b-c4fe-42b1-beae-a25baba6fd1d",
   "metadata": {},
   "source": [
    "### 1.1 print() & input()"
   ]
  },
  {
   "cell_type": "markdown",
   "id": "76e04e49-633f-4d27-9f67-c8e8823a52d7",
   "metadata": {},
   "source": [
    "Trước hết hãy làm quen với lệnh để in 1 giá trị nào đó\n",
    "\n",
    "```python\n",
    "print()\n",
    "```"
   ]
  },
  {
   "cell_type": "code",
   "execution_count": 1,
   "id": "fb1839be-9279-4800-a923-07762e99743a",
   "metadata": {
    "tags": []
   },
   "outputs": [
    {
     "name": "stdout",
     "output_type": "stream",
     "text": [
      "Hello Python\n",
      "1\n",
      "9.6\n",
      "<class 'object'>\n",
      "7\n"
     ]
    }
   ],
   "source": [
    "# In chữ\n",
    "print(\"Hello Python\")\n",
    "\n",
    "# In số\n",
    "print(1)\n",
    "\n",
    "# In số thực\n",
    "print(9.6)\n",
    "\n",
    "# In 1 object \n",
    "print(object)\n",
    "\n",
    "# In 1 biến (variable)\n",
    "x = 5 + 2\n",
    "print(x)"
   ]
  },
  {
   "cell_type": "markdown",
   "id": "59262354-b593-4217-841e-b290a60f8729",
   "metadata": {},
   "source": [
    "Bạn thấy rằng Python rất tiện trong tính toán. Hãy thử trường hợp bạn tính toán sai"
   ]
  },
  {
   "cell_type": "code",
   "execution_count": 2,
   "id": "00e8006d-e6de-411e-8203-9b394ae55187",
   "metadata": {
    "tags": []
   },
   "outputs": [
    {
     "ename": "ZeroDivisionError",
     "evalue": "division by zero",
     "output_type": "error",
     "traceback": [
      "\u001b[0;31m---------------------------------------------------------------------------\u001b[0m",
      "\u001b[0;31mZeroDivisionError\u001b[0m                         Traceback (most recent call last)",
      "Cell \u001b[0;32mIn[2], line 2\u001b[0m\n\u001b[1;32m      1\u001b[0m \u001b[38;5;66;03m# 1/0 chắc chắn là ko được\u001b[39;00m\n\u001b[0;32m----> 2\u001b[0m \u001b[38;5;28mprint\u001b[39m(\u001b[38;5;241;43m1\u001b[39;49m\u001b[38;5;241;43m/\u001b[39;49m\u001b[38;5;241;43m0\u001b[39;49m)\n",
      "\u001b[0;31mZeroDivisionError\u001b[0m: division by zero"
     ]
    }
   ],
   "source": [
    "# 1/0 chắc chắn là ko được\n",
    "print(1/0)"
   ]
  },
  {
   "cell_type": "code",
   "execution_count": 3,
   "id": "32b3f602-4e62-436e-a8df-de7e42638f1f",
   "metadata": {
    "tags": []
   },
   "outputs": [
    {
     "ename": "TypeError",
     "evalue": "can only concatenate str (not \"int\") to str",
     "output_type": "error",
     "traceback": [
      "\u001b[0;31m---------------------------------------------------------------------------\u001b[0m",
      "\u001b[0;31mTypeError\u001b[0m                                 Traceback (most recent call last)",
      "Cell \u001b[0;32mIn[3], line 2\u001b[0m\n\u001b[1;32m      1\u001b[0m \u001b[38;5;66;03m# 1 ví dụ khác\u001b[39;00m\n\u001b[0;32m----> 2\u001b[0m \u001b[38;5;28mprint\u001b[39m(\u001b[38;5;124;43m\"\u001b[39;49m\u001b[38;5;124;43m8\u001b[39;49m\u001b[38;5;124;43m\"\u001b[39;49m\u001b[43m \u001b[49m\u001b[38;5;241;43m+\u001b[39;49m\u001b[43m \u001b[49m\u001b[38;5;241;43m3\u001b[39;49m)\n",
      "\u001b[0;31mTypeError\u001b[0m: can only concatenate str (not \"int\") to str"
     ]
    }
   ],
   "source": [
    "# 1 ví dụ khác\n",
    "print(\"8\" + 3)"
   ]
  },
  {
   "cell_type": "markdown",
   "id": "676c67f0-2cda-4dbf-996b-e53e27aba3c1",
   "metadata": {},
   "source": [
    "Trường hợp 1: sai là do phép toán chia cho 0 (ZeroDivisionError: division by zero)\n",
    "\n",
    "Trường hợp 2: sai là do sai kiểu dữ liệu (\"8\" là kiểu text/string còn 3 là kiểu số/number)"
   ]
  },
  {
   "cell_type": "markdown",
   "id": "f217387e-26bd-447c-a9fc-9989e348c5f8",
   "metadata": {},
   "source": [
    "> Bạn hãy thử input nhe: gợi ý sử dụng input()"
   ]
  },
  {
   "cell_type": "code",
   "execution_count": 4,
   "id": "4538c0a3-6d77-4b25-b213-32d1df9b679a",
   "metadata": {
    "tags": []
   },
   "outputs": [
    {
     "name": "stdin",
     "output_type": "stream",
     "text": [
      " 6788\n"
     ]
    },
    {
     "name": "stdout",
     "output_type": "stream",
     "text": [
      "6788\n"
     ]
    }
   ],
   "source": [
    "x = input()\n",
    "print(x)"
   ]
  },
  {
   "cell_type": "markdown",
   "id": "9f477c2c-ac6e-4d74-99d5-1e03588276af",
   "metadata": {},
   "source": [
    "### 1.2 Variables and Data Types\n",
    "\n",
    "Như học toán x = 3 thì (biến x), ở Python cũng vậy. Bạn có thể gán ghép bất kỳ biến nào bằng 1 giá trị nào đó cũng được\n",
    "\n",
    "Quan trọng phân biệt giữa **x** và ***X*** là 2 biến khác biệt nhau (phân biệt cả chữ hoa và chữ thường)"
   ]
  },
  {
   "cell_type": "markdown",
   "id": "ea97324a-4fee-4d55-86fd-1cfac0229f57",
   "metadata": {},
   "source": [
    "Các dạng data type ở Python bao gồm:\n",
    "\n",
    "| Symbol | Data Types | Example |\n",
    "| ------ | ---------- | ------- |\n",
    "| int    | integer (số nguyên)| 0,1,2|\n",
    "| float    | real number (số thực)| 0.1, 0.3333, 0.123|\n",
    "| str    | string (text)| \"a\", \"8\", \"asbc\"|\n",
    "| bool    | True/False | True, False|\n",
    "| None    | null (ko có giá trị)| None|\n",
    "| obj | object | dạng object (đặc biệt)|"
   ]
  },
  {
   "cell_type": "markdown",
   "id": "42ada7c9-a277-4423-9370-e38da11ecbb5",
   "metadata": {},
   "source": [
    "Để nhận biết variable của bạn là data type gì, các bạn dùng hàm \n",
    "\n",
    "```python\n",
    "type(x)\n",
    "```"
   ]
  },
  {
   "cell_type": "code",
   "execution_count": 5,
   "id": "d8c813dc-a8ba-4deb-a880-b9e18604d888",
   "metadata": {
    "tags": []
   },
   "outputs": [
    {
     "name": "stdout",
     "output_type": "stream",
     "text": [
      "<class 'int'>\n"
     ]
    }
   ],
   "source": [
    "# Ví dụ, x là số nguyên\n",
    "x = 1\n",
    "print(type(x))"
   ]
  },
  {
   "cell_type": "code",
   "execution_count": 6,
   "id": "b3087769-cfa6-4266-8fd2-5edf2959e24a",
   "metadata": {
    "tags": []
   },
   "outputs": [
    {
     "data": {
      "text/plain": [
       "int"
      ]
     },
     "execution_count": 6,
     "metadata": {},
     "output_type": "execute_result"
    }
   ],
   "source": [
    "# hoặc đơn giản\n",
    "type(x)"
   ]
  },
  {
   "cell_type": "markdown",
   "id": "a6288b7c-ba15-4277-aca7-579e6cf2caac",
   "metadata": {},
   "source": [
    "Jupyterlab in sẵn giúp bạn, ko cần phải dùng print()"
   ]
  },
  {
   "cell_type": "code",
   "execution_count": 7,
   "id": "135771e1-28ad-40e1-8cd6-1f9b3ef81be0",
   "metadata": {
    "tags": []
   },
   "outputs": [
    {
     "name": "stdout",
     "output_type": "stream",
     "text": [
      "<class 'float'>\n",
      "<class 'str'>\n",
      "<class 'bool'>\n",
      "<class 'NoneType'>\n",
      "<class 'object'>\n"
     ]
    }
   ],
   "source": [
    "# Thêm 1 vài ví dụ khác\n",
    "x = 1.3\n",
    "print(type(x))\n",
    "\n",
    "x = \"123\"\n",
    "print(type(x))\n",
    "\n",
    "x = False\n",
    "print(type(x))\n",
    "\n",
    "x = None\n",
    "print(type(x))\n",
    "\n",
    "x = object()\n",
    "print(type(x))"
   ]
  },
  {
   "cell_type": "markdown",
   "id": "de1030fa-5800-47df-94cf-3e4d3c49bee9",
   "metadata": {},
   "source": [
    "### 1.3 Basic Arithmetic Operations\n",
    "\n",
    "Phép toán cơ bản\n",
    "\n",
    "Bốn 4 toán cơ bản áp dụng cho int, float\n",
    "```python\n",
    "+  -  *  /\n",
    "```"
   ]
  },
  {
   "cell_type": "code",
   "execution_count": 9,
   "id": "0962076a-6a71-4f8c-aec5-12a7d7838b2a",
   "metadata": {
    "tags": []
   },
   "outputs": [
    {
     "data": {
      "text/plain": [
       "(5, 1, 10.2, 1.7066666666666668)"
      ]
     },
     "execution_count": 9,
     "metadata": {},
     "output_type": "execute_result"
    }
   ],
   "source": [
    "# dấu , để thực hiện nhiều lệnh cùng 1 dòng\n",
    "2 + 3, 3 - 2, 5.1*2, 5.12/3"
   ]
  },
  {
   "cell_type": "markdown",
   "id": "ac669c4c-ffef-4c47-b8e3-ad4d61a14d17",
   "metadata": {},
   "source": [
    "Một khi variable là float hoặc int thì 4 phép toán trên đều sử dụng cho 2 kiểu dữ liệu này được (ngoại trừ chia cho 0)"
   ]
  },
  {
   "cell_type": "markdown",
   "id": "f56017ec-c7ac-47ec-a724-810436648c99",
   "metadata": {},
   "source": [
    "Ngoài ra còn có 1 số phép toán khác như \n",
    "\n",
    "```python\n",
    "// lấy phần nguyên của phép chia\n",
    "%  lấy phần dư của phép chia\n",
    "** lấy mũ \n",
    "```"
   ]
  },
  {
   "cell_type": "code",
   "execution_count": 10,
   "id": "81eb50d4-f128-4bdd-8165-d0eef39ea4f5",
   "metadata": {
    "tags": []
   },
   "outputs": [
    {
     "data": {
      "text/plain": [
       "2"
      ]
     },
     "execution_count": 10,
     "metadata": {},
     "output_type": "execute_result"
    }
   ],
   "source": [
    "12 // 5"
   ]
  },
  {
   "cell_type": "code",
   "execution_count": 11,
   "id": "a64b3564-06d9-4930-9036-1101f95efb91",
   "metadata": {
    "tags": []
   },
   "outputs": [
    {
     "data": {
      "text/plain": [
       "5"
      ]
     },
     "execution_count": 11,
     "metadata": {},
     "output_type": "execute_result"
    }
   ],
   "source": [
    "12 % 7"
   ]
  },
  {
   "cell_type": "code",
   "execution_count": 12,
   "id": "1f877a99-ff67-4e8d-804a-44cf518f3647",
   "metadata": {
    "tags": []
   },
   "outputs": [
    {
     "data": {
      "text/plain": [
       "8"
      ]
     },
     "execution_count": 12,
     "metadata": {},
     "output_type": "execute_result"
    }
   ],
   "source": [
    "2**3"
   ]
  },
  {
   "cell_type": "markdown",
   "id": "0f4b9e3c-7e11-403d-8331-867b7882b89c",
   "metadata": {},
   "source": [
    "Đối với boolean, True được xem như là 1, False là 0"
   ]
  },
  {
   "cell_type": "markdown",
   "id": "2e00c1f3-c0a8-4b2b-a059-6e4f61c6dec8",
   "metadata": {},
   "source": [
    "Đối với string"
   ]
  },
  {
   "cell_type": "code",
   "execution_count": 16,
   "id": "0d25825f-4906-41bc-b185-16c772e4a86c",
   "metadata": {
    "tags": []
   },
   "outputs": [
    {
     "data": {
      "text/plain": [
       "'a__b'"
      ]
     },
     "execution_count": 16,
     "metadata": {},
     "output_type": "execute_result"
    }
   ],
   "source": [
    "# + như là phép concat\n",
    "\"a_\" + \"_b\""
   ]
  },
  {
   "cell_type": "code",
   "execution_count": 17,
   "id": "35c04261-3433-45c1-89fd-f9b73bc4c95d",
   "metadata": {
    "tags": []
   },
   "outputs": [
    {
     "data": {
      "text/plain": [
       "'abcabcabc'"
      ]
     },
     "execution_count": 17,
     "metadata": {},
     "output_type": "execute_result"
    }
   ],
   "source": [
    "# * 3 như là phép concat x3 lần, tuy nhiên \"abc\" * \"abc\" thì ko đc\n",
    "\"abc\" * 3"
   ]
  },
  {
   "cell_type": "code",
   "execution_count": 18,
   "id": "fc2baed3-1f58-4c51-ba7f-25d6bba3ff35",
   "metadata": {
    "tags": []
   },
   "outputs": [
    {
     "ename": "TypeError",
     "evalue": "unsupported operand type(s) for -: 'str' and 'str'",
     "output_type": "error",
     "traceback": [
      "\u001b[0;31m---------------------------------------------------------------------------\u001b[0m",
      "\u001b[0;31mTypeError\u001b[0m                                 Traceback (most recent call last)",
      "Cell \u001b[0;32mIn[18], line 2\u001b[0m\n\u001b[1;32m      1\u001b[0m \u001b[38;5;66;03m# - thì ko đc và / cũng ko đc\u001b[39;00m\n\u001b[0;32m----> 2\u001b[0m \u001b[38;5;124;43m\"\u001b[39;49m\u001b[38;5;124;43ma_\u001b[39;49m\u001b[38;5;124;43m\"\u001b[39;49m\u001b[43m \u001b[49m\u001b[38;5;241;43m-\u001b[39;49m\u001b[43m \u001b[49m\u001b[38;5;124;43m\"\u001b[39;49m\u001b[38;5;124;43ma\u001b[39;49m\u001b[38;5;124;43m\"\u001b[39;49m\n",
      "\u001b[0;31mTypeError\u001b[0m: unsupported operand type(s) for -: 'str' and 'str'"
     ]
    }
   ],
   "source": [
    "# - thì ko đc và / cũng ko đc\n",
    "\"a_\" - \"a\""
   ]
  },
  {
   "cell_type": "markdown",
   "id": "a03ed57a-a0b5-40c1-bcd7-b6076d089cfb",
   "metadata": {},
   "source": [
    "## 2. Conditional Statement"
   ]
  },
  {
   "cell_type": "markdown",
   "id": "7bf6990c-6491-4809-b23b-67ff02cdf970",
   "metadata": {},
   "source": [
    "### if-else\n",
    "\n",
    "Phép so sánh có điều kiện \n",
    "\n",
    "```python\n",
    "if condition:\n",
    "    do-something\n",
    "else:\n",
    "    do-otherwise\n",
    "\n",
    "```"
   ]
  },
  {
   "cell_type": "code",
   "execution_count": 20,
   "id": "084c269f-a52d-4180-b306-6b59f5bfa37f",
   "metadata": {
    "tags": []
   },
   "outputs": [
    {
     "name": "stdout",
     "output_type": "stream",
     "text": [
      "Đúng rồi nè\n"
     ]
    }
   ],
   "source": [
    "# Bạn thử thay đổi giá trị nhe\n",
    "x = 15\n",
    "\n",
    "if x >= 10:\n",
    "    print('Đúng rồi nè')\n",
    "else:\n",
    "    print('Sai rồi nè')"
   ]
  },
  {
   "cell_type": "markdown",
   "id": "c620ecdd-c5a8-4710-b51f-971f992b3be1",
   "metadata": {},
   "source": [
    "### if-else nested\n",
    "\n",
    "Phép so sánh có điều kiện lồng nhau\n",
    "\n",
    "```python\n",
    "if condition-a:\n",
    "    if condition-b:\n",
    "        do-something-b\n",
    "    else:\n",
    "        do-otherwise-b\n",
    "    do-something-a\n",
    "else:\n",
    "    do-otherwise-a\n",
    "\n",
    "```"
   ]
  },
  {
   "cell_type": "code",
   "execution_count": 21,
   "id": "625cac20-a403-4c02-8a61-5356b8d17ca7",
   "metadata": {
    "tags": []
   },
   "outputs": [
    {
     "name": "stdout",
     "output_type": "stream",
     "text": [
      "11 là số lẽ\n",
      "11 lớn hơn 10\n"
     ]
    }
   ],
   "source": [
    "# Bạn thử thay đổi giá trị nhe\n",
    "x = 11\n",
    "\n",
    "if x >= 10:\n",
    "    if x % 2 == 0:\n",
    "        print(x, 'là số chẵn')\n",
    "    else:\n",
    "        print(x, 'là số lẽ')\n",
    "    print(x,'lớn hơn 10')\n",
    "else:\n",
    "    if x % 2 == 0:\n",
    "        print(x, 'là số chẵn')\n",
    "    else:\n",
    "        print(x, 'là số lẽ')\n",
    "    print('Nhỏ hơn 10')"
   ]
  },
  {
   "cell_type": "markdown",
   "id": "fcb7446a-6ab7-4898-9b6a-e6376cb7bc5b",
   "metadata": {},
   "source": [
    "### if-else ladder\n",
    "\n",
    "Phép so sánh có elif\n",
    "\n",
    "```python\n",
    "if condition-a1:\n",
    "    do-something-a1\n",
    "elif condition-a2:\n",
    "    do-something-a1\n",
    "else:\n",
    "    do-otherwise-a\n",
    "```"
   ]
  },
  {
   "cell_type": "code",
   "execution_count": 24,
   "id": "3e4dda7b-01b5-4456-9d6d-928bdb4fda22",
   "metadata": {
    "tags": []
   },
   "outputs": [
    {
     "name": "stdout",
     "output_type": "stream",
     "text": [
      "Bé hơn 6 nè\n"
     ]
    }
   ],
   "source": [
    "x = 3\n",
    "\n",
    "if x >= 10:\n",
    "    print('Lớn hơn 10 nè')\n",
    "elif x >= 6:\n",
    "    print('Trong khoảng 6 - 9 nè')\n",
    "else:\n",
    "    print('Bé hơn 6 nè')"
   ]
  },
  {
   "cell_type": "markdown",
   "id": "2c1e2953-6ba3-45b9-817e-2584f7858dc8",
   "metadata": {},
   "source": [
    "## 3. Loop - vòng lặp"
   ]
  },
  {
   "cell_type": "markdown",
   "id": "38c5bffe-4cd3-4a44-8f7f-cba6f7330e9a",
   "metadata": {},
   "source": [
    "Ở đây chúng ta làm when vòng lặp trong Python\n",
    "\n",
    "Rất đơn giản, giả sử bạn muốn in 1 dãy số từ 1 tới 3. Bạn có thể sử dụng nhiều cách khác nhau.\n",
    "\n",
    "Ví dụ:"
   ]
  },
  {
   "cell_type": "code",
   "execution_count": 25,
   "id": "8d45f0e6-80f2-490e-bb0f-0d857bf4320b",
   "metadata": {
    "tags": []
   },
   "outputs": [
    {
     "name": "stdout",
     "output_type": "stream",
     "text": [
      "1\n",
      "2\n",
      "3\n"
     ]
    }
   ],
   "source": [
    "print(1)\n",
    "print(2)\n",
    "print(3)"
   ]
  },
  {
   "cell_type": "markdown",
   "id": "69e61ed6-3c46-4b39-a01a-942ab8086d39",
   "metadata": {},
   "source": [
    "Hoặc dùng vòng lặp **for**"
   ]
  },
  {
   "cell_type": "code",
   "execution_count": 26,
   "id": "fb3063d5-7de1-47ec-a40d-c86d44bb551b",
   "metadata": {
    "tags": []
   },
   "outputs": [
    {
     "name": "stdout",
     "output_type": "stream",
     "text": [
      "1\n",
      "2\n",
      "3\n"
     ]
    }
   ],
   "source": [
    "for i in [1,2,3]:\n",
    "    print(i)"
   ]
  },
  {
   "cell_type": "code",
   "execution_count": 27,
   "id": "120e5f33-5251-4b95-851a-de37e79fc860",
   "metadata": {
    "tags": []
   },
   "outputs": [
    {
     "name": "stdout",
     "output_type": "stream",
     "text": [
      "55\n"
     ]
    }
   ],
   "source": [
    "# Ví dụ tính tổng từ 1 tới 10\n",
    "# Cách 1\n",
    "print(1 + 2 + 3 + 4 + 5 + 6 + 7 + 8 + 9 + 10)"
   ]
  },
  {
   "cell_type": "code",
   "execution_count": 28,
   "id": "18b2638c-a449-4cec-ada6-dd45edd4d064",
   "metadata": {
    "tags": []
   },
   "outputs": [
    {
     "name": "stdout",
     "output_type": "stream",
     "text": [
      "55\n"
     ]
    }
   ],
   "source": [
    "# Cách 2\n",
    "total = 0\n",
    "for i in [1,2,3,4,5,6,7,8,9,10]:\n",
    "    total = total + i\n",
    "    # 0 = 0 + 1\n",
    "    # 1 = 1 + 2 = 3\n",
    "    # 3 = 3 + 3 = 6\n",
    "    # increasmental\n",
    "print(total)"
   ]
  },
  {
   "cell_type": "code",
   "execution_count": 29,
   "id": "1f3f22cb-844e-4a60-ae6a-186e79ec42d5",
   "metadata": {
    "tags": []
   },
   "outputs": [
    {
     "name": "stdout",
     "output_type": "stream",
     "text": [
      "55\n"
     ]
    }
   ],
   "source": [
    "# Cách 3\n",
    "total = 0\n",
    "for i in range(1,11):\n",
    "    total = total + i\n",
    "print(total)"
   ]
  },
  {
   "cell_type": "code",
   "execution_count": 30,
   "id": "a0305528-a9c9-4710-bfaa-1b743bf744c3",
   "metadata": {
    "tags": []
   },
   "outputs": [
    {
     "name": "stdout",
     "output_type": "stream",
     "text": [
      "55\n"
     ]
    }
   ],
   "source": [
    "# Cách 4\n",
    "total = sum(range(1,11))\n",
    "print(total)"
   ]
  },
  {
   "cell_type": "code",
   "execution_count": 31,
   "id": "63cfb6b1-0466-4bce-886a-c703fc0c3258",
   "metadata": {
    "tags": []
   },
   "outputs": [
    {
     "name": "stdout",
     "output_type": "stream",
     "text": [
      "55\n"
     ]
    }
   ],
   "source": [
    "# Cách 5\n",
    "# inline-comprehensive\n",
    "total = sum([i for i in range(1,11)])\n",
    "print(total)"
   ]
  },
  {
   "cell_type": "code",
   "execution_count": 34,
   "id": "6c61ef23-2442-4f36-ae69-9ed226042616",
   "metadata": {
    "tags": []
   },
   "outputs": [
    {
     "name": "stdout",
     "output_type": "stream",
     "text": [
      "55\n"
     ]
    }
   ],
   "source": [
    "# Cách 6\n",
    "n = 10\n",
    "total = int(n * (n+1) / 2)\n",
    "print(total)"
   ]
  },
  {
   "cell_type": "markdown",
   "id": "031dc8f3-af28-40c5-a72e-d4ff619d0aae",
   "metadata": {},
   "source": [
    "Như bạn thấy có rất nhiều cách, ở đây chúng ta sẽ tập trung vào cách 2 và 3\n",
    "\n",
    "- range(a,b) sẽ tạo 1 dãy số từ a tới b - 1 \n",
    "- [1,2,3] = range(1,4) (không bao gồm 4)"
   ]
  },
  {
   "cell_type": "markdown",
   "id": "ea57b13a-dd7d-4149-a9f5-f09d1827dd89",
   "metadata": {},
   "source": [
    "**break**\n",
    "\n",
    "Khi bạn muốn kết thúc vòng lặp trong khi nó đang chạy, bạn có thể dùng break"
   ]
  },
  {
   "cell_type": "code",
   "execution_count": 41,
   "id": "3ee7b0e6-828e-4f2d-8111-68d17b5ab052",
   "metadata": {
    "tags": []
   },
   "outputs": [
    {
     "name": "stdout",
     "output_type": "stream",
     "text": [
      "1\n",
      "2\n",
      "3\n",
      "4\n",
      "5\n",
      "6\n",
      "7\n",
      "8\n",
      "9\n",
      "10\n",
      "12\n",
      "13\n",
      "14\n",
      "15\n",
      "16\n",
      "17\n",
      "18\n",
      "19\n"
     ]
    }
   ],
   "source": [
    "for i in range(1,1000000):\n",
    "    if i == 11:\n",
    "        continue\n",
    "    if i >= 20:\n",
    "        break\n",
    "    print(i)"
   ]
  },
  {
   "cell_type": "markdown",
   "id": "10586202-9d95-4c2f-b3d3-5203e2cf459a",
   "metadata": {},
   "source": [
    "Bạn thấy đó đáng lẽ vòng lặp sẽ print tới 1000000. Nhưng ta kèm điều kiện nếu như i >= 10 thì thoát khỏi vòng lặp an toàn"
   ]
  },
  {
   "cell_type": "markdown",
   "id": "5d4f8d47-6d89-4cf7-aa61-aaeeef612aab",
   "metadata": {},
   "source": [
    "#### Home work 1\n",
    "\n",
    "Giờ bạn hãy thử tính S bằng tổng các số lẽ nhỏ hơn N (N cho trước), nếu S lớn hơn 100 thì kết thúc vòng lặp mặc dù còn bao nhiêu số lẻ nữa"
   ]
  },
  {
   "cell_type": "code",
   "execution_count": null,
   "id": "0b64f863-093d-4d21-ac46-63e3bd47b841",
   "metadata": {},
   "outputs": [],
   "source": []
  },
  {
   "cell_type": "markdown",
   "id": "8d8c6e26-2d6b-430e-9666-452584b4385c",
   "metadata": {},
   "source": [
    "## 4. Data Structure\n",
    "\n"
   ]
  },
  {
   "cell_type": "markdown",
   "id": "c27827b9-044a-489c-a90e-c1641402bf1f",
   "metadata": {},
   "source": [
    "### List"
   ]
  },
  {
   "cell_type": "markdown",
   "id": "36fff744-ee8a-46d0-a5f5-941c57463d9f",
   "metadata": {},
   "source": [
    "Nãy giờ bạn thấy rất nhiều cụm **x=[1,2,3]**\n",
    "\n",
    "x đây là 1 kiểu dữ liệu gọi là ```list```"
   ]
  },
  {
   "cell_type": "code",
   "execution_count": 45,
   "id": "b0f5ee31-24fe-4733-a097-8d3bcf2dbc10",
   "metadata": {
    "tags": []
   },
   "outputs": [
    {
     "name": "stdout",
     "output_type": "stream",
     "text": [
      "<class 'list'>\n"
     ]
    }
   ],
   "source": [
    "# Ví dụ list\n",
    "x = [1,2,3]\n",
    "print(type(x))"
   ]
  },
  {
   "cell_type": "markdown",
   "id": "1bf270d8-041d-40cd-b24e-66b490daecec",
   "metadata": {},
   "source": [
    "Bạn có thể append giá trị khác vào list "
   ]
  },
  {
   "cell_type": "code",
   "execution_count": 46,
   "id": "8b243a80-212d-4140-abf5-11d30d563a5a",
   "metadata": {
    "tags": []
   },
   "outputs": [
    {
     "name": "stdout",
     "output_type": "stream",
     "text": [
      "[1, 2, 3, 4]\n"
     ]
    }
   ],
   "source": [
    "x.append(4)\n",
    "print(x)"
   ]
  },
  {
   "cell_type": "code",
   "execution_count": 47,
   "id": "7ac83f32-7670-421b-bfc4-9d0850f39293",
   "metadata": {
    "tags": []
   },
   "outputs": [
    {
     "data": {
      "text/plain": [
       "[1, 2, 3, 4, 5]"
      ]
     },
     "execution_count": 47,
     "metadata": {},
     "output_type": "execute_result"
    }
   ],
   "source": [
    "x + [5]"
   ]
  },
  {
   "cell_type": "markdown",
   "id": "c555288e-9fb7-4573-9fa7-5182a75923ee",
   "metadata": {},
   "source": [
    "Bạn có thể extend 1 list khác"
   ]
  },
  {
   "cell_type": "code",
   "execution_count": 49,
   "id": "d28d2be5-4747-42cd-b055-54fcdf06e3ec",
   "metadata": {
    "tags": []
   },
   "outputs": [
    {
     "name": "stdout",
     "output_type": "stream",
     "text": [
      "[1, 2, 3, 4, 5, 6]\n"
     ]
    }
   ],
   "source": [
    "x.extend([5,6])\n",
    "print(x)"
   ]
  },
  {
   "cell_type": "markdown",
   "id": "a209335e-7eb0-433a-9a77-f4fd52ae395d",
   "metadata": {},
   "source": [
    "Nếu bạn muốn lấy giá trị 3 ra, thì 3 tương ứng với index 2 trong list (index tính từ 0)"
   ]
  },
  {
   "cell_type": "code",
   "execution_count": 51,
   "id": "90043e74-86c7-4d3e-892d-fbe4e5416ab4",
   "metadata": {
    "tags": []
   },
   "outputs": [
    {
     "data": {
      "text/plain": [
       "3"
      ]
     },
     "execution_count": 51,
     "metadata": {},
     "output_type": "execute_result"
    }
   ],
   "source": [
    "x[2]"
   ]
  },
  {
   "cell_type": "code",
   "execution_count": 52,
   "id": "55c31770-9f2c-485f-a817-699681b8b273",
   "metadata": {
    "tags": []
   },
   "outputs": [
    {
     "data": {
      "text/plain": [
       "6"
      ]
     },
     "execution_count": 52,
     "metadata": {},
     "output_type": "execute_result"
    }
   ],
   "source": [
    "len(x)"
   ]
  },
  {
   "cell_type": "markdown",
   "id": "bfcb0519-9b78-4819-afe2-e2c5662eb9eb",
   "metadata": {},
   "source": [
    "Ngoài ra, bạn còn có thể lấy 1 khoảng giá trị, (giả tử lấy từ phần tử thứ 2 tới phần tử thứ 4, tương ứng index từ 1 - 3)"
   ]
  },
  {
   "cell_type": "code",
   "execution_count": 54,
   "id": "01adb27a-69a9-4add-8baf-7714dc2d767a",
   "metadata": {
    "tags": []
   },
   "outputs": [
    {
     "data": {
      "text/plain": [
       "[2, 3, 4]"
      ]
     },
     "execution_count": 54,
     "metadata": {},
     "output_type": "execute_result"
    }
   ],
   "source": [
    "x[1:4]"
   ]
  },
  {
   "cell_type": "markdown",
   "id": "5f4154bb-4ae0-4a1d-86f7-8470e61d0c6c",
   "metadata": {},
   "source": [
    "Ngoài ra bạn có thể lấy bất kỳ index nào khác"
   ]
  },
  {
   "cell_type": "markdown",
   "id": "f0f4fb9c-9347-495b-8906-7d552f5555b0",
   "metadata": {},
   "source": [
    "#### Homework 2\n",
    "\n",
    "Cho 1 dãy mix các loại ở dưới đây. Hãy sử dụng indexing để lấy các giá trị 4,\"a\",và False ra "
   ]
  },
  {
   "cell_type": "code",
   "execution_count": 95,
   "id": "b3ea690d-951f-449e-bcb6-cb250cf84ebc",
   "metadata": {
    "tags": []
   },
   "outputs": [],
   "source": [
    "a = [1,2,3,4,5,6,7,\"a\", \"b\", \"c\", True, False]"
   ]
  },
  {
   "cell_type": "code",
   "execution_count": 96,
   "id": "b35cb986-f5da-42b9-b851-8832d9675014",
   "metadata": {
    "tags": []
   },
   "outputs": [
    {
     "data": {
      "text/plain": [
       "[1, 2, 3, 4, 5, 6, 7, 'a', 'b', 'c', True, False]"
      ]
     },
     "execution_count": 96,
     "metadata": {},
     "output_type": "execute_result"
    }
   ],
   "source": [
    "a"
   ]
  },
  {
   "cell_type": "markdown",
   "id": "626a1145-64c7-4e01-8ed1-0911061de0d5",
   "metadata": {},
   "source": [
    "#### Homework 3"
   ]
  },
  {
   "cell_type": "code",
   "execution_count": 97,
   "id": "81b65200-ed28-4bbb-b91c-843722e179ea",
   "metadata": {
    "tags": []
   },
   "outputs": [
    {
     "name": "stdout",
     "output_type": "stream",
     "text": [
      "[1, 2, 3, 4, 5, 6, 7, 'a', 'b', 'c', True, False]\n"
     ]
    }
   ],
   "source": [
    "# Thử run đoạn code sau\n",
    "print(a)"
   ]
  },
  {
   "cell_type": "code",
   "execution_count": 98,
   "id": "ec51a638-1671-4f53-8bc7-87e3bce0d6c3",
   "metadata": {
    "tags": []
   },
   "outputs": [],
   "source": [
    "a[0] = 10"
   ]
  },
  {
   "cell_type": "code",
   "execution_count": 99,
   "id": "b869e9dd-de6b-4cd6-8d75-45180d9df71c",
   "metadata": {
    "tags": []
   },
   "outputs": [
    {
     "name": "stdout",
     "output_type": "stream",
     "text": [
      "[10, 2, 3, 4, 5, 6, 7, 'a', 'b', 'c', True, False]\n"
     ]
    }
   ],
   "source": [
    "# Uncomment đoạn code và xem thử\n",
    "\n",
    "print(a)\n",
    "\n",
    "# Khi làm việc với list, bạn cần chú ý, thay đổi trực tiếp trên list sẽ ảnh hưởng giá trị thực của nó"
   ]
  },
  {
   "cell_type": "markdown",
   "id": "6ed91a1d-15fc-4143-973e-45dbba4f20dd",
   "metadata": {},
   "source": [
    "### Dict (dictionary)\n",
    "\n",
    "Ví dụ dict, format của dictionary là **{key: value}**\n",
    "\n",
    "- key là **duy nhất** trong dictionary\n",
    "- key có thể là kiểu int/float/string/object (ko thể kiểu tuple,list,set, dict)\n",
    "- value có thể là int/float/string/dict/list/set/object\n",
    "- khi chỉnh sửa dict[key] cần hiểu rằng chúng ta đang thao tác trên bộ nhớ thật của nó"
   ]
  },
  {
   "cell_type": "code",
   "execution_count": 55,
   "id": "bb5d5211-02a5-43e7-8dee-6731ea61a9fa",
   "metadata": {
    "tags": []
   },
   "outputs": [
    {
     "name": "stdout",
     "output_type": "stream",
     "text": [
      "{'a': 1}\n",
      "<class 'dict'>\n"
     ]
    }
   ],
   "source": [
    "x = {'a': 1}\n",
    "print(x)\n",
    "print(type(x))"
   ]
  },
  {
   "cell_type": "code",
   "execution_count": 57,
   "id": "46f11852-8cb4-49c8-8fe8-540a18ad1b23",
   "metadata": {
    "tags": []
   },
   "outputs": [
    {
     "name": "stdout",
     "output_type": "stream",
     "text": [
      "1\n"
     ]
    }
   ],
   "source": [
    "# Lấy giá trị của a trong dict\n",
    "print(x['a'])"
   ]
  },
  {
   "cell_type": "code",
   "execution_count": 58,
   "id": "d531217e-6208-4abb-9962-ab8cac318735",
   "metadata": {
    "tags": []
   },
   "outputs": [
    {
     "name": "stdout",
     "output_type": "stream",
     "text": [
      "{'a': 1, 'b': 2}\n"
     ]
    }
   ],
   "source": [
    "# Thêm 1 cặp key,value khác vào dictionary x\n",
    "x['b'] = 2\n",
    "print(x)"
   ]
  },
  {
   "cell_type": "code",
   "execution_count": 59,
   "id": "179eb916-51cd-425e-8633-5216a99da9ee",
   "metadata": {
    "tags": []
   },
   "outputs": [
    {
     "data": {
      "text/plain": [
       "{'a': 1, 'b': 2, 'c': [1, 2, 3, 4]}"
      ]
     },
     "execution_count": 59,
     "metadata": {},
     "output_type": "execute_result"
    }
   ],
   "source": [
    "x['c'] = [1,2,3,4]\n",
    "x"
   ]
  },
  {
   "cell_type": "code",
   "execution_count": 60,
   "id": "0590b9e1-3426-4fe4-b3ed-00b2f8d019ca",
   "metadata": {
    "tags": []
   },
   "outputs": [
    {
     "name": "stdout",
     "output_type": "stream",
     "text": [
      "{'a': 0, 'b': 2, 'c': [1, 2, 3, 4]}\n"
     ]
    }
   ],
   "source": [
    "# Thay đổi giá trị của key a\n",
    "x['a'] = 0\n",
    "print(x)"
   ]
  },
  {
   "cell_type": "code",
   "execution_count": 61,
   "id": "1a1f10ca-3e36-419e-96c2-ee57933505ff",
   "metadata": {
    "tags": []
   },
   "outputs": [
    {
     "name": "stdout",
     "output_type": "stream",
     "text": [
      "{'a': 0, 'c': [1, 2, 3, 4]}\n"
     ]
    }
   ],
   "source": [
    "# xóa key b\n",
    "del x['b']\n",
    "print(x)"
   ]
  },
  {
   "cell_type": "markdown",
   "id": "9f0f08cb-297c-44cc-949e-bf4760096dd2",
   "metadata": {},
   "source": [
    "#### hàm .get()"
   ]
  },
  {
   "cell_type": "markdown",
   "id": "10572d71-01d6-4595-9524-0b2e2c9b337a",
   "metadata": {},
   "source": [
    "Nếu bạn truy cập vào key ko có trong dictionary sẽ xảy ra lỗi"
   ]
  },
  {
   "cell_type": "code",
   "execution_count": 62,
   "id": "5afb3a8c-7589-4205-81ac-05b84813150e",
   "metadata": {
    "tags": []
   },
   "outputs": [
    {
     "data": {
      "text/plain": [
       "{}"
      ]
     },
     "execution_count": 62,
     "metadata": {},
     "output_type": "execute_result"
    }
   ],
   "source": [
    "# Tạo 1 empty dictionary\n",
    "d = {}\n",
    "d"
   ]
  },
  {
   "cell_type": "code",
   "execution_count": 63,
   "id": "a87d408e-b666-4e8e-b2c1-d9e1676e6b2c",
   "metadata": {
    "tags": []
   },
   "outputs": [
    {
     "ename": "KeyError",
     "evalue": "'a'",
     "output_type": "error",
     "traceback": [
      "\u001b[0;31m---------------------------------------------------------------------------\u001b[0m",
      "\u001b[0;31mKeyError\u001b[0m                                  Traceback (most recent call last)",
      "Cell \u001b[0;32mIn[63], line 2\u001b[0m\n\u001b[1;32m      1\u001b[0m \u001b[38;5;66;03m# truy xuất vào phần tử ko có trong dictionary d\u001b[39;00m\n\u001b[0;32m----> 2\u001b[0m \u001b[43md\u001b[49m\u001b[43m[\u001b[49m\u001b[38;5;124;43m\"\u001b[39;49m\u001b[38;5;124;43ma\u001b[39;49m\u001b[38;5;124;43m\"\u001b[39;49m\u001b[43m]\u001b[49m\n",
      "\u001b[0;31mKeyError\u001b[0m: 'a'"
     ]
    }
   ],
   "source": [
    "# truy xuất vào phần tử ko có trong dictionary d\n",
    "d[\"a\"]"
   ]
  },
  {
   "cell_type": "code",
   "execution_count": 64,
   "id": "398d9f0d-3c6e-4766-b90b-770ae85c2201",
   "metadata": {
    "tags": []
   },
   "outputs": [
    {
     "name": "stdout",
     "output_type": "stream",
     "text": [
      "None\n"
     ]
    }
   ],
   "source": [
    "# nếu muốn truy xuất \"an toàn\", sử dụng hàm get (mặc định hàm get trả về None nếu ko có key trong dictionary)\n",
    "print(d.get(\"a\"))"
   ]
  },
  {
   "cell_type": "code",
   "execution_count": 65,
   "id": "f9a160b3-6e8a-4a0e-b8f2-3b48e28a8b7f",
   "metadata": {
    "tags": []
   },
   "outputs": [
    {
     "name": "stdout",
     "output_type": "stream",
     "text": [
      "b\n"
     ]
    }
   ],
   "source": [
    "# nếu bạn muốn thay đổi giá trị mặc định null này, bạn có thể thay thế thế .get(key, default_value)\n",
    "print(d.get(\"a\", \"b\"))"
   ]
  },
  {
   "cell_type": "markdown",
   "id": "974c9557-b21e-47d1-97df-37f74e14176e",
   "metadata": {},
   "source": [
    "Hàm get giúp lấy giá trị dictionary 1 cách an toàn "
   ]
  },
  {
   "cell_type": "code",
   "execution_count": 66,
   "id": "e983bb8c-9341-476b-9300-32b2bd47b254",
   "metadata": {
    "tags": []
   },
   "outputs": [],
   "source": [
    "d['a'] = 1"
   ]
  },
  {
   "cell_type": "code",
   "execution_count": 68,
   "id": "45aae08e-ef0e-4018-99a4-839f2c309f71",
   "metadata": {
    "tags": []
   },
   "outputs": [
    {
     "data": {
      "text/plain": [
       "{'a': 1}"
      ]
     },
     "execution_count": 68,
     "metadata": {},
     "output_type": "execute_result"
    }
   ],
   "source": [
    "d"
   ]
  },
  {
   "cell_type": "code",
   "execution_count": 69,
   "id": "1a521490-48fc-46d2-8c93-4d6c97bafe13",
   "metadata": {
    "tags": []
   },
   "outputs": [
    {
     "data": {
      "text/plain": [
       "1"
      ]
     },
     "execution_count": 69,
     "metadata": {},
     "output_type": "execute_result"
    }
   ],
   "source": [
    "d.get('a', \"b\")"
   ]
  },
  {
   "cell_type": "markdown",
   "id": "86f0819b-09c7-4d80-87e9-6b77f0f09ca3",
   "metadata": {},
   "source": [
    "### Set"
   ]
  },
  {
   "cell_type": "markdown",
   "id": "1c90b7fa-91a1-4f8d-af7b-78d0736a705f",
   "metadata": {},
   "source": [
    "giống list nhưng set chỉ chứa những giá trị không giống nhau trong khi list các giá trị có thể lặp lại trong list"
   ]
  },
  {
   "cell_type": "markdown",
   "id": "feeca2de-0e57-4131-9640-d89797ba90f6",
   "metadata": {},
   "source": [
    "Khai báo: ***set(list_object)***"
   ]
  },
  {
   "cell_type": "code",
   "execution_count": 71,
   "id": "a98631aa-2ab4-4e10-b3e0-f7f335a99595",
   "metadata": {
    "tags": []
   },
   "outputs": [
    {
     "name": "stdout",
     "output_type": "stream",
     "text": [
      "{1, 2, 3}\n",
      "<class 'set'>\n"
     ]
    }
   ],
   "source": [
    "# Ví dụ về set, format của set là set(list)\n",
    "a = [1,2,3,3,2,1]\n",
    "x = set(a)\n",
    "print(x)\n",
    "print(type(x))"
   ]
  },
  {
   "cell_type": "markdown",
   "id": "670f725b-5586-4761-8075-27e07ab0b19d",
   "metadata": {},
   "source": [
    "Hàm set không có quá nhiều sử dụng ngoại trừ tính toán nên mình để bạn tìm hiểu thêm"
   ]
  },
  {
   "cell_type": "markdown",
   "id": "a4ef5ae4-2ef6-4ed6-9a65-b1898442d8dd",
   "metadata": {
    "tags": []
   },
   "source": [
    "### Tuple"
   ]
  },
  {
   "cell_type": "code",
   "execution_count": 73,
   "id": "add149b9-19b6-49b1-9b15-82b8afe17f0a",
   "metadata": {
    "tags": []
   },
   "outputs": [
    {
     "data": {
      "text/plain": [
       "tuple"
      ]
     },
     "execution_count": 73,
     "metadata": {},
     "output_type": "execute_result"
    }
   ],
   "source": [
    "tup = (1,2,3)\n",
    "type(tup)"
   ]
  },
  {
   "cell_type": "markdown",
   "id": "ce6c2864-1130-4ad1-a1ea-56dfd5ef5ea1",
   "metadata": {},
   "source": [
    "# Let's take a break"
   ]
  },
  {
   "cell_type": "markdown",
   "id": "1d1b90ce-f6a8-4bea-b6e4-b7ea289997ea",
   "metadata": {},
   "source": [
    "## 5. Functions (Hàm)"
   ]
  },
  {
   "cell_type": "markdown",
   "id": "3e1caebc-3e46-4d97-a9ea-7f5f24987ed7",
   "metadata": {},
   "source": [
    "Hàm rất là hữu dụng trong Python, không chỉ giúp clean code mà còn cho chúng ta tái sử dụng mục đích của hàm ở nhiều nơi khác"
   ]
  },
  {
   "cell_type": "code",
   "execution_count": 75,
   "id": "34496815-998c-4dcb-911d-d811f2008cc5",
   "metadata": {
    "tags": []
   },
   "outputs": [
    {
     "name": "stdout",
     "output_type": "stream",
     "text": [
      "Hello Python, this is the first class\n",
      "Hello C++, this is the second class\n",
      "Hello C#, this is the third class\n",
      "Hello Java, this is the 4th class\n",
      "Hello R, this is the 5th class\n"
     ]
    }
   ],
   "source": [
    "# ví dụ trường hợp tái sử dụng\n",
    "\n",
    "# Cách 1: ko sử dụng\n",
    "print(\"Hello Python, this is the first class\")\n",
    "print(\"Hello C++, this is the second class\")\n",
    "print(\"Hello C#, this is the third class\")\n",
    "print(\"Hello Java, this is the 4th class\")\n",
    "print(\"Hello R, this is the 5th class\")"
   ]
  },
  {
   "cell_type": "code",
   "execution_count": 76,
   "id": "aee8515f-bd81-4eb0-b0ee-8b63c8d09fe5",
   "metadata": {
    "tags": []
   },
   "outputs": [],
   "source": [
    "# Cach 2: su dung function de rut gon lai\n",
    "def print_hello(program_name, number_order):\n",
    "    print('Hello ' + program_name + ', this is the ' + number_order + ' class')"
   ]
  },
  {
   "cell_type": "code",
   "execution_count": 77,
   "id": "1be9e7f1-9aed-4f77-98ca-1e2ddeee119e",
   "metadata": {
    "tags": []
   },
   "outputs": [
    {
     "name": "stdout",
     "output_type": "stream",
     "text": [
      "Hello Python, this is the first class\n",
      "Hello C++, this is the second class\n",
      "Hello C#, this is the third class\n",
      "Hello Java, this is the 4th class\n",
      "Hello R, this is the 5th class\n"
     ]
    }
   ],
   "source": [
    "print_hello(\"Python\", 'first')\n",
    "print_hello(\"C++\", 'second')\n",
    "print_hello(\"C#\", 'third')\n",
    "print_hello(\"Java\", '4th')\n",
    "print_hello(\"R\", '5th')"
   ]
  },
  {
   "cell_type": "code",
   "execution_count": 78,
   "id": "903948e5-4458-49b8-9894-f1b2245011d1",
   "metadata": {
    "tags": []
   },
   "outputs": [
    {
     "name": "stdout",
     "output_type": "stream",
     "text": [
      "Hello Ensembly, this is the sixth class\n"
     ]
    }
   ],
   "source": [
    "print_hello(\"Ensembly\", \"sixth\")"
   ]
  },
  {
   "cell_type": "markdown",
   "id": "e124ad45-d664-4067-9480-72fcd847c050",
   "metadata": {},
   "source": [
    "Function được định nghĩa bởi keyword **def**, xinchao là tên của function. Phía sau là cách thức hoạt động của function được đóng trong khung"
   ]
  },
  {
   "cell_type": "code",
   "execution_count": 79,
   "id": "cd65d860-e9ef-4ec5-8a12-88ab5124d42c",
   "metadata": {
    "tags": []
   },
   "outputs": [],
   "source": [
    "# vi du\n",
    "\n",
    "def xinchao():\n",
    "    print('Xin chào')"
   ]
  },
  {
   "cell_type": "code",
   "execution_count": 80,
   "id": "c8b37c0f-45d6-4994-8aa4-6c6fb649dac8",
   "metadata": {
    "tags": []
   },
   "outputs": [
    {
     "name": "stdout",
     "output_type": "stream",
     "text": [
      "Xin chào\n"
     ]
    }
   ],
   "source": [
    "#Để gọi function\n",
    "xinchao()"
   ]
  },
  {
   "cell_type": "code",
   "execution_count": 82,
   "id": "2fc21853-011e-4a10-9180-29c7da6587e6",
   "metadata": {
    "tags": []
   },
   "outputs": [
    {
     "ename": "TypeError",
     "evalue": "xinchao() takes 0 positional arguments but 1 was given",
     "output_type": "error",
     "traceback": [
      "\u001b[0;31m---------------------------------------------------------------------------\u001b[0m",
      "\u001b[0;31mTypeError\u001b[0m                                 Traceback (most recent call last)",
      "Cell \u001b[0;32mIn[82], line 1\u001b[0m\n\u001b[0;32m----> 1\u001b[0m \u001b[43mxinchao\u001b[49m\u001b[43m(\u001b[49m\u001b[38;5;124;43m\"\u001b[39;49m\u001b[38;5;124;43ma\u001b[39;49m\u001b[38;5;124;43m\"\u001b[39;49m\u001b[43m)\u001b[49m\n",
      "\u001b[0;31mTypeError\u001b[0m: xinchao() takes 0 positional arguments but 1 was given"
     ]
    }
   ],
   "source": [
    "xinchao(\"a\")"
   ]
  },
  {
   "cell_type": "markdown",
   "id": "6de4e2eb-4a73-411c-a4b1-f3774c0e0df3",
   "metadata": {},
   "source": [
    "Bản thân function có thể nhận input và trả về output"
   ]
  },
  {
   "cell_type": "code",
   "execution_count": 85,
   "id": "f9a8f175-3a1b-4aaf-9a6a-c6804788311d",
   "metadata": {
    "tags": []
   },
   "outputs": [],
   "source": [
    "# Vi du\n",
    "\n",
    "def xinchao(name):\n",
    "    return 'Xin chào ' + name"
   ]
  },
  {
   "cell_type": "code",
   "execution_count": 86,
   "id": "a117f0c7-5729-4613-8402-e8350144b791",
   "metadata": {
    "tags": []
   },
   "outputs": [],
   "source": [
    "x = xinchao('Python course')"
   ]
  },
  {
   "cell_type": "code",
   "execution_count": 87,
   "id": "04e59183-c25e-455d-b1dd-0ad95784df54",
   "metadata": {
    "tags": []
   },
   "outputs": [
    {
     "name": "stdout",
     "output_type": "stream",
     "text": [
      "Xin chào Python course\n"
     ]
    }
   ],
   "source": [
    "print(x)"
   ]
  },
  {
   "cell_type": "markdown",
   "id": "09085320-86a6-4699-93f0-5812313a1780",
   "metadata": {},
   "source": [
    "Ở đây, giá trị **Python course** được truyền vào function xinchao thông qua biến *name*\n",
    "\n",
    "Keyword ```return``` là trả về cho mỗi lần gọi function"
   ]
  },
  {
   "cell_type": "code",
   "execution_count": 88,
   "id": "c687ebd2-2585-45bb-90a1-293418853fd1",
   "metadata": {
    "tags": []
   },
   "outputs": [
    {
     "name": "stdout",
     "output_type": "stream",
     "text": [
      "Xin chào Python course - Hello Python course\n"
     ]
    }
   ],
   "source": [
    "# Vi du 2\n",
    "\n",
    "def xinchao(name):\n",
    "    return 'Xin chào ' + name\n",
    "\n",
    "\n",
    "def hello(name):\n",
    "    return 'Hello ' + name\n",
    "\n",
    "x = xinchao('Python course')\n",
    "y = hello('Python course')\n",
    "\n",
    "print(x + ' - ' + y)"
   ]
  },
  {
   "cell_type": "markdown",
   "id": "2c7cd966-2cf7-41d4-95b5-b94534d87112",
   "metadata": {},
   "source": [
    "Trong đó, x nhận output từ xinchao(), y nhận output từ hello()"
   ]
  },
  {
   "cell_type": "markdown",
   "id": "fbc6226b-1461-4b4c-b049-ee3c78e683cf",
   "metadata": {},
   "source": [
    "### Global and Local variable"
   ]
  },
  {
   "cell_type": "markdown",
   "id": "b08137ab-b469-4479-9cca-98d52cdfe737",
   "metadata": {},
   "source": [
    "Khi làm việc với function, các bạn để ý đến tên biến có thể là \n",
    "- Global variable (sử dụng trong suốt quá trình chạy)\n",
    "- Local variable (chỉ sử dụng trong function)"
   ]
  },
  {
   "cell_type": "code",
   "execution_count": 89,
   "id": "ca4f4154-980a-4cb6-959d-5c574a9b60de",
   "metadata": {
    "tags": []
   },
   "outputs": [],
   "source": [
    "# Ví dụ ở đây, x được function kiemtra và hiểu nó được khai bao global\n",
    "\n",
    "x = 10 # global\n",
    "\n",
    "def kiemtra_global():\n",
    "    print(x)"
   ]
  },
  {
   "cell_type": "code",
   "execution_count": 90,
   "id": "fb511d5e-8384-4fae-8263-f11a806f52cb",
   "metadata": {
    "tags": []
   },
   "outputs": [
    {
     "name": "stdout",
     "output_type": "stream",
     "text": [
      "10\n"
     ]
    }
   ],
   "source": [
    "kiemtra_global()"
   ]
  },
  {
   "cell_type": "code",
   "execution_count": 91,
   "id": "e60cb071-1fc2-41a5-849c-46665fa5bd25",
   "metadata": {
    "tags": []
   },
   "outputs": [
    {
     "name": "stdout",
     "output_type": "stream",
     "text": [
      "10\n"
     ]
    }
   ],
   "source": [
    "# x vẫn là global nên sẽ có giá trị\n",
    "print(x)"
   ]
  },
  {
   "cell_type": "code",
   "execution_count": 94,
   "id": "b07eca58-71c3-411a-814f-b66f47f74840",
   "metadata": {
    "tags": []
   },
   "outputs": [],
   "source": [
    "# Ví dụ local\n",
    "\n",
    "def kiemtra_local():\n",
    "    l = 10\n",
    "    print(l)\n",
    "    \n",
    "def kiemtra_l_local():\n",
    "    print(l)"
   ]
  },
  {
   "cell_type": "code",
   "execution_count": 95,
   "id": "17bd0391-42ce-48b7-9d54-f382425f6b6a",
   "metadata": {
    "tags": []
   },
   "outputs": [
    {
     "name": "stdout",
     "output_type": "stream",
     "text": [
      "10\n"
     ]
    }
   ],
   "source": [
    "kiemtra_local()"
   ]
  },
  {
   "cell_type": "code",
   "execution_count": 96,
   "id": "7d6257ea-4e32-4e99-865b-d8221212ff1b",
   "metadata": {
    "tags": []
   },
   "outputs": [
    {
     "ename": "NameError",
     "evalue": "name 'l' is not defined",
     "output_type": "error",
     "traceback": [
      "\u001b[0;31m---------------------------------------------------------------------------\u001b[0m",
      "\u001b[0;31mNameError\u001b[0m                                 Traceback (most recent call last)",
      "Cell \u001b[0;32mIn[96], line 1\u001b[0m\n\u001b[0;32m----> 1\u001b[0m \u001b[43mkiemtra_l_local\u001b[49m\u001b[43m(\u001b[49m\u001b[43m)\u001b[49m\n",
      "Cell \u001b[0;32mIn[94], line 8\u001b[0m, in \u001b[0;36mkiemtra_l_local\u001b[0;34m()\u001b[0m\n\u001b[1;32m      7\u001b[0m \u001b[38;5;28;01mdef\u001b[39;00m \u001b[38;5;21mkiemtra_l_local\u001b[39m():\n\u001b[0;32m----> 8\u001b[0m     \u001b[38;5;28mprint\u001b[39m(\u001b[43ml\u001b[49m)\n",
      "\u001b[0;31mNameError\u001b[0m: name 'l' is not defined"
     ]
    }
   ],
   "source": [
    "kiemtra_l_local()"
   ]
  },
  {
   "cell_type": "markdown",
   "id": "c768a7cf-ca8d-42d2-bd2c-12b71aa16622",
   "metadata": {},
   "source": [
    "y ở đây là local nên trong nội bộ function kiemtra_local() thì function hiểu, nhưng sẽ xảy ra lỗi khai báo ở ngoài function"
   ]
  },
  {
   "cell_type": "code",
   "execution_count": 97,
   "id": "57015018-f765-40ca-9808-702e530caa2c",
   "metadata": {
    "tags": []
   },
   "outputs": [
    {
     "ename": "NameError",
     "evalue": "name 'l' is not defined",
     "output_type": "error",
     "traceback": [
      "\u001b[0;31m---------------------------------------------------------------------------\u001b[0m",
      "\u001b[0;31mNameError\u001b[0m                                 Traceback (most recent call last)",
      "Cell \u001b[0;32mIn[97], line 1\u001b[0m\n\u001b[0;32m----> 1\u001b[0m \u001b[43ml\u001b[49m\n",
      "\u001b[0;31mNameError\u001b[0m: name 'l' is not defined"
     ]
    }
   ],
   "source": [
    "l"
   ]
  },
  {
   "cell_type": "markdown",
   "id": "e8f94b87-90bf-4d05-bd2b-80404be4208b",
   "metadata": {},
   "source": [
    "y ở ngoài function Python ko hiểu vì local variable chỉ tồn tại trong function"
   ]
  },
  {
   "cell_type": "markdown",
   "id": "5c082db2-ac99-4840-a0dc-4fbdb420eb3e",
   "metadata": {},
   "source": [
    "## 6. File Handling"
   ]
  },
  {
   "cell_type": "markdown",
   "id": "6477aa3c-bc44-416f-a4f5-1d27bf040dd3",
   "metadata": {},
   "source": [
    "Vì sao lại có File Handling, đơn giản là vì chúng ta muốn lữu trữ dữ liệu từ RAM sang ổ cứng:\n",
    "\n",
    "- Python Kernel chạy và lưu trữ các giá trị của biến trên RAM\n",
    "- Do đó chúng ta cần 1 cách để sau khi tắt máy và mở lại, vẫn có thể đọc lại dữ liệu đó"
   ]
  },
  {
   "cell_type": "markdown",
   "id": "506fab37-084c-40d4-8bc9-8a489e7cedfb",
   "metadata": {
    "tags": []
   },
   "source": [
    "Section này chúng ta sẽ học cách đọc nội dung từ file và viết nội dung ra file \n",
    "\n",
    "Có hai cách để thực hành file handling, nhưng mình sẽ chỉ bạn cách đơn giản nhất\n",
    "\n",
    "Sử dụng với **with** để viết nội dung ra file"
   ]
  },
  {
   "cell_type": "code",
   "execution_count": 98,
   "id": "ee2f6786-a326-493f-8d77-b2d7109589ce",
   "metadata": {
    "tags": []
   },
   "outputs": [],
   "source": [
    "# f = open()\n",
    "# #\n",
    "# #\n",
    "# #\n",
    "# #\n",
    "# #\n",
    "# f.close()"
   ]
  },
  {
   "cell_type": "code",
   "execution_count": 99,
   "id": "652d2aeb-4c35-4635-9af3-45ba592ef39c",
   "metadata": {
    "tags": []
   },
   "outputs": [],
   "source": [
    "# Vi du ban co\n",
    "welcome_text = \"Xin chao den voi lop hoc Python Course 123\""
   ]
  },
  {
   "cell_type": "code",
   "execution_count": 101,
   "id": "8827e8af-65c8-4e04-99a2-7e05e6e8e2eb",
   "metadata": {
    "tags": []
   },
   "outputs": [],
   "source": [
    "# Write\n",
    "with open('filename1', 'w') as file:\n",
    "    file.writelines(welcome_text)"
   ]
  },
  {
   "cell_type": "markdown",
   "id": "168330ff-f482-408f-b324-95c8f624c5bc",
   "metadata": {},
   "source": [
    "Trong đó:\n",
    "- **open**: mở file lên để ghi hoặc đọc\n",
    "- **filename**: tên file mà mặc định jupyter notebook đang mở\n",
    "- **'w'**, 'a' or **'r'**: là chế độ mở file là write (ghi) hoặc read (đọc), append\n",
    "- **as file**: nghĩ là gán file object đó thành biến 'file'\n",
    "- **file.writelines**: là function viết nội dụng vào file\n",
    "\n",
    "Khi kết thúc xuống dòng thì file được tự ghi ra\n",
    "\n",
    "Đối với trường hợp read nội dung từ file"
   ]
  },
  {
   "cell_type": "code",
   "execution_count": 103,
   "id": "08b1eca2-1394-4243-bcf9-7e787ac0fedf",
   "metadata": {
    "tags": []
   },
   "outputs": [],
   "source": [
    "# ví dụ\n",
    "noidung = None"
   ]
  },
  {
   "cell_type": "code",
   "execution_count": 107,
   "id": "b97725a9-01a0-4c92-a626-62dc9d9132fc",
   "metadata": {
    "tags": []
   },
   "outputs": [],
   "source": [
    "noidung"
   ]
  },
  {
   "cell_type": "code",
   "execution_count": 112,
   "id": "df7d2d7e-4930-4840-b6a4-bd558024eed1",
   "metadata": {
    "tags": []
   },
   "outputs": [],
   "source": [
    "# biến noidung chưa có dữ liệu gì, giờ chúng ta sẽ đọc dữ liệu từ file\n",
    "with open('filename1', 'r') as f:\n",
    "    noidung = f.readlines()"
   ]
  },
  {
   "cell_type": "code",
   "execution_count": 113,
   "id": "91a972a7-c0a3-4788-b8b0-812f2f36e6c3",
   "metadata": {
    "tags": []
   },
   "outputs": [
    {
     "name": "stdout",
     "output_type": "stream",
     "text": [
      "['Xin chao den voi lop hoc Python Course 123\\n', '123\\n', '12345']\n",
      "<class 'list'>\n"
     ]
    }
   ],
   "source": [
    "print(noidung)\n",
    "print(type(noidung))"
   ]
  },
  {
   "cell_type": "markdown",
   "id": "0d5dfdd8-e407-4a65-85e1-2a6cdeb70ead",
   "metadata": {},
   "source": [
    "### Cast"
   ]
  },
  {
   "cell_type": "code",
   "execution_count": 114,
   "id": "15cac997-b18b-49c7-9bb8-77b1ef1b1131",
   "metadata": {
    "tags": []
   },
   "outputs": [
    {
     "ename": "TypeError",
     "evalue": "can only concatenate str (not \"int\") to str",
     "output_type": "error",
     "traceback": [
      "\u001b[0;31m---------------------------------------------------------------------------\u001b[0m",
      "\u001b[0;31mTypeError\u001b[0m                                 Traceback (most recent call last)",
      "Cell \u001b[0;32mIn[114], line 2\u001b[0m\n\u001b[1;32m      1\u001b[0m x \u001b[38;5;241m=\u001b[39m \u001b[38;5;124m'\u001b[39m\u001b[38;5;124m123\u001b[39m\u001b[38;5;124m'\u001b[39m\n\u001b[0;32m----> 2\u001b[0m \u001b[38;5;28mprint\u001b[39m(\u001b[43mx\u001b[49m\u001b[43m \u001b[49m\u001b[38;5;241;43m+\u001b[39;49m\u001b[43m \u001b[49m\u001b[38;5;241;43m2\u001b[39;49m)\n",
      "\u001b[0;31mTypeError\u001b[0m: can only concatenate str (not \"int\") to str"
     ]
    }
   ],
   "source": [
    "x = '123'\n",
    "print(x + 2)"
   ]
  },
  {
   "cell_type": "code",
   "execution_count": 115,
   "id": "ae47275f-bacd-4e54-a0f6-440095887e4c",
   "metadata": {
    "tags": []
   },
   "outputs": [
    {
     "name": "stdout",
     "output_type": "stream",
     "text": [
      "125\n"
     ]
    }
   ],
   "source": [
    "print(int(x) + 2)"
   ]
  },
  {
   "cell_type": "code",
   "execution_count": 174,
   "id": "e8bddc57-1819-47c3-9e9d-ffc06a1ec9ca",
   "metadata": {
    "tags": []
   },
   "outputs": [
    {
     "ename": "ValueError",
     "evalue": "invalid literal for int() with base 10: 'abc123'",
     "output_type": "error",
     "traceback": [
      "\u001b[0;31m---------------------------------------------------------------------------\u001b[0m",
      "\u001b[0;31mValueError\u001b[0m                                Traceback (most recent call last)",
      "Cell \u001b[0;32mIn[174], line 2\u001b[0m\n\u001b[1;32m      1\u001b[0m y \u001b[38;5;241m=\u001b[39m \u001b[38;5;124m'\u001b[39m\u001b[38;5;124mabc123\u001b[39m\u001b[38;5;124m'\u001b[39m\n\u001b[0;32m----> 2\u001b[0m \u001b[38;5;28mprint\u001b[39m(\u001b[38;5;28;43mint\u001b[39;49m\u001b[43m(\u001b[49m\u001b[43my\u001b[49m\u001b[43m)\u001b[49m)\n",
      "\u001b[0;31mValueError\u001b[0m: invalid literal for int() with base 10: 'abc123'"
     ]
    }
   ],
   "source": [
    "y = 'abc123'\n",
    "print(int(y))"
   ]
  },
  {
   "cell_type": "markdown",
   "id": "caa4c34a-7142-4ef9-9d94-935885688e9a",
   "metadata": {},
   "source": [
    "Bạn đã sử dụng mode read với **'r'** để đọc nội dung từ file lên\n",
    "\n",
    "f.readlines() trả về tất cả các dòng nội dung có trong file dạng list"
   ]
  },
  {
   "cell_type": "code",
   "execution_count": 117,
   "id": "be904a8d-a6b8-422f-8360-5333412321f0",
   "metadata": {
    "tags": []
   },
   "outputs": [
    {
     "name": "stdout",
     "output_type": "stream",
     "text": [
      "Xin chào đến với lớp học Python Course.\n",
      "Khóa này để bổ trợ kiến thức Python cho người mới bắt đầu\n"
     ]
    }
   ],
   "source": [
    "# Vi du 1 truong hop file có nhiều dòng hơn\n",
    "# Đầu tien tạo nội dung cho file\n",
    "text = \"Xin chào đến với lớp học Python Course.\\nKhóa này để bổ trợ kiến thức Python cho người mới bắt đầu\"\n",
    "print(text)"
   ]
  },
  {
   "cell_type": "markdown",
   "id": "795c8c86-be63-482f-b891-e0010abc87fd",
   "metadata": {},
   "source": [
    "Trong đó: ký hiệu **\\n** nghĩa là xuống dòng (line-break) trong python"
   ]
  },
  {
   "cell_type": "code",
   "execution_count": 118,
   "id": "2bfc83af-aa0b-421d-a79e-3ecf384be0bd",
   "metadata": {
    "tags": []
   },
   "outputs": [],
   "source": [
    "# Ghi nội dung mới với 2 dòng text xuống file, cách nhau bởi \\n\n",
    "with open('welcome', 'w') as file:\n",
    "    file.writelines(text)"
   ]
  },
  {
   "cell_type": "code",
   "execution_count": 119,
   "id": "c9b6c6d2-309d-4ade-9285-d4cac49619e1",
   "metadata": {
    "tags": []
   },
   "outputs": [
    {
     "name": "stdout",
     "output_type": "stream",
     "text": [
      "['Xin chào đến với lớp học Python Course.\\n', 'Khóa này để bổ trợ kiến thức Python cho người mới bắt đầu']\n"
     ]
    }
   ],
   "source": [
    "# Load lại nội dung file lên\n",
    "reload_text = None\n",
    "with open('welcome', 'r') as f:\n",
    "    reload_text = f.readlines()\n",
    "print(reload_text)"
   ]
  },
  {
   "cell_type": "markdown",
   "id": "fa99a84d-82ea-4d61-8df0-10f8976c5588",
   "metadata": {},
   "source": [
    "Như ban thấy kết quả trả về là 1 list, với 2 text\n",
    "\n",
    "Và đó là kiến thức về File Handling trong Python"
   ]
  },
  {
   "cell_type": "code",
   "execution_count": 120,
   "id": "89243e7b-4898-4290-9b0f-c41ec9d66e16",
   "metadata": {},
   "outputs": [
    {
     "ename": "TypeError",
     "evalue": "_modified_open() missing 1 required positional argument: 'file'",
     "output_type": "error",
     "traceback": [
      "\u001b[0;31m---------------------------------------------------------------------------\u001b[0m",
      "\u001b[0;31mTypeError\u001b[0m                                 Traceback (most recent call last)",
      "Cell \u001b[0;32mIn[120], line 2\u001b[0m\n\u001b[1;32m      1\u001b[0m \u001b[38;5;66;03m# Sử dụng open và close, ít xài hơn\u001b[39;00m\n\u001b[0;32m----> 2\u001b[0m f \u001b[38;5;241m=\u001b[39m \u001b[38;5;28;43mopen\u001b[39;49m\u001b[43m(\u001b[49m\u001b[43m)\u001b[49m\n\u001b[1;32m      3\u001b[0m \u001b[38;5;66;03m# calculate\u001b[39;00m\n\u001b[1;32m      4\u001b[0m f\u001b[38;5;241m.\u001b[39mclose()\n",
      "\u001b[0;31mTypeError\u001b[0m: _modified_open() missing 1 required positional argument: 'file'"
     ]
    }
   ],
   "source": [
    "# Sử dụng open và close, ít xài hơn\n",
    "f = open()\n",
    "# calculate\n",
    "f.close()"
   ]
  },
  {
   "cell_type": "markdown",
   "id": "5585d1b8-34ee-4e9c-bdca-f306a765f148",
   "metadata": {},
   "source": [
    "## 7. Exception Handling"
   ]
  },
  {
   "cell_type": "markdown",
   "id": "c5af5d66-fe59-442e-88bb-8cc91d0f01c5",
   "metadata": {},
   "source": [
    "Trong khi code, đôi khi bạn sẽ gặp những trường hợp mà bạn không muốn code báo lỗi. Vì nó sẽ dừng chương trình của mình. Bạn đang tìm kiếm 1 phương pháp mà có thể \"skip\" báo lỗi này để chương trình chạy của bạn không bị ngắt quãng. Thì chúng ta có thể sử dụng exception handling với cú pháp rất đơn giản"
   ]
  },
  {
   "cell_type": "markdown",
   "id": "d84d500a-0b46-42e0-8059-e9f1f0d81824",
   "metadata": {},
   "source": [
    "```python\n",
    "try:\n",
    "    somethingA\n",
    "except Exception as e:\n",
    "    # error-happened-so-continue-run-here\n",
    "    somethingB\n",
    "```"
   ]
  },
  {
   "cell_type": "markdown",
   "id": "1b264486-1ffa-4d11-b5c7-60aac65dba8d",
   "metadata": {
    "tags": []
   },
   "source": [
    "Dịch ra rất tường minh là: \"cố gắng thử chạy code A, ngoại trừ A lỗi thì chạy code B tiếp tục chỗ A bị lỗi\""
   ]
  },
  {
   "cell_type": "code",
   "execution_count": 127,
   "id": "d4b13079-78c8-44b4-92fb-671c23138304",
   "metadata": {
    "tags": []
   },
   "outputs": [
    {
     "name": "stdout",
     "output_type": "stream",
     "text": [
      "2\n",
      "0.6666666666666666\n",
      "c chia 0 kìa\n"
     ]
    }
   ],
   "source": [
    "# Vi du\n",
    "try:\n",
    "    a = 1 + 1\n",
    "    print(a)\n",
    "    b = 2 / 3\n",
    "    print(b)\n",
    "    c = 9 / 0\n",
    "    print(c)\n",
    "except Exception as e:\n",
    "    c = \"c chia 0 kìa\"\n",
    "    print(c)"
   ]
  },
  {
   "cell_type": "code",
   "execution_count": 122,
   "id": "03e7286a-19f0-452a-bdd6-ca5fd323ebbb",
   "metadata": {
    "tags": []
   },
   "outputs": [
    {
     "name": "stdout",
     "output_type": "stream",
     "text": [
      "2\n",
      "0.6666666666666666\n"
     ]
    },
    {
     "ename": "ZeroDivisionError",
     "evalue": "division by zero",
     "output_type": "error",
     "traceback": [
      "\u001b[0;31m---------------------------------------------------------------------------\u001b[0m",
      "\u001b[0;31mZeroDivisionError\u001b[0m                         Traceback (most recent call last)",
      "Cell \u001b[0;32mIn[122], line 5\u001b[0m\n\u001b[1;32m      3\u001b[0m b \u001b[38;5;241m=\u001b[39m \u001b[38;5;241m2\u001b[39m \u001b[38;5;241m/\u001b[39m \u001b[38;5;241m3\u001b[39m\n\u001b[1;32m      4\u001b[0m \u001b[38;5;28mprint\u001b[39m(b)\n\u001b[0;32m----> 5\u001b[0m c \u001b[38;5;241m=\u001b[39m \u001b[38;5;241;43m9\u001b[39;49m\u001b[43m \u001b[49m\u001b[38;5;241;43m/\u001b[39;49m\u001b[43m \u001b[49m\u001b[38;5;241;43m0\u001b[39;49m\n\u001b[1;32m      6\u001b[0m \u001b[38;5;28mprint\u001b[39m(c)\n",
      "\u001b[0;31mZeroDivisionError\u001b[0m: division by zero"
     ]
    }
   ],
   "source": [
    "a = 1 + 1\n",
    "print(a)\n",
    "b = 2 / 3\n",
    "print(b)\n",
    "c = 9 / 0\n",
    "print(c)"
   ]
  },
  {
   "cell_type": "markdown",
   "id": "f6c61803-5134-4297-863e-d48acdd6371f",
   "metadata": {},
   "source": [
    "Bạn có thể thấy, dòng code tính a,b chạy bình thường nhưng tới c chia cho 0 thì lỗi. Và chương trình ko báo lỗi như ví dụ đầu mà nhảy xuống dòng code except với c = 'c chia 0 kìa'"
   ]
  },
  {
   "cell_type": "code",
   "execution_count": null,
   "id": "bd8e665e-6b39-487a-b4b3-b22cb9f92db8",
   "metadata": {},
   "outputs": [],
   "source": []
  },
  {
   "cell_type": "markdown",
   "id": "f827b2a5-d447-40c6-9599-37da993a3892",
   "metadata": {},
   "source": [
    "Khá đơn giản đúng ko?\n",
    "\n",
    "Và đó là nội dung kiến thức Python cho beginner. Sau đây là hand-on để ôn lại những gì bạn đã học"
   ]
  },
  {
   "cell_type": "markdown",
   "id": "70063648-6a67-4c82-923f-5f9d360a56af",
   "metadata": {},
   "source": [
    "## Hand-on"
   ]
  },
  {
   "cell_type": "markdown",
   "id": "ef7b882a-c97c-4906-b914-9eea0d2beb8a",
   "metadata": {},
   "source": [
    "### Đề bài\n",
    "\n",
    "Viết một chương trình Python để tính tổng của tất cả các số chẵn từ 1 đến một số nguyên dương N do người dùng nhập vào. Và viết kết quả ra file python_beginner.txt\n",
    "\n",
    "Hướng dẫn:\n",
    "\n",
    "- Nhập số nguyên dương N từ người dùng.\n",
    "\n",
    "- Sử dụng một vòng lặp để duyệt qua các số từ 1 đến N.\n",
    "\n",
    "- Trong vòng lặp, kiểm tra mỗi số xem có phải là số chẵn hay không.\n",
    "\n",
    "- Nếu số đó là số chẵn, hãy cộng nó vào tổng.\n",
    "\n",
    "- Sau khi vòng lặp kết thúc, in ra tổng của các số chẵn từ 1 đến N.\n",
    "\n",
    "- Đồng thời ghi kết quả cuối cùng vào file python_beginner.txt (lưu ý: khi tính tổng xong bạn sử dụng **str(ketqua)** để ghi vào file)\n"
   ]
  },
  {
   "cell_type": "code",
   "execution_count": 38,
   "id": "ffd2acd2-953f-46e2-b8f1-c8571c5533e2",
   "metadata": {},
   "outputs": [],
   "source": [
    "## START_CODE_HERE (no limit lines of code)\n",
    "\n",
    "\n",
    "## END_CODE_HERE"
   ]
  },
  {
   "cell_type": "markdown",
   "id": "0673397c-78dd-4377-9e1c-153188a671c8",
   "metadata": {
    "jp-MarkdownHeadingCollapsed": true,
    "tags": []
   },
   "source": [
    "Trước khi coi lời giải ở dưới bạn hãy tự code trước nhé"
   ]
  },
  {
   "cell_type": "markdown",
   "id": "d0c3e04a-db5d-4be8-a401-cbaa700c0a75",
   "metadata": {
    "jp-MarkdownHeadingCollapsed": true,
    "tags": []
   },
   "source": [
    "### Lời giải"
   ]
  },
  {
   "cell_type": "code",
   "execution_count": 37,
   "id": "bab4f0de-29b0-447a-b39e-b1b3cbebc498",
   "metadata": {
    "tags": []
   },
   "outputs": [
    {
     "name": "stdin",
     "output_type": "stream",
     "text": [
      "Nhập một số nguyên dương N:  9\n"
     ]
    },
    {
     "name": "stdout",
     "output_type": "stream",
     "text": [
      "Tổng của các số chẵn từ 1 đến 9 là: 20\n"
     ]
    }
   ],
   "source": [
    "def sum_of_even_numbers(N):\n",
    "    total = 0\n",
    "    for num in range(1, N + 1):\n",
    "        if num % 2 == 0:\n",
    "            total += num\n",
    "    return total\n",
    "\n",
    "def write_to_file(result):\n",
    "    with open('python_beginner.txt','w') as f:\n",
    "        f.writelines(str(result))\n",
    "\n",
    "try:\n",
    "    N = int(input(\"Nhập một số nguyên dương N: \"))\n",
    "    if N <= 0:\n",
    "        print(\"Vui lòng nhập một số nguyên dương.\")\n",
    "    else:\n",
    "        result = sum_of_even_numbers(N)\n",
    "        print(f\"Tổng của các số chẵn từ 1 đến {N} là: {result}\")\n",
    "        write_to_file(result)\n",
    "except ValueError:\n",
    "    print(\"Vui lòng nhập một số nguyên dương.\")\n"
   ]
  },
  {
   "cell_type": "markdown",
   "id": "bba56500-06ec-40d0-950e-c638973dddff",
   "metadata": {},
   "source": [
    "# Congratulation"
   ]
  },
  {
   "cell_type": "markdown",
   "id": "116842bb-3e2a-4246-bc16-49f8efd4d508",
   "metadata": {},
   "source": [
    "Chúng ta đã trải qua kiến thức Python cho người mới bắt đầu. \n",
    "\n",
    "Giờ thì bạn đã có thể code ra 1 chương trình chạy bằng Python hạng xịn rồi.\n",
    "\n",
    "Hẹn gặp bạn ở buổi sau, chúng ta sẽ đi qua SQL for beginner"
   ]
  },
  {
   "cell_type": "code",
   "execution_count": null,
   "id": "34ee2954-7a13-46d0-aeea-b47f8322a1f4",
   "metadata": {},
   "outputs": [],
   "source": []
  }
 ],
 "metadata": {
  "kernelspec": {
   "display_name": "Python 3 (ipykernel)",
   "language": "python",
   "name": "python3"
  },
  "language_info": {
   "codemirror_mode": {
    "name": "ipython",
    "version": 3
   },
   "file_extension": ".py",
   "mimetype": "text/x-python",
   "name": "python",
   "nbconvert_exporter": "python",
   "pygments_lexer": "ipython3",
   "version": "3.9.12"
  }
 },
 "nbformat": 4,
 "nbformat_minor": 5
}
