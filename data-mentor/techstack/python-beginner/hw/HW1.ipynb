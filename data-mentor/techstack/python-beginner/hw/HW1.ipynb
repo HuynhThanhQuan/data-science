{
 "cells": [
  {
   "cell_type": "markdown",
   "id": "6eb07186-e7ff-4963-8559-e61b26a996aa",
   "metadata": {},
   "source": [
    "# Đề bài"
   ]
  },
  {
   "cell_type": "markdown",
   "id": "56bc7586-df7f-4602-9b30-8e5bc2783cd8",
   "metadata": {},
   "source": [
    "Bài tập này yêu cầu viết một chương trình để tìm các số nguyên tố trong một khoảng số được cung cấp.\n",
    "\n",
    "\n",
    "Hướng dẫn:\n",
    "\n",
    "- Chương trình yêu cầu người dùng nhập vào một khoảng số bắt đầu và số kết thúc.\n",
    "\n",
    "- Chương trình sử dụng hàm is_prime() để kiểm tra xem một số có phải là số nguyên tố hay không.\n",
    "\n",
    "- Hàm find_primes_in_range() tìm và trả về danh sách các số nguyên tố trong khoảng đã cho.\n",
    "\n",
    "- Nếu tìm thấy số nguyên tố trong khoảng, chương trình sẽ in danh sách các số nguyên tố đó. \n",
    "\n",
    "- Nếu không, chương trình sẽ thông báo không tìm thấy số nguyên tố nào trong khoảng."
   ]
  },
  {
   "cell_type": "code",
   "execution_count": null,
   "id": "a1bd3afb-55e8-4d43-bafa-2ca464739020",
   "metadata": {},
   "outputs": [],
   "source": []
  },
  {
   "cell_type": "markdown",
   "id": "d6824d8f-1c8e-4ab6-9609-0e793c309fd2",
   "metadata": {
    "jp-MarkdownHeadingCollapsed": true,
    "tags": []
   },
   "source": [
    "# Hướng dẫn"
   ]
  },
  {
   "cell_type": "code",
   "execution_count": 2,
   "id": "8a50d44b-5d3b-4683-a60a-2db45db9f034",
   "metadata": {},
   "outputs": [
    {
     "name": "stdin",
     "output_type": "stream",
     "text": [
      "Nhập số bắt đầu của khoảng:  1\n",
      "Nhập số kết thúc của khoảng:  10\n"
     ]
    },
    {
     "name": "stdout",
     "output_type": "stream",
     "text": [
      "Các số nguyên tố trong khoảng từ 1 đến 10 là:\n",
      "[2, 3, 5, 7]\n"
     ]
    }
   ],
   "source": [
    "def is_prime(number):\n",
    "    if number <= 1:\n",
    "        return False\n",
    "    for i in range(2, int(number**0.5) + 1):\n",
    "        if number % i == 0:\n",
    "            return False\n",
    "    return True\n",
    "\n",
    "def find_primes_in_range(start, end):\n",
    "    primes = []\n",
    "    for num in range(start, end + 1):\n",
    "        if is_prime(num):\n",
    "            primes.append(num)\n",
    "    return primes\n",
    "\n",
    "def main():\n",
    "    try:\n",
    "        start_range = int(input(\"Nhập số bắt đầu của khoảng: \"))\n",
    "        end_range = int(input(\"Nhập số kết thúc của khoảng: \"))\n",
    "        if start_range >= end_range:\n",
    "            print(\"Khoảng số không hợp lệ. Số bắt đầu phải nhỏ hơn số kết thúc.\")\n",
    "            return\n",
    "\n",
    "        primes_in_range = find_primes_in_range(start_range, end_range)\n",
    "        if primes_in_range:\n",
    "            print(f\"Các số nguyên tố trong khoảng từ {start_range} đến {end_range} là:\")\n",
    "            print(primes_in_range)\n",
    "        else:\n",
    "            print(f\"Không tìm thấy số nguyên tố trong khoảng từ {start_range} đến {end_range}.\")\n",
    "    except ValueError:\n",
    "        print(\"Vui lòng chỉ nhập các số nguyên hợp lệ.\")\n",
    "\n",
    "if __name__ == \"__main__\":\n",
    "    main()"
   ]
  },
  {
   "cell_type": "code",
   "execution_count": null,
   "id": "484a9ed8-9b44-43f0-96e5-ed05f6c141c3",
   "metadata": {},
   "outputs": [],
   "source": []
  }
 ],
 "metadata": {
  "kernelspec": {
   "display_name": "Python [conda env:aicv]",
   "language": "python",
   "name": "conda-env-aicv-py"
  },
  "language_info": {
   "codemirror_mode": {
    "name": "ipython",
    "version": 3
   },
   "file_extension": ".py",
   "mimetype": "text/x-python",
   "name": "python",
   "nbconvert_exporter": "python",
   "pygments_lexer": "ipython3",
   "version": "3.10.10"
  }
 },
 "nbformat": 4,
 "nbformat_minor": 5
}
