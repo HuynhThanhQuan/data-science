{
 "cells": [
  {
   "cell_type": "markdown",
   "id": "3c12a8d3-e6a7-4e6f-bbb7-7397481d52b9",
   "metadata": {},
   "source": [
    "# Đề bài"
   ]
  },
  {
   "cell_type": "markdown",
   "id": "5daa005a-fb62-4f01-a458-8d686b4099af",
   "metadata": {},
   "source": [
    "Bài tập này yêu cầu viết một chương trình để tính giai thừa của một số nguyên dương nhập từ người dùng.\n",
    "\n",
    "\n",
    "Hướng dẫn:\n",
    "\n",
    "- Chương trình yêu cầu người dùng nhập vào một số nguyên dương.\n",
    "\n",
    "- Hàm factorial(n) tính giai thừa của số n bằng cách sử dụng đệ quy. Giai thừa của 0 là 1.\n",
    "\n",
    "- Nếu số nhập vào là số âm, chương trình sẽ hiển thị thông báo lỗi.\n",
    "\n",
    "- Kết quả giai thừa sẽ được in ra màn hình.\n"
   ]
  },
  {
   "cell_type": "markdown",
   "id": "2d498f14-244f-4c7d-aad8-c081b0b348dc",
   "metadata": {
    "jp-MarkdownHeadingCollapsed": true,
    "tags": []
   },
   "source": [
    "# Hướng dẫn"
   ]
  },
  {
   "cell_type": "code",
   "execution_count": 1,
   "id": "d34d1785-9a3c-4709-84bf-57841c3f1385",
   "metadata": {
    "tags": []
   },
   "outputs": [
    {
     "name": "stdin",
     "output_type": "stream",
     "text": [
      "Nhập một số nguyên dương:  10\n"
     ]
    },
    {
     "name": "stdout",
     "output_type": "stream",
     "text": [
      "Giai thừa của 10 là: 3628800\n"
     ]
    }
   ],
   "source": [
    "def factorial(n):\n",
    "    if n == 0:\n",
    "        return 1\n",
    "    else:\n",
    "        return n * factorial(n - 1)\n",
    "\n",
    "def main():\n",
    "    try:\n",
    "        num = int(input(\"Nhập một số nguyên dương: \"))\n",
    "        if num < 0:\n",
    "            print(\"Vui lòng chỉ nhập một số nguyên dương.\")\n",
    "        else:\n",
    "            result = factorial(num)\n",
    "            print(f\"Giai thừa của {num} là: {result}\")\n",
    "    except ValueError:\n",
    "        print(\"Vui lòng chỉ nhập một số nguyên.\")\n",
    "\n",
    "if __name__ == \"__main__\":\n",
    "    main()"
   ]
  },
  {
   "cell_type": "code",
   "execution_count": null,
   "id": "a726fd37-fcc8-485f-a368-d456d75f9218",
   "metadata": {},
   "outputs": [],
   "source": []
  }
 ],
 "metadata": {
  "kernelspec": {
   "display_name": "Python [conda env:aicv]",
   "language": "python",
   "name": "conda-env-aicv-py"
  },
  "language_info": {
   "codemirror_mode": {
    "name": "ipython",
    "version": 3
   },
   "file_extension": ".py",
   "mimetype": "text/x-python",
   "name": "python",
   "nbconvert_exporter": "python",
   "pygments_lexer": "ipython3",
   "version": "3.10.10"
  }
 },
 "nbformat": 4,
 "nbformat_minor": 5
}
