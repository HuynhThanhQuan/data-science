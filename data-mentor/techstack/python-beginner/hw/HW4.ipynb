{
 "cells": [
  {
   "cell_type": "markdown",
   "id": "3c12a8d3-e6a7-4e6f-bbb7-7397481d52b9",
   "metadata": {},
   "source": [
    "# Đề bài"
   ]
  },
  {
   "cell_type": "markdown",
   "id": "5daa005a-fb62-4f01-a458-8d686b4099af",
   "metadata": {},
   "source": [
    "Bài tập này yêu cầu viết chương trình để tính số Fibonacci thứ n trong dãy Fibonacci. Dãy Fibonacci là một dãy số trong đó số tiếp theo trong dãy là tổng của hai số trước nó, bắt đầu bằng hai số 0 và 1.\n",
    "\n",
    "\n",
    "Hướng dẫn:\n",
    "\n",
    "- Chương trình yêu cầu người dùng nhập số n, đại diện cho vị trí trong dãy Fibonacci mà chúng ta muốn tính.\n",
    "\n",
    "- Hàm fibonacci(n) tính số Fibonacci thứ n trong dãy bằng cách sử dụng vòng lặp for và hai biến prev và current để lưu giữ các số trước đó trong dãy.\n",
    "\n",
    "- Chương trình in ra số Fibonacci thứ n.\n"
   ]
  },
  {
   "cell_type": "markdown",
   "id": "2d498f14-244f-4c7d-aad8-c081b0b348dc",
   "metadata": {
    "jp-MarkdownHeadingCollapsed": true,
    "tags": []
   },
   "source": [
    "# Hướng dẫn"
   ]
  },
  {
   "cell_type": "code",
   "execution_count": 1,
   "id": "d34d1785-9a3c-4709-84bf-57841c3f1385",
   "metadata": {
    "tags": []
   },
   "outputs": [
    {
     "name": "stdin",
     "output_type": "stream",
     "text": [
      "Nhập số n:  10\n"
     ]
    },
    {
     "name": "stdout",
     "output_type": "stream",
     "text": [
      "Số Fibonacci thứ 10 là: 34\n"
     ]
    }
   ],
   "source": [
    "def fibonacci(n):\n",
    "    if n <= 0:\n",
    "        return \"Vui lòng nhập một số nguyên dương lớn hơn 0.\"\n",
    "    elif n == 1:\n",
    "        return 0\n",
    "    elif n == 2:\n",
    "        return 1\n",
    "    else:\n",
    "        prev, current = 0, 1\n",
    "        for _ in range(2, n):\n",
    "            prev, current = current, prev + current\n",
    "        return current\n",
    "\n",
    "def main():\n",
    "    try:\n",
    "        n = int(input(\"Nhập số n: \"))\n",
    "        result = fibonacci(n)\n",
    "        print(f\"Số Fibonacci thứ {n} là: {result}\")\n",
    "    except ValueError:\n",
    "        print(\"Vui lòng chỉ nhập một số nguyên.\")\n",
    "\n",
    "if __name__ == \"__main__\":\n",
    "    main()"
   ]
  },
  {
   "cell_type": "code",
   "execution_count": null,
   "id": "a726fd37-fcc8-485f-a368-d456d75f9218",
   "metadata": {},
   "outputs": [],
   "source": []
  }
 ],
 "metadata": {
  "kernelspec": {
   "display_name": "Python [conda env:aicv]",
   "language": "python",
   "name": "conda-env-aicv-py"
  },
  "language_info": {
   "codemirror_mode": {
    "name": "ipython",
    "version": 3
   },
   "file_extension": ".py",
   "mimetype": "text/x-python",
   "name": "python",
   "nbconvert_exporter": "python",
   "pygments_lexer": "ipython3",
   "version": "3.10.10"
  }
 },
 "nbformat": 4,
 "nbformat_minor": 5
}
