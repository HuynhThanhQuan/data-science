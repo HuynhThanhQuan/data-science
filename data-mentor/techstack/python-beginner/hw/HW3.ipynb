{
 "cells": [
  {
   "cell_type": "markdown",
   "id": "3c12a8d3-e6a7-4e6f-bbb7-7397481d52b9",
   "metadata": {},
   "source": [
    "# Đề bài"
   ]
  },
  {
   "cell_type": "markdown",
   "id": "5daa005a-fb62-4f01-a458-8d686b4099af",
   "metadata": {},
   "source": [
    "Bài tập này yêu cầu viết một chương trình để tạo một từ điển danh sách mua hàng. Người dùng có thể thêm mặt hàng và số lượng vào danh sách mua hàng và sau đó hiển thị danh sách mua hàng.\n",
    "\n",
    "\n",
    "Hướng dẫn:\n",
    "\n",
    "- Chương trình sẽ chạy một vòng lặp vô hạn, cho phép người dùng chọn các tùy chọn từ menu.\n",
    "\n",
    "- Người dùng có thể chọn hiển thị danh sách mua hàng, thêm mặt hàng mới vào danh sách hoặc thoát khỏi chương trình.\n",
    "\n",
    "- Khi người dùng chọn \"Hiển thị danh sách mua hàng,\" chương trình sẽ in danh sách các mặt hàng và số lượng tương ứng trong danh sách mua hàng.\n",
    "\n",
    "- Khi người dùng chọn \"Thêm mặt hàng vào danh sách,\" họ sẽ nhập tên mặt hàng và số lượng. Chương trình sẽ thêm mặt hàng và số lượng này vào danh sách mua hàng.\n",
    "\n",
    "- Nếu người dùng chọn \"Thoát chương trình,\" chương trình sẽ in ra danh sách mua hàng cuối cùng trước khi dừng và kết thúc.\n",
    "\n",
    "\n",
    "\n"
   ]
  },
  {
   "cell_type": "markdown",
   "id": "2d498f14-244f-4c7d-aad8-c081b0b348dc",
   "metadata": {
    "jp-MarkdownHeadingCollapsed": true,
    "tags": []
   },
   "source": [
    "# Hướng dẫn"
   ]
  },
  {
   "cell_type": "code",
   "execution_count": null,
   "id": "d34d1785-9a3c-4709-84bf-57841c3f1385",
   "metadata": {
    "tags": []
   },
   "outputs": [
    {
     "name": "stdout",
     "output_type": "stream",
     "text": [
      "\n",
      "====== Trình quản lý Danh sách mua hàng ======\n",
      "1. Hiển thị danh sách mua hàng\n",
      "2. Thêm mặt hàng vào danh sách\n",
      "3. Thoát chương trình\n"
     ]
    },
    {
     "name": "stdin",
     "output_type": "stream",
     "text": [
      "Nhập lựa chọn của bạn (1/2/3):  2\n",
      "Nhập tên mặt hàng:  Abc\n",
      "Nhập số lượng:  10\n"
     ]
    },
    {
     "name": "stdout",
     "output_type": "stream",
     "text": [
      "Đã thêm 10 Abc vào danh sách mua hàng.\n",
      "\n",
      "====== Trình quản lý Danh sách mua hàng ======\n",
      "1. Hiển thị danh sách mua hàng\n",
      "2. Thêm mặt hàng vào danh sách\n",
      "3. Thoát chương trình\n"
     ]
    },
    {
     "name": "stdin",
     "output_type": "stream",
     "text": [
      "Nhập lựa chọn của bạn (1/2/3):  1\n"
     ]
    },
    {
     "name": "stdout",
     "output_type": "stream",
     "text": [
      "Danh sách mua hàng:\n",
      "Abc: 10\n",
      "\n",
      "====== Trình quản lý Danh sách mua hàng ======\n",
      "1. Hiển thị danh sách mua hàng\n",
      "2. Thêm mặt hàng vào danh sách\n",
      "3. Thoát chương trình\n"
     ]
    }
   ],
   "source": [
    "def add_item(shopping_list, item, quantity):\n",
    "    shopping_list[item] = shopping_list.get(item, 0) + quantity\n",
    "\n",
    "def display_shopping_list(shopping_list):\n",
    "    print(\"Danh sách mua hàng:\")\n",
    "    for item, quantity in shopping_list.items():\n",
    "        print(f\"{item}: {quantity}\")\n",
    "\n",
    "def main():\n",
    "    shopping_list = {}\n",
    "\n",
    "    while True:\n",
    "        print(\"\\n====== Trình quản lý Danh sách mua hàng ======\")\n",
    "        print(\"1. Hiển thị danh sách mua hàng\")\n",
    "        print(\"2. Thêm mặt hàng vào danh sách\")\n",
    "        print(\"3. Thoát chương trình\")\n",
    "\n",
    "        choice = input(\"Nhập lựa chọn của bạn (1/2/3): \")\n",
    "\n",
    "        if choice == \"1\":\n",
    "            display_shopping_list(shopping_list)\n",
    "        elif choice == \"2\":\n",
    "            item = input(\"Nhập tên mặt hàng: \")\n",
    "            quantity = int(input(\"Nhập số lượng: \"))\n",
    "            add_item(shopping_list, item, quantity)\n",
    "            print(f\"Đã thêm {quantity} {item} vào danh sách mua hàng.\")\n",
    "        elif choice == \"3\":\n",
    "            print(\"Danh sách mua hàng của bạn:\")\n",
    "            display_shopping_list(shopping_list)\n",
    "            print(\"Cám ơn bạn đã sử dụng Trình quản lý Danh sách mua hàng. Tạm biệt!\")\n",
    "            break\n",
    "        else:\n",
    "            print(\"Lựa chọn không hợp lệ. Vui lòng chọn lại.\")\n",
    "\n",
    "if __name__ == \"__main__\":\n",
    "    main()"
   ]
  },
  {
   "cell_type": "code",
   "execution_count": null,
   "id": "a726fd37-fcc8-485f-a368-d456d75f9218",
   "metadata": {},
   "outputs": [],
   "source": []
  }
 ],
 "metadata": {
  "kernelspec": {
   "display_name": "Python [conda env:aicv]",
   "language": "python",
   "name": "conda-env-aicv-py"
  },
  "language_info": {
   "codemirror_mode": {
    "name": "ipython",
    "version": 3
   },
   "file_extension": ".py",
   "mimetype": "text/x-python",
   "name": "python",
   "nbconvert_exporter": "python",
   "pygments_lexer": "ipython3",
   "version": "3.10.10"
  }
 },
 "nbformat": 4,
 "nbformat_minor": 5
}
