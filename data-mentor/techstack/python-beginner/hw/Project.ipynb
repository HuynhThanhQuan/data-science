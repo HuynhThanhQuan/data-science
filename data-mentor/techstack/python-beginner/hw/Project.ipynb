{
 "cells": [
  {
   "cell_type": "markdown",
   "id": "3c12a8d3-e6a7-4e6f-bbb7-7397481d52b9",
   "metadata": {},
   "source": [
    "# Đề bài"
   ]
  },
  {
   "cell_type": "markdown",
   "id": "4a10ddcd-2c02-4162-bd36-ed01567eb4ae",
   "metadata": {},
   "source": [
    "\"Quản lý danh sách công việc\".\n",
    "\n",
    "Mô tả dự án:\n",
    "Dự án này là một ứng dụng dòng lệnh cho phép người dùng thêm, hiển thị và xóa các công việc từ danh sách công việc. Công việc sẽ được lưu trữ trong một tệp văn bản."
   ]
  },
  {
   "cell_type": "markdown",
   "id": "6ea9477b-70b8-4b64-8d73-6d8f9ebaf38a",
   "metadata": {},
   "source": [
    "Chức năng:\n",
    "\n",
    "- Thêm công việc: Người dùng nhập một công việc mới, sau đó công việc này sẽ được thêm vào danh sách công việc.\n",
    "\n",
    "- Hiển thị công việc: Người dùng có thể xem danh sách công việc đã được thêm vào.\n",
    "\n",
    "- Xóa công việc: Người dùng có thể chọn xóa một công việc từ danh sách."
   ]
  },
  {
   "cell_type": "markdown",
   "id": "d018f247-6925-485b-8ad2-429db4edb16b",
   "metadata": {
    "tags": []
   },
   "source": [
    "Hướng dẫn:\n",
    "\n",
    "- Danh sách công việc sẽ được lưu trữ trong một danh sách Python.\n",
    "\n",
    "- Chương trình sử dụng các hàm để thêm công việc mới, hiển thị danh sách công việc và xóa công việc khỏi danh sách.\n",
    "\n",
    "- Danh sách công việc cũng sẽ được lưu xuống tệp văn bản tasks.txt khi người dùng chọn thoát khỏi ứng dụng."
   ]
  },
  {
   "cell_type": "markdown",
   "id": "2d498f14-244f-4c7d-aad8-c081b0b348dc",
   "metadata": {
    "jp-MarkdownHeadingCollapsed": true,
    "tags": []
   },
   "source": [
    "# Hướng dẫn"
   ]
  },
  {
   "cell_type": "code",
   "execution_count": 2,
   "id": "d34d1785-9a3c-4709-84bf-57841c3f1385",
   "metadata": {
    "tags": []
   },
   "outputs": [
    {
     "name": "stdout",
     "output_type": "stream",
     "text": [
      "\n",
      "===== Quản lý danh sách công việc =====\n",
      "1. Thêm công việc\n",
      "2. Hiển thị công việc\n",
      "3. Xóa công việc\n",
      "4. Lưu và thoát\n"
     ]
    },
    {
     "name": "stdin",
     "output_type": "stream",
     "text": [
      "Nhập lựa chọn của bạn (1/2/3/4):  1\n",
      "Nhập công việc mới:  Search\n"
     ]
    },
    {
     "name": "stdout",
     "output_type": "stream",
     "text": [
      "\n",
      "===== Quản lý danh sách công việc =====\n",
      "1. Thêm công việc\n",
      "2. Hiển thị công việc\n",
      "3. Xóa công việc\n",
      "4. Lưu và thoát\n"
     ]
    },
    {
     "name": "stdin",
     "output_type": "stream",
     "text": [
      "Nhập lựa chọn của bạn (1/2/3/4):  1\n",
      "Nhập công việc mới:  Analyze\n"
     ]
    },
    {
     "name": "stdout",
     "output_type": "stream",
     "text": [
      "\n",
      "===== Quản lý danh sách công việc =====\n",
      "1. Thêm công việc\n",
      "2. Hiển thị công việc\n",
      "3. Xóa công việc\n",
      "4. Lưu và thoát\n"
     ]
    },
    {
     "name": "stdin",
     "output_type": "stream",
     "text": [
      "Nhập lựa chọn của bạn (1/2/3/4):  2\n"
     ]
    },
    {
     "name": "stdout",
     "output_type": "stream",
     "text": [
      "Danh sách công việc:\n",
      "1. Search\n",
      "2. Analyze\n",
      "\n",
      "===== Quản lý danh sách công việc =====\n",
      "1. Thêm công việc\n",
      "2. Hiển thị công việc\n",
      "3. Xóa công việc\n",
      "4. Lưu và thoát\n"
     ]
    },
    {
     "name": "stdin",
     "output_type": "stream",
     "text": [
      "Nhập lựa chọn của bạn (1/2/3/4):  3\n",
      "Nhập số thứ tự công việc cần xóa:  1\n"
     ]
    },
    {
     "name": "stdout",
     "output_type": "stream",
     "text": [
      "Công việc 'Search' đã được xóa khỏi danh sách.\n",
      "\n",
      "===== Quản lý danh sách công việc =====\n",
      "1. Thêm công việc\n",
      "2. Hiển thị công việc\n",
      "3. Xóa công việc\n",
      "4. Lưu và thoát\n"
     ]
    },
    {
     "name": "stdin",
     "output_type": "stream",
     "text": [
      "Nhập lựa chọn của bạn (1/2/3/4):  3\n",
      "Nhập số thứ tự công việc cần xóa:  0\n"
     ]
    },
    {
     "name": "stdout",
     "output_type": "stream",
     "text": [
      "Số thứ tự công việc không hợp lệ.\n",
      "\n",
      "===== Quản lý danh sách công việc =====\n",
      "1. Thêm công việc\n",
      "2. Hiển thị công việc\n",
      "3. Xóa công việc\n",
      "4. Lưu và thoát\n"
     ]
    },
    {
     "name": "stdin",
     "output_type": "stream",
     "text": [
      "Nhập lựa chọn của bạn (1/2/3/4):  2\n"
     ]
    },
    {
     "name": "stdout",
     "output_type": "stream",
     "text": [
      "Danh sách công việc:\n",
      "1. Analyze\n",
      "\n",
      "===== Quản lý danh sách công việc =====\n",
      "1. Thêm công việc\n",
      "2. Hiển thị công việc\n",
      "3. Xóa công việc\n",
      "4. Lưu và thoát\n"
     ]
    },
    {
     "name": "stdin",
     "output_type": "stream",
     "text": [
      "Nhập lựa chọn của bạn (1/2/3/4):  4\n"
     ]
    },
    {
     "name": "stdout",
     "output_type": "stream",
     "text": [
      "Danh sách công việc đã được lưu vào tệp.\n"
     ]
    }
   ],
   "source": [
    "import os\n",
    "\n",
    "def add_task(task_list, new_task):\n",
    "    task_list.append(new_task)\n",
    "\n",
    "def display_tasks(task_list):\n",
    "    if not task_list:\n",
    "        print(\"Danh sách công việc rỗng.\")\n",
    "    else:\n",
    "        print(\"Danh sách công việc:\")\n",
    "        for i, task in enumerate(task_list, 1):\n",
    "            print(f\"{i}. {task}\")\n",
    "\n",
    "def delete_task(task_list, task_index):\n",
    "    if task_index < 1 or task_index > len(task_list):\n",
    "        print(\"Số thứ tự công việc không hợp lệ.\")\n",
    "    else:\n",
    "        deleted_task = task_list.pop(task_index - 1)\n",
    "        print(f\"Công việc '{deleted_task}' đã được xóa khỏi danh sách.\")\n",
    "\n",
    "def save_tasks_to_file(task_list, file_path):\n",
    "    with open(file_path, \"w\") as file:\n",
    "        for task in task_list:\n",
    "            file.write(task + \"\\n\")\n",
    "\n",
    "def load_tasks_from_file(file_path):\n",
    "    if not os.path.exists(file_path):\n",
    "        return []\n",
    "    with open(file_path, \"r\") as file:\n",
    "        return [line.strip() for line in file]\n",
    "\n",
    "def main():\n",
    "    task_file = \"tasks.txt\"\n",
    "    tasks = load_tasks_from_file(task_file)\n",
    "\n",
    "    while True:\n",
    "        print(\"\\n===== Quản lý danh sách công việc =====\")\n",
    "        print(\"1. Thêm công việc\")\n",
    "        print(\"2. Hiển thị công việc\")\n",
    "        print(\"3. Xóa công việc\")\n",
    "        print(\"4. Lưu và thoát\")\n",
    "\n",
    "        choice = input(\"Nhập lựa chọn của bạn (1/2/3/4): \")\n",
    "\n",
    "        if choice == \"1\":\n",
    "            new_task = input(\"Nhập công việc mới: \")\n",
    "            add_task(tasks, new_task)\n",
    "        elif choice == \"2\":\n",
    "            display_tasks(tasks)\n",
    "        elif choice == \"3\":\n",
    "            task_index = int(input(\"Nhập số thứ tự công việc cần xóa: \"))\n",
    "            delete_task(tasks, task_index)\n",
    "        elif choice == \"4\":\n",
    "            save_tasks_to_file(tasks, task_file)\n",
    "            print(\"Danh sách công việc đã được lưu vào tệp.\")\n",
    "            break\n",
    "        else:\n",
    "            print(\"Lựa chọn không hợp lệ. Vui lòng chọn lại.\")\n",
    "\n",
    "if __name__ == \"__main__\":\n",
    "    main()"
   ]
  },
  {
   "cell_type": "code",
   "execution_count": null,
   "id": "a726fd37-fcc8-485f-a368-d456d75f9218",
   "metadata": {},
   "outputs": [],
   "source": []
  }
 ],
 "metadata": {
  "kernelspec": {
   "display_name": "Python [conda env:aicv]",
   "language": "python",
   "name": "conda-env-aicv-py"
  },
  "language_info": {
   "codemirror_mode": {
    "name": "ipython",
    "version": 3
   },
   "file_extension": ".py",
   "mimetype": "text/x-python",
   "name": "python",
   "nbconvert_exporter": "python",
   "pygments_lexer": "ipython3",
   "version": "3.10.10"
  }
 },
 "nbformat": 4,
 "nbformat_minor": 5
}
