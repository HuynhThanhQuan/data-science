{
 "cells": [
  {
   "cell_type": "markdown",
   "id": "3c12a8d3-e6a7-4e6f-bbb7-7397481d52b9",
   "metadata": {},
   "source": [
    "# Đề bài"
   ]
  },
  {
   "cell_type": "markdown",
   "id": "5daa005a-fb62-4f01-a458-8d686b4099af",
   "metadata": {},
   "source": [
    "Bài tập này yêu cầu viết một chương trình để đảo ngược một chuỗi từ đầu vào của người dùng\n",
    "\n",
    "\n",
    "Hướng dẫn:\n",
    "\n",
    "- Chương trình yêu cầu người dùng nhập vào một chuỗi.\n",
    "\n",
    "- Chương trình sử dụng slicing với bước -1 ([::-1]) để đảo ngược chuỗi đã nhập.\n",
    "\n",
    "- Chuỗi đảo ngược được in ra màn hình.\n"
   ]
  },
  {
   "cell_type": "markdown",
   "id": "2d498f14-244f-4c7d-aad8-c081b0b348dc",
   "metadata": {
    "jp-MarkdownHeadingCollapsed": true,
    "tags": []
   },
   "source": [
    "# Hướng dẫn"
   ]
  },
  {
   "cell_type": "code",
   "execution_count": 1,
   "id": "d34d1785-9a3c-4709-84bf-57841c3f1385",
   "metadata": {
    "tags": []
   },
   "outputs": [
    {
     "name": "stdin",
     "output_type": "stream",
     "text": [
      "Nhập một chuỗi:  Ádb\n"
     ]
    },
    {
     "name": "stdout",
     "output_type": "stream",
     "text": [
      "Chuỗi đảo ngược là: bdÁ\n"
     ]
    }
   ],
   "source": [
    "def reverse_string(input_str):\n",
    "    return input_str[::-1]\n",
    "\n",
    "def main():\n",
    "    try:\n",
    "        input_str = input(\"Nhập một chuỗi: \")\n",
    "        reversed_str = reverse_string(input_str)\n",
    "        print(f\"Chuỗi đảo ngược là: {reversed_str}\")\n",
    "    except Exception as e:\n",
    "        print(\"Đã xảy ra lỗi:\", str(e))\n",
    "\n",
    "if __name__ == \"__main__\":\n",
    "    main()\n"
   ]
  },
  {
   "cell_type": "code",
   "execution_count": null,
   "id": "a726fd37-fcc8-485f-a368-d456d75f9218",
   "metadata": {},
   "outputs": [],
   "source": []
  }
 ],
 "metadata": {
  "kernelspec": {
   "display_name": "Python [conda env:aicv]",
   "language": "python",
   "name": "conda-env-aicv-py"
  },
  "language_info": {
   "codemirror_mode": {
    "name": "ipython",
    "version": 3
   },
   "file_extension": ".py",
   "mimetype": "text/x-python",
   "name": "python",
   "nbconvert_exporter": "python",
   "pygments_lexer": "ipython3",
   "version": "3.10.10"
  }
 },
 "nbformat": 4,
 "nbformat_minor": 5
}
