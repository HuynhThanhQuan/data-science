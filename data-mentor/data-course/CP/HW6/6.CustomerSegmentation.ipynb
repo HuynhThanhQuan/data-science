{
 "cells": [
  {
   "cell_type": "markdown",
   "id": "4e8b1c07-8742-458a-b38a-f2761f1304ba",
   "metadata": {
    "tags": []
   },
   "source": [
    "# Acknowledgement\n",
    "\n",
    "Các tình huống, định danh và dữ liệu dưới đây điều được giả định theo kinh nghiệm của người viết không mục đích chỉ định bất cứ cá nhân hay tổ chức nào. Bài toán và dữ liệu được đảm bảo tạo ra để phục vụ mục đích học tập. Không có bất kỳ sao chép dữ liệu trái phép nào được thực hiện. Dữ liệu được dùng thuật toán ngẫu nhiên và 1 số tác động bên trong phân phối dữ liệu.\n",
    "\n",
    "# Bản quyền\n",
    "Vui lòng không chia sẻ hay sao chép bất kỳ thông tin, nội dung hay dữ liệu của bài viết này và dùng cho mục đích thương mại khi chưa có sự đồng ý của tác giả. Tất cả dữ liệu, nội dung, thông tin chỉ được phép mục đích học tập và được sự đồng ý từ tác giả. Vui lòng liên hệ hthquan28@gmail.com nếu có nhu cầu hợp tác. Nếu bạn thấy có sự sao chép trái phép dữ liệu này ở nơi khác, vui lòng cho mình thông tin để đảm bảo quyền lợi của bạn và người mua khóa học này.\n",
    "\n",
    "Đọc thêm: [Acknowledgement](https://docs.google.com/document/d/1gRZRnfyw3PPxLs4T7NxdiF7_Gi887IiCkygBMNUhG40/edit?usp=sharing)"
   ]
  },
  {
   "cell_type": "markdown",
   "id": "bd8efce9-022f-44ab-b0f1-e0039c0369e2",
   "metadata": {},
   "source": [
    "# Recap"
   ]
  },
  {
   "cell_type": "markdown",
   "id": "38728446-9d51-4441-9a05-919f738420de",
   "metadata": {},
   "source": [
    "Qua 2 case studies vừa rồi, chúng ta đã đi sâu vào kỹ thuật Modeling với bài toán binary-classification. \n",
    "\n",
    "Binary classification là bài toán thông dụng trong khi làm Data Science. Nhưng sẽ còn những bài toán khác như multiclass, multi-label, regression, clustering, ranking... cũng vẫn sẽ áp dụng được cho các bài toán về Credit Scoring và Fraud Risk Detection nếu như bạn chọn data phù hợp với yêu cầu business"
   ]
  },
  {
   "cell_type": "markdown",
   "id": "d5c4d55b-8b34-45ac-9b8a-d0e282b10a1c",
   "metadata": {},
   "source": [
    "Lần này chúng ta sẽ làm quen 1 số thuật ngữ bên Marketing"
   ]
  },
  {
   "cell_type": "markdown",
   "id": "84b4211d-cb96-4ea1-868e-1cae16681579",
   "metadata": {},
   "source": [
    "# A. Marketing & Basic Metrics"
   ]
  },
  {
   "cell_type": "markdown",
   "id": "b7799313-0a29-4f2e-a3f3-a01185700f7a",
   "metadata": {},
   "source": [
    "Chúng ta sẽ tìm hiểu 1 số key metrics thường dùng và định nghĩa trong Marketing"
   ]
  },
  {
   "cell_type": "markdown",
   "id": "84fb354f-12c5-4948-aa41-29c788d7dfe0",
   "metadata": {},
   "source": [
    "## CAC - Customer Acquisition Cost"
   ]
  },
  {
   "cell_type": "markdown",
   "id": "05d72e97-41e8-42f1-812e-8e103d85c898",
   "metadata": {},
   "source": [
    "Là tổng chi phí mà bạn phải chi trả để thu hút và thu hồi một khách hàng mới cho doanh nghiệp của bạn trong một khoảng thời gian cụ thể\n",
    "\n",
    "$$ CAC = \\frac{\\text{Tổng chi phí tiếp thị và quảng cáo}}{\\text{Số lượng khách hàng mới thu hồi trong cùng khoảng thời gian}}$$\n"
   ]
  },
  {
   "cell_type": "markdown",
   "id": "fd637773-d748-46e9-bdfb-f8ab571c0c6c",
   "metadata": {},
   "source": [
    "Ví dụ: trong 1 chiến dịch marketing thì công ty đã chi ra 100.000.000 và thu được 200 KH thì mỗi KH cost = 500.000"
   ]
  },
  {
   "cell_type": "markdown",
   "id": "24fc5e77-dd0d-42e7-90b6-69e392473498",
   "metadata": {},
   "source": [
    "## CLV/CLTV -  Customer Lifetime Value"
   ]
  },
  {
   "cell_type": "markdown",
   "id": "d0a9c7e9-ee50-4e68-af17-f8ac54547dad",
   "metadata": {},
   "source": [
    "Là giá trị mà khách hàng đã mang lại cho bạn trong 1 khoảng thời gian mà bạn xem xét, có nhiều cách tính tùy theo doanh nghiệp mình sẽ để cách tính dễ hiểu nhất\n",
    "\n",
    "$$ CLTV = \\text{Giá trị của khách hàng} * \\text{Thời gian trung bình tồn tại của 1 KH} $$"
   ]
  },
  {
   "cell_type": "markdown",
   "id": "462fc852-044b-4ecf-ad35-9841c630fb49",
   "metadata": {
    "tags": []
   },
   "source": [
    "### Đọc thêm"
   ]
  },
  {
   "cell_type": "markdown",
   "id": "d94662eb-6e52-4395-a49e-9311bd7b2452",
   "metadata": {},
   "source": [
    "Mỗi công ty có thể có cách tính khác nhau, công thức dưới đây là 1 phép tính đơn giản"
   ]
  },
  {
   "cell_type": "markdown",
   "id": "8ca48f75-5420-4f4f-b76a-4ee4d09903f7",
   "metadata": {
    "tags": []
   },
   "source": [
    "- Average Order Value - AOV\n",
    "\n",
    "$$ AOV = \\frac{\\text{Tổng doanh thu}}{\\text{Số lượng Order}} $$"
   ]
  },
  {
   "cell_type": "markdown",
   "id": "7e86bc28-a0ad-4f59-bbf9-52bd9443c0b0",
   "metadata": {},
   "source": [
    "- Average Purchase Frequency Rate - APFR\n",
    "\n",
    "$$ APFR = \\frac{\\text{Tổng số lượng mua hàng}}{\\text{Số lượng khách hàng}} $$"
   ]
  },
  {
   "cell_type": "markdown",
   "id": "49eef6ae-ad95-4e40-a849-529b187d9a6c",
   "metadata": {
    "tags": []
   },
   "source": [
    " - Giá trị của khách hàng (Customer Value)\n",
    "$$ Customer Value = AOV * APFR $$"
   ]
  },
  {
   "cell_type": "markdown",
   "id": "b9940900-a8d5-4849-800c-2108e73b9fc1",
   "metadata": {},
   "source": [
    "- Thời gian trung bình tồn tại (Averge Customer Lifetime - ACL)\n",
    "\n",
    "$$ ACL = \\frac{\\text{Tổng thời gian của tất cả KH}}{\\text{Tổng số lượng KH}}$$"
   ]
  },
  {
   "cell_type": "code",
   "execution_count": null,
   "id": "058f4718-c4a7-4811-acbc-f303237ac12f",
   "metadata": {},
   "outputs": [],
   "source": []
  },
  {
   "cell_type": "markdown",
   "id": "82811284-4bf9-464a-b6fa-ac81123c6b25",
   "metadata": {
    "tags": []
   },
   "source": [
    "## CLTV/CAC \n",
    "\n",
    "Là tỷ lệ đo lường độ hiệu quả hoạt động của công ty thông qua 2 chỉ số là giá trị trung bình 1 khách hàng mang lại và hoạt động của marketing\n",
    "\n",
    "- CLTV/CAC > 1: là khách hàng mang lại lợi nhuận dương cho công ty\n",
    "\n",
    "- CLTV/CAC <=1: là 1 tín hiệu cho thấy hoạt động của công ty không hiệu quả"
   ]
  },
  {
   "cell_type": "markdown",
   "id": "ad658239-ab81-4cdc-98cf-c23188ebafad",
   "metadata": {},
   "source": [
    "## Churn Rate"
   ]
  },
  {
   "cell_type": "markdown",
   "id": "ba4051cb-f22a-4202-aeef-497ae37b4c62",
   "metadata": {},
   "source": [
    "Đo lường tỉ lệ rời bỏ của khách hàng đối với doanh nghiệp"
   ]
  },
  {
   "cell_type": "markdown",
   "id": "d09f245c-a1d3-4514-99ef-b2946000f574",
   "metadata": {},
   "source": [
    "Giả sử bạn đo lường churn rate trong 3 tháng, số lượng khách hàng ban đầu là 100 KH, sau 3 tháng có 50 KH ko sử dụng nữa thì tỷ lệ churn-rate là 50%"
   ]
  },
  {
   "cell_type": "markdown",
   "id": "93734fc4-239f-4c8b-948e-3e55edb13c11",
   "metadata": {},
   "source": [
    "Công thức churn-rate trong doanh nghiệp có thể còn phức tạp hơn đây là 1 ví dụ đơn giản"
   ]
  },
  {
   "cell_type": "markdown",
   "id": "99c0014b-623e-4468-b3fe-5d54848ec333",
   "metadata": {
    "tags": []
   },
   "source": [
    "## CR - Conversion Rate "
   ]
  },
  {
   "cell_type": "markdown",
   "id": "59b041af-061c-4ada-ba09-af21f8ed138d",
   "metadata": {},
   "source": [
    "Là tỷ lệ thể hiện phần trăm người dùng hoặc khách hàng đã thực hiện hành động cụ thể mà công ty mong muốn"
   ]
  },
  {
   "cell_type": "markdown",
   "id": "cc6d6182-e1c7-4fcc-8282-a9f2e0e55abb",
   "metadata": {},
   "source": [
    "$$ \\text{Conversion Rate} = \\frac{\\text{Số lượng người thực hiện hành động}}{\\text{Tổng số người tiếp cận}} \\times 100\\% $$"
   ]
  },
  {
   "cell_type": "markdown",
   "id": "587283d4-9a6a-4ad0-8267-fab745f3cd33",
   "metadata": {},
   "source": [
    "Ví dụ: công ty treo promotion banner ngay lúc bạn vào app, thì có bao nhiêu người click vào hành động. \n",
    "\n",
    "Tổng số lượng người thấy banner là 100.000 KH và có 1000 người click vào, thì conversion-rate là 1000/100.000 = 1%"
   ]
  },
  {
   "cell_type": "markdown",
   "id": "e57491a9-a841-4ec0-bf35-e89caed352fc",
   "metadata": {},
   "source": [
    "# B. Personalization & Basis\n",
    "\n",
    "Các bạn đã hiểu được promotion quan trọng đến thế nào các công ty fintech rồi. Nhìn chung quy lại, các yếu tố nhận thấy hoạt động hiệu quả công ty bao gồm nhiều yếu tố khác nhau:\n",
    "\n",
    "- Hoạt động tìm kiếm KH mới\n",
    "- Hoạt động duy trì KH với doanh nghiệp \n",
    "- Hoạt động mua sắm/tương tác của khách hàng với doanh nghiệp\n",
    "- Độ nhận diện và phủ sóng với thị trường\n",
    "- Đối thủ cạnh tranh\n",
    "- ..."
   ]
  },
  {
   "cell_type": "markdown",
   "id": "fed6c74f-8d5e-40c6-a033-a08d07a0dcf5",
   "metadata": {},
   "source": [
    "Nếu chỉ số CLVT/CAC mà thấp thì nó giống như việc công ty bạn đang *đốt tiền*, và nếu không tối ưu được thì sẽ tới 1 ngày, tiền cũng sẽ ko còn mà kinh doanh. Để đảm bảo sự phát triển lâu dài cho công ty, yếu tố then chốt vẫn là nằm ở khách hàng trung thành với doanh nghiệp, tức là khách hàng thích bấm vào app của doanh nghiệp chứ không phải là đối thủ cạnh tranh. Và cốt lõi của điều đó là từ sự trải nghiệm của khách hàng đối với sản phẩm bao gồm:\n",
    "\n",
    "- Sản phẩm chất lượng, dịch vụ chăm sóc khách hàng tận tâm\n",
    "- Sự an hiểu của công ty với từng khách hàng cá nhân đơn lẻ\n",
    "- Cảm thấy được ***yêu mến*** trân trọng sở thích cá nhân (điển hình là Youtube Personalization)\n",
    "- ..."
   ]
  },
  {
   "cell_type": "markdown",
   "id": "fa6a7b97-9392-4cc7-8648-2cb51fabaa8b",
   "metadata": {},
   "source": [
    "Quay lại với các chỉ số trên là để đo lường hoạt động hiểu quả của Marketing và của công ty. Nhưng làm thế nào để hoạt động hiệu quả thì đó là bài toán về tối ưu (Optimization), và đây là nơi mà Data Analytics/ Data Science sẽ giải quyết với các bài toán này. Có một cái hay về data đó là **\"có thể bạn là độc nhất trong vũ trụ nhưng thói quen hành vi của bạn thì không\"**. Học về data là cách bạn nhìn thấy một cấu trúc chung và 1 hình thái hành vi chung và xử lý chúng để thu gọn lại thành 1 thông tin súc tích và cô đặc."
   ]
  },
  {
   "cell_type": "markdown",
   "id": "e2b068a2-b2e3-45eb-a2a7-235d8cb4477e",
   "metadata": {},
   "source": [
    "Bài toán Personalization thường sẽ bao gồm kết hợp nhiều bài toán khác nhau:\n",
    "- Customer Segmentation (hành vi, sở thích, tính cách, lối sống...)\n",
    "- Recommendation (để cross-sell, up-sell, tăng doanh thu, cải thiện CR, promotion...)\n",
    "- Exploring other hidden patterns"
   ]
  },
  {
   "cell_type": "markdown",
   "id": "862d9d95-42c6-47c7-b594-eaf38d80ad61",
   "metadata": {},
   "source": [
    "Với bài toán này các bạn cần liên kết với khả năng của sáng tạo trong marketing và ngoài đời thực. Không có 1 công thức chung cho các sản phẩm dạng này và đôi khi là từ Marketing họ sẽ định nghĩa phân khúc khách hàng (đôi khi nó chỉ là những rule-based)"
   ]
  },
  {
   "cell_type": "markdown",
   "id": "a5ae1048-f82b-4293-a2bc-bd9e58df39d2",
   "metadata": {},
   "source": [
    "## 1. Customer Segmentation"
   ]
  },
  {
   "cell_type": "markdown",
   "id": "9f4ac2f8-ce10-4c45-a7a2-5a11d38e086c",
   "metadata": {},
   "source": [
    "Dưới đây là 1 số thông tin dữ liệu được dùng để làm customer-segmentation, thông thường khi làm customer-segmentation sẽ bao gồm:\n",
    "\n",
    "**1. Thông tin segment ngắn gọn dễ hiểu**\n",
    "\n",
    "**2. Tính impact/value của segment đó với doanh nghiệp**"
   ]
  },
  {
   "cell_type": "markdown",
   "id": "4c0d0829-29f4-4b34-b87c-18b0d8858114",
   "metadata": {},
   "source": [
    "Ví dụ về các data có thể segment\n",
    "\n",
    "- Thông tin khách hàng: dưới 18 tuổi, từ 18 - 25 tuổi, 25 - 35 tuổi, 35-45 tuổi, trên 45 tuổi, trên 65 tuổi, có gia đình , có con nhỏ, độc thân...\n",
    "\n",
    "- Thu nhập: dưới 100 triệu /1 năm, từ 100 triệu tới 300 triệu /1 năm, từ 300 triệu tới 1 tỷ /1 năm, trên 1 tỷ/1 năm\n",
    "\n",
    "- Personality lifestyle: dân tech-savy, hòa đồng, cộng đồng, người hướng nội/ngoại, morning person, cú đêm...\n",
    "\n",
    "- Thói quen mua sắm: săn promotion/voucher, canh sale, thích là xuống tiền, xả láng, đắn đo...\n",
    "\n",
    "- Shopping lifestyle: đam mê thời trang, mua đồ cần thiết, tìm kiếm ưu đãi và giảm giá, trải nghiệm mua sắm, thích sản phẩm đắt đỏ và xa xỉ, mua định kỳ\n",
    "\n",
    "- Tài chính: tiết kiệm, định kỳ, đầu tư, cá mập, cá con, all-in, con bạc, FOMO... (ví dụ thôi nha)\n",
    "\n",
    "- Thói quen thanh toán: thường xuyên, hay trả điện nước, điện thoại, ...\n",
    "\n",
    "- Membership: Loyal, VIP, Standard, subscriptions, hoạt động năng nổ, thường xuyên đọc newsletter, đóng góp,,,\n",
    "\n",
    "- ..."
   ]
  },
  {
   "cell_type": "markdown",
   "id": "e6d46dc2-5944-48a7-b14f-15b91915f7f6",
   "metadata": {},
   "source": [
    "Từ các thông tin trên, bạn sẽ xác định các chiều thông tin định tính, mình sẽ làm mẫu, giả sử mình chọn\n",
    "\n",
    "**Các thông tin xung quanh về segment**\n",
    "\n",
    "- Tuổi\n",
    "- Thu nhập\n",
    "- Mức chi tiêu\n",
    "- Tần suất hoạt động\n",
    "- Member-lifespan\n",
    "\n",
    "**Các thông tin về business impact**\n",
    "\n",
    "- AOV\n",
    "\n",
    "- CLVT\n",
    "\n",
    "- APFR\n",
    "\n",
    "- Total Revenue\n",
    "\n",
    "- Number Orders/Sales/Txn\n",
    "\n",
    "- Percent of value contributed to others\n",
    "\n",
    "- ..."
   ]
  },
  {
   "cell_type": "markdown",
   "id": "d2ef73ac-ed6f-4212-ab0d-805e3e38f58f",
   "metadata": {},
   "source": [
    "Ví dụ data"
   ]
  },
  {
   "cell_type": "code",
   "execution_count": 1,
   "id": "da0aecd5-c33c-4a32-b83d-1664e5e74165",
   "metadata": {
    "tags": []
   },
   "outputs": [],
   "source": [
    "import numpy as np\n",
    "import pandas as pd\n",
    "from math import pi\n",
    "import matplotlib.pyplot as plt"
   ]
  },
  {
   "cell_type": "code",
   "execution_count": 2,
   "id": "7c85a8ec-42c8-489d-b961-1178c01ee7d5",
   "metadata": {
    "tags": []
   },
   "outputs": [
    {
     "data": {
      "text/html": [
       "<div>\n",
       "<style scoped>\n",
       "    .dataframe tbody tr th:only-of-type {\n",
       "        vertical-align: middle;\n",
       "    }\n",
       "\n",
       "    .dataframe tbody tr th {\n",
       "        vertical-align: top;\n",
       "    }\n",
       "\n",
       "    .dataframe thead th {\n",
       "        text-align: right;\n",
       "    }\n",
       "</style>\n",
       "<table border=\"1\" class=\"dataframe\">\n",
       "  <thead>\n",
       "    <tr style=\"text-align: right;\">\n",
       "      <th></th>\n",
       "      <th>segmentation</th>\n",
       "      <th>mean_income</th>\n",
       "      <th>mean_age</th>\n",
       "      <th>mean_member_lifespan</th>\n",
       "      <th>mean_interaction_freq</th>\n",
       "      <th>mean_expense_strength</th>\n",
       "      <th>q_income</th>\n",
       "      <th>q_age</th>\n",
       "      <th>q_member_lifespan</th>\n",
       "      <th>q_interaction_freq</th>\n",
       "      <th>q_expense_strength</th>\n",
       "      <th>AOV</th>\n",
       "      <th>churn_rate</th>\n",
       "      <th>APFR</th>\n",
       "      <th>total_revenue</th>\n",
       "    </tr>\n",
       "  </thead>\n",
       "  <tbody>\n",
       "    <tr>\n",
       "      <th>0</th>\n",
       "      <td>Tech-savy</td>\n",
       "      <td>4000000</td>\n",
       "      <td>17</td>\n",
       "      <td>845</td>\n",
       "      <td>2232</td>\n",
       "      <td>0.507419</td>\n",
       "      <td>75</td>\n",
       "      <td>5</td>\n",
       "      <td>15</td>\n",
       "      <td>47</td>\n",
       "      <td>18</td>\n",
       "      <td>75</td>\n",
       "      <td>47</td>\n",
       "      <td>18</td>\n",
       "      <td>15</td>\n",
       "    </tr>\n",
       "    <tr>\n",
       "      <th>1</th>\n",
       "      <td>Thích đọc sách</td>\n",
       "      <td>20000000</td>\n",
       "      <td>22</td>\n",
       "      <td>213</td>\n",
       "      <td>680</td>\n",
       "      <td>0.649165</td>\n",
       "      <td>14</td>\n",
       "      <td>14</td>\n",
       "      <td>14</td>\n",
       "      <td>14</td>\n",
       "      <td>14</td>\n",
       "      <td>14</td>\n",
       "      <td>14</td>\n",
       "      <td>14</td>\n",
       "      <td>14</td>\n",
       "    </tr>\n",
       "    <tr>\n",
       "      <th>2</th>\n",
       "      <td>Săn sale</td>\n",
       "      <td>30000000</td>\n",
       "      <td>29</td>\n",
       "      <td>204</td>\n",
       "      <td>1493</td>\n",
       "      <td>0.967491</td>\n",
       "      <td>35</td>\n",
       "      <td>35</td>\n",
       "      <td>15</td>\n",
       "      <td>25</td>\n",
       "      <td>35</td>\n",
       "      <td>35</td>\n",
       "      <td>25</td>\n",
       "      <td>35</td>\n",
       "      <td>15</td>\n",
       "    </tr>\n",
       "    <tr>\n",
       "      <th>3</th>\n",
       "      <td>Hàng hiệu</td>\n",
       "      <td>50000000</td>\n",
       "      <td>25</td>\n",
       "      <td>946</td>\n",
       "      <td>465</td>\n",
       "      <td>1.260919</td>\n",
       "      <td>80</td>\n",
       "      <td>80</td>\n",
       "      <td>90</td>\n",
       "      <td>10</td>\n",
       "      <td>30</td>\n",
       "      <td>80</td>\n",
       "      <td>10</td>\n",
       "      <td>30</td>\n",
       "      <td>90</td>\n",
       "    </tr>\n",
       "    <tr>\n",
       "      <th>4</th>\n",
       "      <td>Thời trang</td>\n",
       "      <td>70000000</td>\n",
       "      <td>45</td>\n",
       "      <td>908</td>\n",
       "      <td>2974</td>\n",
       "      <td>1.056240</td>\n",
       "      <td>60</td>\n",
       "      <td>60</td>\n",
       "      <td>60</td>\n",
       "      <td>60</td>\n",
       "      <td>10</td>\n",
       "      <td>60</td>\n",
       "      <td>60</td>\n",
       "      <td>10</td>\n",
       "      <td>60</td>\n",
       "    </tr>\n",
       "    <tr>\n",
       "      <th>5</th>\n",
       "      <td>Cú đêm</td>\n",
       "      <td>100000000</td>\n",
       "      <td>22</td>\n",
       "      <td>664</td>\n",
       "      <td>3023</td>\n",
       "      <td>1.017130</td>\n",
       "      <td>40</td>\n",
       "      <td>40</td>\n",
       "      <td>63</td>\n",
       "      <td>38</td>\n",
       "      <td>44</td>\n",
       "      <td>40</td>\n",
       "      <td>38</td>\n",
       "      <td>44</td>\n",
       "      <td>63</td>\n",
       "    </tr>\n",
       "  </tbody>\n",
       "</table>\n",
       "</div>"
      ],
      "text/plain": [
       "     segmentation  mean_income  mean_age  mean_member_lifespan   \n",
       "0       Tech-savy      4000000        17                   845  \\\n",
       "1  Thích đọc sách     20000000        22                   213   \n",
       "2        Săn sale     30000000        29                   204   \n",
       "3       Hàng hiệu     50000000        25                   946   \n",
       "4      Thời trang     70000000        45                   908   \n",
       "5          Cú đêm    100000000        22                   664   \n",
       "\n",
       "   mean_interaction_freq  mean_expense_strength  q_income  q_age   \n",
       "0                   2232               0.507419        75      5  \\\n",
       "1                    680               0.649165        14     14   \n",
       "2                   1493               0.967491        35     35   \n",
       "3                    465               1.260919        80     80   \n",
       "4                   2974               1.056240        60     60   \n",
       "5                   3023               1.017130        40     40   \n",
       "\n",
       "   q_member_lifespan  q_interaction_freq  q_expense_strength  AOV  churn_rate   \n",
       "0                 15                  47                  18   75          47  \\\n",
       "1                 14                  14                  14   14          14   \n",
       "2                 15                  25                  35   35          25   \n",
       "3                 90                  10                  30   80          10   \n",
       "4                 60                  60                  10   60          60   \n",
       "5                 63                  38                  44   40          38   \n",
       "\n",
       "   APFR  total_revenue  \n",
       "0    18             15  \n",
       "1    14             14  \n",
       "2    35             15  \n",
       "3    30             90  \n",
       "4    10             60  \n",
       "5    44             63  "
      ]
     },
     "execution_count": 2,
     "metadata": {},
     "output_type": "execute_result"
    }
   ],
   "source": [
    "df = pd.read_csv('./data/c_segmentation.csv')\n",
    "df"
   ]
  },
  {
   "cell_type": "markdown",
   "id": "483fa3a1-f0aa-4170-9f1c-3113deeec4cb",
   "metadata": {},
   "source": [
    "### Customer Segment Information"
   ]
  },
  {
   "cell_type": "markdown",
   "id": "ffaf82f6-e7f7-451e-b7a9-74a70ebf8f6c",
   "metadata": {},
   "source": [
    "Dưới đây là 1 số ví dụ segment rule-based:\n",
    "\n",
    "- Tech-savy: KH có hơn 5 TXN đồ công nghệ + total-amount > 20 triệu\n",
    "\n",
    "- Thích đọc sách: KH có hơn 10 txn mua sách\n",
    "\n",
    "- Săn sale: KH áp dụng sale promotion hơn 20 lần\n",
    "\n",
    "- Hàng hiệu: KH có tổng tiền của các hãng Hermes, Channel, Gucci,... chiếm hơn 50% trong tổng tiền chi tiêu\n",
    "\n",
    "- Thời trang: KH có số lượng TXN về đồ thời trang chiếm hơn 65%\n",
    "\n",
    "- Cú đêm: KH có tần suất hoạt động thường xuyên từ 10h đêm"
   ]
  },
  {
   "cell_type": "markdown",
   "id": "260e435d-4b54-4c33-919e-7960f6f08151",
   "metadata": {},
   "source": [
    "Thông qua 1 số bài tập trước, bạn có thể tính được 1 số các thông tin dưới đây. Một số chỉ số phép tính có thể là từ marketing, ví dụ: expense-strength (chỉ số sức mạnh chi tiêu) so sánh tương ứng với average-transaction-value của toàn bộ hệ thống..."
   ]
  },
  {
   "cell_type": "code",
   "execution_count": 3,
   "id": "36037d11-9e3e-4b13-80d1-14e8d16d5722",
   "metadata": {
    "tags": []
   },
   "outputs": [],
   "source": [
    "info_cols = ['mean_income', 'mean_age', 'mean_member_lifespan', 'mean_interaction_freq', 'mean_expense_strength']"
   ]
  },
  {
   "cell_type": "code",
   "execution_count": 4,
   "id": "6ee9a0d6-8885-433b-84c3-2b40e9a8a029",
   "metadata": {
    "tags": []
   },
   "outputs": [
    {
     "data": {
      "text/html": [
       "<div>\n",
       "<style scoped>\n",
       "    .dataframe tbody tr th:only-of-type {\n",
       "        vertical-align: middle;\n",
       "    }\n",
       "\n",
       "    .dataframe tbody tr th {\n",
       "        vertical-align: top;\n",
       "    }\n",
       "\n",
       "    .dataframe thead th {\n",
       "        text-align: right;\n",
       "    }\n",
       "</style>\n",
       "<table border=\"1\" class=\"dataframe\">\n",
       "  <thead>\n",
       "    <tr style=\"text-align: right;\">\n",
       "      <th></th>\n",
       "      <th>segmentation</th>\n",
       "      <th>mean_income</th>\n",
       "      <th>mean_age</th>\n",
       "      <th>mean_member_lifespan</th>\n",
       "      <th>mean_interaction_freq</th>\n",
       "      <th>mean_expense_strength</th>\n",
       "    </tr>\n",
       "  </thead>\n",
       "  <tbody>\n",
       "    <tr>\n",
       "      <th>0</th>\n",
       "      <td>Tech-savy</td>\n",
       "      <td>4000000</td>\n",
       "      <td>17</td>\n",
       "      <td>845</td>\n",
       "      <td>2232</td>\n",
       "      <td>0.507419</td>\n",
       "    </tr>\n",
       "    <tr>\n",
       "      <th>1</th>\n",
       "      <td>Thích đọc sách</td>\n",
       "      <td>20000000</td>\n",
       "      <td>22</td>\n",
       "      <td>213</td>\n",
       "      <td>680</td>\n",
       "      <td>0.649165</td>\n",
       "    </tr>\n",
       "    <tr>\n",
       "      <th>2</th>\n",
       "      <td>Săn sale</td>\n",
       "      <td>30000000</td>\n",
       "      <td>29</td>\n",
       "      <td>204</td>\n",
       "      <td>1493</td>\n",
       "      <td>0.967491</td>\n",
       "    </tr>\n",
       "    <tr>\n",
       "      <th>3</th>\n",
       "      <td>Hàng hiệu</td>\n",
       "      <td>50000000</td>\n",
       "      <td>25</td>\n",
       "      <td>946</td>\n",
       "      <td>465</td>\n",
       "      <td>1.260919</td>\n",
       "    </tr>\n",
       "    <tr>\n",
       "      <th>4</th>\n",
       "      <td>Thời trang</td>\n",
       "      <td>70000000</td>\n",
       "      <td>45</td>\n",
       "      <td>908</td>\n",
       "      <td>2974</td>\n",
       "      <td>1.056240</td>\n",
       "    </tr>\n",
       "    <tr>\n",
       "      <th>5</th>\n",
       "      <td>Cú đêm</td>\n",
       "      <td>100000000</td>\n",
       "      <td>22</td>\n",
       "      <td>664</td>\n",
       "      <td>3023</td>\n",
       "      <td>1.017130</td>\n",
       "    </tr>\n",
       "  </tbody>\n",
       "</table>\n",
       "</div>"
      ],
      "text/plain": [
       "     segmentation  mean_income  mean_age  mean_member_lifespan   \n",
       "0       Tech-savy      4000000        17                   845  \\\n",
       "1  Thích đọc sách     20000000        22                   213   \n",
       "2        Săn sale     30000000        29                   204   \n",
       "3       Hàng hiệu     50000000        25                   946   \n",
       "4      Thời trang     70000000        45                   908   \n",
       "5          Cú đêm    100000000        22                   664   \n",
       "\n",
       "   mean_interaction_freq  mean_expense_strength  \n",
       "0                   2232               0.507419  \n",
       "1                    680               0.649165  \n",
       "2                   1493               0.967491  \n",
       "3                    465               1.260919  \n",
       "4                   2974               1.056240  \n",
       "5                   3023               1.017130  "
      ]
     },
     "execution_count": 4,
     "metadata": {},
     "output_type": "execute_result"
    }
   ],
   "source": [
    "df_info = df[['segmentation'] + info_cols]\n",
    "df_info"
   ]
  },
  {
   "cell_type": "markdown",
   "id": "ec88af8c-ceda-4444-9fe4-e18cb4b61e9b",
   "metadata": {},
   "source": [
    "### Segment Information Over Population"
   ]
  },
  {
   "cell_type": "markdown",
   "id": "fa905d3a-2d84-470f-bc28-5b5b4cb3d657",
   "metadata": {},
   "source": [
    "Chúng ta sẽ làm quen với radar plot, để plot được thì bạn cần scale giá trị lại. Giả sử thông tin dưới đây là mình muốn hiển thị mỗi segment tương ứng với sức mạnh bao nhiêu trên toàn bộ population.\n",
    "\n",
    "Ví dụ: \n",
    "- Tech-savy với income trung bình là ở mức 75% của toàn bộ population\n",
    "- Cú đêm với chỉ số expense-strength trung bình ở mức 44% của toàn bộ population\n",
    "- ..."
   ]
  },
  {
   "cell_type": "code",
   "execution_count": 5,
   "id": "4b7bd35d-df6f-4613-8175-908df331f12f",
   "metadata": {
    "tags": []
   },
   "outputs": [],
   "source": [
    "q_cols = ['q_income', 'q_age', 'q_member_lifespan', 'q_interaction_freq', 'q_expense_strength']"
   ]
  },
  {
   "cell_type": "code",
   "execution_count": 6,
   "id": "d088d728-d4a6-4b97-8f00-7e01a442fe2c",
   "metadata": {
    "tags": []
   },
   "outputs": [
    {
     "data": {
      "text/html": [
       "<div>\n",
       "<style scoped>\n",
       "    .dataframe tbody tr th:only-of-type {\n",
       "        vertical-align: middle;\n",
       "    }\n",
       "\n",
       "    .dataframe tbody tr th {\n",
       "        vertical-align: top;\n",
       "    }\n",
       "\n",
       "    .dataframe thead th {\n",
       "        text-align: right;\n",
       "    }\n",
       "</style>\n",
       "<table border=\"1\" class=\"dataframe\">\n",
       "  <thead>\n",
       "    <tr style=\"text-align: right;\">\n",
       "      <th></th>\n",
       "      <th>segmentation</th>\n",
       "      <th>q_income</th>\n",
       "      <th>q_age</th>\n",
       "      <th>q_member_lifespan</th>\n",
       "      <th>q_interaction_freq</th>\n",
       "      <th>q_expense_strength</th>\n",
       "    </tr>\n",
       "  </thead>\n",
       "  <tbody>\n",
       "    <tr>\n",
       "      <th>0</th>\n",
       "      <td>Tech-savy</td>\n",
       "      <td>75</td>\n",
       "      <td>5</td>\n",
       "      <td>15</td>\n",
       "      <td>47</td>\n",
       "      <td>18</td>\n",
       "    </tr>\n",
       "    <tr>\n",
       "      <th>1</th>\n",
       "      <td>Thích đọc sách</td>\n",
       "      <td>14</td>\n",
       "      <td>14</td>\n",
       "      <td>14</td>\n",
       "      <td>14</td>\n",
       "      <td>14</td>\n",
       "    </tr>\n",
       "    <tr>\n",
       "      <th>2</th>\n",
       "      <td>Săn sale</td>\n",
       "      <td>35</td>\n",
       "      <td>35</td>\n",
       "      <td>15</td>\n",
       "      <td>25</td>\n",
       "      <td>35</td>\n",
       "    </tr>\n",
       "    <tr>\n",
       "      <th>3</th>\n",
       "      <td>Hàng hiệu</td>\n",
       "      <td>80</td>\n",
       "      <td>80</td>\n",
       "      <td>90</td>\n",
       "      <td>10</td>\n",
       "      <td>30</td>\n",
       "    </tr>\n",
       "    <tr>\n",
       "      <th>4</th>\n",
       "      <td>Thời trang</td>\n",
       "      <td>60</td>\n",
       "      <td>60</td>\n",
       "      <td>60</td>\n",
       "      <td>60</td>\n",
       "      <td>10</td>\n",
       "    </tr>\n",
       "    <tr>\n",
       "      <th>5</th>\n",
       "      <td>Cú đêm</td>\n",
       "      <td>40</td>\n",
       "      <td>40</td>\n",
       "      <td>63</td>\n",
       "      <td>38</td>\n",
       "      <td>44</td>\n",
       "    </tr>\n",
       "  </tbody>\n",
       "</table>\n",
       "</div>"
      ],
      "text/plain": [
       "     segmentation  q_income  q_age  q_member_lifespan  q_interaction_freq   \n",
       "0       Tech-savy        75      5                 15                  47  \\\n",
       "1  Thích đọc sách        14     14                 14                  14   \n",
       "2        Săn sale        35     35                 15                  25   \n",
       "3       Hàng hiệu        80     80                 90                  10   \n",
       "4      Thời trang        60     60                 60                  60   \n",
       "5          Cú đêm        40     40                 63                  38   \n",
       "\n",
       "   q_expense_strength  \n",
       "0                  18  \n",
       "1                  14  \n",
       "2                  35  \n",
       "3                  30  \n",
       "4                  10  \n",
       "5                  44  "
      ]
     },
     "execution_count": 6,
     "metadata": {},
     "output_type": "execute_result"
    }
   ],
   "source": [
    "df_q = df[['segmentation'] + q_cols]\n",
    "df_q"
   ]
  },
  {
   "cell_type": "markdown",
   "id": "065c1df2-aed0-4e8a-baee-d7c339cf3665",
   "metadata": {},
   "source": [
    "Dưới đây là mức độ impact (các chỉ số ở Marketing metrics) của từng segment với doanh nghiệp. Tương tư trên "
   ]
  },
  {
   "cell_type": "code",
   "execution_count": 7,
   "id": "0b26ffff-52dd-4b62-86a3-834c6df4d1dd",
   "metadata": {
    "tags": []
   },
   "outputs": [
    {
     "data": {
      "text/html": [
       "<div>\n",
       "<style scoped>\n",
       "    .dataframe tbody tr th:only-of-type {\n",
       "        vertical-align: middle;\n",
       "    }\n",
       "\n",
       "    .dataframe tbody tr th {\n",
       "        vertical-align: top;\n",
       "    }\n",
       "\n",
       "    .dataframe thead th {\n",
       "        text-align: right;\n",
       "    }\n",
       "</style>\n",
       "<table border=\"1\" class=\"dataframe\">\n",
       "  <thead>\n",
       "    <tr style=\"text-align: right;\">\n",
       "      <th></th>\n",
       "      <th>segmentation</th>\n",
       "      <th>AOV</th>\n",
       "      <th>churn_rate</th>\n",
       "      <th>APFR</th>\n",
       "      <th>total_revenue</th>\n",
       "    </tr>\n",
       "  </thead>\n",
       "  <tbody>\n",
       "    <tr>\n",
       "      <th>0</th>\n",
       "      <td>Tech-savy</td>\n",
       "      <td>75</td>\n",
       "      <td>47</td>\n",
       "      <td>18</td>\n",
       "      <td>15</td>\n",
       "    </tr>\n",
       "    <tr>\n",
       "      <th>1</th>\n",
       "      <td>Thích đọc sách</td>\n",
       "      <td>14</td>\n",
       "      <td>14</td>\n",
       "      <td>14</td>\n",
       "      <td>14</td>\n",
       "    </tr>\n",
       "    <tr>\n",
       "      <th>2</th>\n",
       "      <td>Săn sale</td>\n",
       "      <td>35</td>\n",
       "      <td>25</td>\n",
       "      <td>35</td>\n",
       "      <td>15</td>\n",
       "    </tr>\n",
       "    <tr>\n",
       "      <th>3</th>\n",
       "      <td>Hàng hiệu</td>\n",
       "      <td>80</td>\n",
       "      <td>10</td>\n",
       "      <td>30</td>\n",
       "      <td>90</td>\n",
       "    </tr>\n",
       "    <tr>\n",
       "      <th>4</th>\n",
       "      <td>Thời trang</td>\n",
       "      <td>60</td>\n",
       "      <td>60</td>\n",
       "      <td>10</td>\n",
       "      <td>60</td>\n",
       "    </tr>\n",
       "    <tr>\n",
       "      <th>5</th>\n",
       "      <td>Cú đêm</td>\n",
       "      <td>40</td>\n",
       "      <td>38</td>\n",
       "      <td>44</td>\n",
       "      <td>63</td>\n",
       "    </tr>\n",
       "  </tbody>\n",
       "</table>\n",
       "</div>"
      ],
      "text/plain": [
       "     segmentation  AOV  churn_rate  APFR  total_revenue\n",
       "0       Tech-savy   75          47    18             15\n",
       "1  Thích đọc sách   14          14    14             14\n",
       "2        Săn sale   35          25    35             15\n",
       "3       Hàng hiệu   80          10    30             90\n",
       "4      Thời trang   60          60    10             60\n",
       "5          Cú đêm   40          38    44             63"
      ]
     },
     "execution_count": 7,
     "metadata": {},
     "output_type": "execute_result"
    }
   ],
   "source": [
    "impact_cols = ['AOV', 'churn_rate', 'APFR', 'total_revenue']\n",
    "df_impact = df[['segmentation'] + impact_cols]\n",
    "df_impact"
   ]
  },
  {
   "cell_type": "code",
   "execution_count": 8,
   "id": "07f24c28-5441-4b38-9dd7-38cb1ccaf2c5",
   "metadata": {
    "tags": []
   },
   "outputs": [],
   "source": [
    "q_angles = [n / float(len(q_cols)) * 2 * pi for n in range(len(q_cols))]\n",
    "q_angles += q_angles[:1]\n",
    "\n",
    "i_angles = [n / float(len(impact_cols)) * 2 * pi for n in range(len(impact_cols))]\n",
    "i_angles += i_angles[:1]"
   ]
  },
  {
   "cell_type": "code",
   "execution_count": 9,
   "id": "6fed340c-00e0-4b25-933a-adc6cd9abe49",
   "metadata": {
    "tags": []
   },
   "outputs": [
    {
     "data": {
      "image/png": "[encoded data removed]",
      "text/plain": [
       "<Figure size 1500x500 with 2 Axes>"
      ]
     },
     "metadata": {},
     "output_type": "display_data"
    }
   ],
   "source": [
    "fig, axs = plt.subplots(1,2, figsize=(15,5),subplot_kw=dict(polar=True))\n",
    "\n",
    "for i, r in df_q.iterrows():\n",
    "    v = r[q_cols].tolist()\n",
    "    v += v[:1]\n",
    "    axs[0].plot(q_angles, v, linewidth=1, linestyle='solid',label=r['segmentation'])\n",
    "    axs[0].fill(q_angles, v, alpha=0.25)\n",
    "    axs[0].set_xticks(q_angles[:-1], [i.replace('q_','') for i in info_cols], color='grey', size=12)\n",
    "\n",
    "for i, r in df_impact.iterrows():\n",
    "    v = r[impact_cols].tolist()\n",
    "    v += v[:1]\n",
    "    axs[1].plot(i_angles, v, linewidth=1, linestyle='solid',label=r['segmentation'])\n",
    "    axs[1].fill(i_angles, v, alpha=0.25)\n",
    "    axs[1].set_xticks(i_angles[:-1], impact_cols, color='grey', size=12)\n",
    "plt.legend(loc='upper right', bbox_to_anchor=(0.1, 0.1))\n",
    "plt.show()"
   ]
  },
  {
   "cell_type": "markdown",
   "id": "975c10d5-5580-4d9f-96af-00a720cbb3e2",
   "metadata": {},
   "source": [
    "Đây là Radar plot, thể hiện được nhiều chiều khác nhau trên cùng 1 plot. Nhìn qua những plot nhưng này chúng ta có thêm nhiều thông tin về segmentation, bao gồm bản chất của segment và business impact của segment đó. \n",
    "\n",
    "Ví dụ: như nhóm KH Hàng hiệu (màu đỏ), có membership-lifespan ở mức lâu năm (trung thành), chỉ số income ở mức rất tốt so với mặt bằng chung. Về chỉ số business impact thì đóng góp total_revenue rất lớn cho công ty và tương ứng mỗi order cũng cao hơn so với mặt bằng chung\n",
    "\n",
    "Ngược lại thì nhóm thích đọc sách là nhóm có chi tiêu thấp nhất"
   ]
  },
  {
   "cell_type": "markdown",
   "id": "35657405-485d-4d20-a1ee-b3d06d736f1b",
   "metadata": {},
   "source": [
    "## 2. Personalized Promotion\n",
    "\n",
    "Từ những Segmentation ở trên làm tiền đề cho thiết kế Promotion Campaigns, bạn sẽ phân tích và thảo luận với các sếp bên marketing để thiết kế các chương trình promotion cho từng phân khúc KH mà công ty mong muốn + kết hợp các sự kiện hoặc mùa trong năm để đưa ra quyết định\n",
    "\n",
    "\n",
    "Ví dụ:\n",
    "\n",
    "- Khuyến mãi cho phân khúc KH có gia đình con nhỏ, sản phẩm bỉm, sữa, đồ dùng liên quan gia đình...\n",
    "\n",
    "- Khuyến mãi sản phẩm đồ dùng công nghệ, high-tech cho phân khúc KH thuộc tech-savy,...\n",
    "\n",
    "- Khuyến mãi đồ dùng hàng hiệu mắc tiền cho phân khúc khách hàng VIP và thích đồ thời trang...\n",
    "\n",
    "- Khuyến mãi thanh toán hóa đơn điện thoại, điện nước...\n",
    "\n",
    "- Khuyến mãi giảm giá đồ hiệu Channel, Gucci, Hermes cho khách hàng chi tiêu hơn 5 triệu...\n",
    "\n",
    "- ..."
   ]
  },
  {
   "cell_type": "markdown",
   "id": "0711ba57-48ff-48a1-afa1-d5d8c12a4edf",
   "metadata": {},
   "source": [
    "Nhìn chung Personalized vẫn hướng tới là tăng doanh thu, thúc đẩy tiêu dùng và thu hút khách hàng.\n",
    "Sẽ có 3 nhóm khách hàng để personalized mà công ty muốn hướng tới:\n",
    "\n",
    "- Nhóm khách hàng mới\n",
    "  - Personalized để lôi kéo KH và giữ chân KH ở lại hệ sinh thái\n",
    "  - Nhóm KH này thích xài promotion, khi nào có mới sử dụng\n",
    "  - Nhóm này tỷ lệ fraud và churn-rate rất cao\n",
    "  - Nhóm KH này tương đối mất nhiều chi phí cho promotion"
   ]
  },
  {
   "cell_type": "markdown",
   "id": "dcaa1a62-43c0-41bb-8326-ba36a6b5067f",
   "metadata": {},
   "source": [
    "- Nhóm khách hàng đã ở được 1 thời gian\n",
    "  - Personalized để keep họ trong hệ sinh thái\n",
    "  - Tăng tương tác và chỉnh lại thói quen tiêu xài promotion\n",
    "  - Nhóm KH này đôi khi có hoặc không có promotion nhưng nhóm KH này vẫn sử dụng dịch vụ của công ty\n",
    "  - Chi phí promotion được tối ưu nhất trong nhóm này"
   ]
  },
  {
   "cell_type": "markdown",
   "id": "89573150-7d71-452f-8fdf-4dbcb7cd7e22",
   "metadata": {},
   "source": [
    "- Nhóm khách hàng lâu năm, trung thành\n",
    "  - Nhóm KH này họ đã quen với việc ko hoặc có ít promotion nhưng họ vẫn muốn xài \n",
    "  - Khi mà mọi thứ đã hội tụ (converge) nhóm này rất trung thành với công ty và ko từ bỏ được\n",
    "  - Công ty dễ dàng cross-sell & up-sell nhóm này nhất\n",
    "  - Đây là nhóm sinh lợi nhuận cho công ty, và công ty muốn càng nhiều KH convert sang nhóm này nhất"
   ]
  },
  {
   "cell_type": "markdown",
   "id": "c5d4dce1-9bf1-4b3b-a2f1-6b3c3e0bdfe4",
   "metadata": {},
   "source": [
    "Convert được nhóm cuối cũng là 1 quá trình hiểu được KH muốn gì. Và Recommendation là bài toán dễ biết được KH có happy hay không với chiến thuật marketing của công ty"
   ]
  },
  {
   "cell_type": "markdown",
   "id": "5ef6fe54-fb36-4d26-a925-5636ec9a3536",
   "metadata": {},
   "source": [
    "## 3. Recommendation System"
   ]
  },
  {
   "cell_type": "markdown",
   "id": "08f56ced-a8cf-4833-8243-fc8ede359740",
   "metadata": {},
   "source": [
    "Recommendation có 2 dạng chính là Content-based Recommendation System & Collaborative Filtering Recommendation\n",
    "\n",
    "- **Content-Based Recommendation System**: dựa vào thuộc tính của các sản phẩm, ví dụ như tên, nhà sản xuất, giá cả, chỉ số, mô tả... để đưa ra các sản phẩm tương tự nhau\n",
    "\n",
    "- **Collaborative Filtering Recommendation System**: dựa vào behaviours của những users có xu hướng tương tự để gợi ý ra các sản phẩm cho ngừoi dùng. Có thể tưởng tượng dư này: Anh A mua sản phẩm X, Y, Z, anh B mua sản phẩm X, Y thì khả năng cao anh B cũng sẽ mua Z nên gợi ý Z cho anh B là hợp lý\n",
    "\n",
    "- **Hybrid**: là sự kết hợp của 2 cách trên lại gọi là Hybrid Recommendation System"
   ]
  },
  {
   "cell_type": "markdown",
   "id": "d1037a0e-b5b8-4762-a618-c888ebd9029c",
   "metadata": {},
   "source": [
    "Các bạn có thể đọc thêm\n",
    "\n",
    "- [Content-based](https://machinelearningcoban.com/2017/05/17/contentbasedrecommendersys/)\n",
    "\n",
    "- [Collaborative Filtering](https://machinelearningcoban.com/2017/05/24/collaborativefiltering/)"
   ]
  },
  {
   "cell_type": "markdown",
   "id": "0dafd664-db33-4190-9668-13054fcd8dcf",
   "metadata": {},
   "source": [
    "Chúng ta sẽ target vào Collaborative Filtering ở bài tập sau"
   ]
  },
  {
   "cell_type": "markdown",
   "id": "be87eefa-3848-4811-a818-d5726d46175c",
   "metadata": {},
   "source": [
    "# C. Conclusion"
   ]
  },
  {
   "cell_type": "markdown",
   "id": "2f866560-8b9c-46c7-81f6-e23e219a2811",
   "metadata": {},
   "source": [
    "Phần này các bạn đã được biết sơ bộ 1 số thông tin về:\n",
    "\n",
    "- Các chỉ số quan trọng trong marketing để đo lường độ hiểu quả của công ty\n",
    "- Cách phát triển customer-segmentation và business-impact\n",
    "- Mục đích và chiến thuật lâu dài của marketing/promotion\n",
    "- Giới thiệu về Recommendation"
   ]
  },
  {
   "cell_type": "code",
   "execution_count": null,
   "id": "c55f1f96-07bb-4d0e-8f84-52f3d8b65a29",
   "metadata": {},
   "outputs": [],
   "source": []
  }
 ],
 "metadata": {
  "kernelspec": {
   "display_name": "Python [conda env:aicv]",
   "language": "python",
   "name": "conda-env-aicv-py"
  },
  "language_info": {
   "codemirror_mode": {
    "name": "ipython",
    "version": 3
   },
   "file_extension": ".py",
   "mimetype": "text/x-python",
   "name": "python",
   "nbconvert_exporter": "python",
   "pygments_lexer": "ipython3",
   "version": "3.10.10"
  }
 },
 "nbformat": 4,
 "nbformat_minor": 5
}
